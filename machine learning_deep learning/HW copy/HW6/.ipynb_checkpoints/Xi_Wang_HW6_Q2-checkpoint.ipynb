{
 "cells": [
  {
   "cell_type": "code",
   "execution_count": 0,
   "metadata": {
    "colab": {},
    "colab_type": "code",
    "id": "Nwcq3KG1BMBa"
   },
   "outputs": [],
   "source": [
    "########## (a) ##########\n",
    "# This code is used for JHU CS 482/682: Deep Learning 2019 Spring Homework 4\n",
    "# Copyright @ Johns Hopkins University, Cong Gao, cgao11@jhu.edu\n",
    "import os\n",
    "\n",
    "import torch\n",
    "import torchvision\n",
    "from torch import nn\n",
    "from torch.autograd import Variable\n",
    "from torch.utils.data import DataLoader\n",
    "from torchvision import transforms\n",
    "from torchvision.datasets import FashionMNIST\n",
    "\n",
    "# IMPORTANT: This function is used for de-normalizing image to original domain,\n",
    "# please use this if you want to visualize/recover your output result\n",
    "def to_img(x):\n",
    "    x = 0.5 * (x + 1)\n",
    "    x = x.clamp(0, 1)\n",
    "    x = x.view(x.size(0), 1, 28, 28)\n",
    "    return x\n",
    "\n",
    "# These hyperparameters can be changed\n",
    "num_epochs = 100\n",
    "batch_size = 196 ## was 64\n",
    "learning_rate = 1e-3\n",
    "\n",
    "# This is a recommended normalization method. You can design your own\n",
    "\n",
    "################\n",
    "img_transform = transforms.Compose([\n",
    "    transforms.ToTensor(),\n",
    "    transforms.Normalize((0.5, ), (0.5, ))\n",
    "])\n",
    "\n",
    "# Dataset wiill be downloaded to './data' folder\n",
    "dataset = FashionMNIST('./data', transform=img_transform, download=True)\n",
    "train_dataset = FashionMNIST('./data', train=True, transform=img_transform, download=True)\n",
    "test_dataset = FashionMNIST('./data', train=False, transform=img_transform, download=True)\n",
    "dataloader = DataLoader(dataset, batch_size=batch_size, shuffle=True)\n",
    "train_loader = DataLoader(dataset=train_dataset,\n",
    "                                           batch_size=batch_size,\n",
    "                                           shuffle=True);\n",
    "test_loader = DataLoader(dataset=test_dataset,\n",
    "                                          batch_size=batch_size,\n",
    "                                          shuffle=True);"
   ]
  },
  {
   "cell_type": "code",
   "execution_count": 0,
   "metadata": {
    "colab": {},
    "colab_type": "code",
    "id": "a_qS6t6evFb5"
   },
   "outputs": [],
   "source": [
    "########## (a) ##########\n",
    "import torchvision.models as models\n",
    "vgg16 = models.vgg16()\n",
    "model = vgg16\n",
    "model.classifier[6] = nn.Linear(4096, 10)\n",
    "if torch.cuda.is_available(): #use gpu if available\n",
    "    model.cuda()"
   ]
  },
  {
   "cell_type": "code",
   "execution_count": 3,
   "metadata": {
    "colab": {
     "base_uri": "https://localhost:8080/",
     "height": 451
    },
    "colab_type": "code",
    "executionInfo": {
     "elapsed": 896783,
     "status": "error",
     "timestamp": 1555202107975,
     "user": {
      "displayName": "Xi Wang",
      "photoUrl": "",
      "userId": "13625130147255046885"
     },
     "user_tz": 240
    },
    "id": "H_sCus9--5Lu",
    "outputId": "88f6da47-2ea3-4aa3-c6c4-8cf9893715f2"
   },
   "outputs": [
    {
     "name": "stdout",
     "output_type": "stream",
     "text": [
      ". . . . . . . . . . . . . . . . . . . . . . . . . . . . . . . Epoch: 1\n",
      "Training Loss: 2.3025\n",
      "3m 42s\n",
      ". . . . . . . . . . . . . . . . . . . . . . . . . . . . . . . Epoch: 2\n",
      "Training Loss: 2.3038\n",
      "3m 41s\n",
      ". . . . . . . . . . . . . . . . . . . . . . . . . . . . . . . Epoch: 3\n",
      "Training Loss: 2.3023\n",
      "3m 42s\n",
      ". . . . . . . . . . . . . . . . . . . . . . . . . . . . . . . Epoch: 4\n",
      "Training Loss: 2.3030\n",
      "3m 42s\n"
     ]
    },
    {
     "ename": "KeyboardInterrupt",
     "evalue": "ignored",
     "output_type": "error",
     "traceback": [
      "\u001b[0;31m---------------------------------------------------------------------------\u001b[0m",
      "\u001b[0;31mKeyboardInterrupt\u001b[0m                         Traceback (most recent call last)",
      "\u001b[0;32m<ipython-input-3-5b4d416ed94d>\u001b[0m in \u001b[0;36m<module>\u001b[0;34m()\u001b[0m\n\u001b[1;32m     21\u001b[0m \u001b[0;34m\u001b[0m\u001b[0m\n\u001b[1;32m     22\u001b[0m         \u001b[0moptimizer\u001b[0m\u001b[0;34m.\u001b[0m\u001b[0mzero_grad\u001b[0m\u001b[0;34m(\u001b[0m\u001b[0;34m)\u001b[0m\u001b[0;34m\u001b[0m\u001b[0;34m\u001b[0m\u001b[0m\n\u001b[0;32m---> 23\u001b[0;31m         \u001b[0moutputs\u001b[0m \u001b[0;34m=\u001b[0m \u001b[0mmodel\u001b[0m\u001b[0;34m(\u001b[0m\u001b[0mimages\u001b[0m\u001b[0;34m.\u001b[0m\u001b[0mcuda\u001b[0m\u001b[0;34m(\u001b[0m\u001b[0;34m)\u001b[0m\u001b[0;34m)\u001b[0m\u001b[0;34m\u001b[0m\u001b[0;34m\u001b[0m\u001b[0m\n\u001b[0m\u001b[1;32m     24\u001b[0m \u001b[0;34m\u001b[0m\u001b[0m\n\u001b[1;32m     25\u001b[0m         \u001b[0mloss\u001b[0m \u001b[0;34m=\u001b[0m \u001b[0mcriterion\u001b[0m\u001b[0;34m(\u001b[0m\u001b[0moutputs\u001b[0m\u001b[0;34m,\u001b[0m \u001b[0mlabels\u001b[0m\u001b[0;34m.\u001b[0m\u001b[0mcuda\u001b[0m\u001b[0;34m(\u001b[0m\u001b[0;34m)\u001b[0m\u001b[0;34m)\u001b[0m\u001b[0;34m\u001b[0m\u001b[0;34m\u001b[0m\u001b[0m\n",
      "\u001b[0;31mKeyboardInterrupt\u001b[0m: "
     ]
    }
   ],
   "source": [
    "########## (a) ##########\n",
    "import time\n",
    "import numpy as np\n",
    "\n",
    "\n",
    "# This is a recommended optimizer setting\n",
    "optimizer = torch.optim.Adam(model.parameters(), lr=learning_rate, weight_decay=1e-5)\n",
    "scheduler = torch.optim.lr_scheduler.StepLR(optimizer, step_size=10, gamma=0.1)\n",
    "\n",
    "criterion = nn.CrossEntropyLoss()\n",
    "\n",
    "# Training & Validation\n",
    "for epoch in range(num_epochs):\n",
    "    since = time.time()\n",
    "    bar = 0\n",
    "    for i, (images, labels) in enumerate(train_loader):\n",
    "\n",
    "        images = Variable(images.float())\n",
    "        labels = Variable(labels)\n",
    "\n",
    "        images = torch.cat((images, images, images),1)\n",
    "        \n",
    "        optimizer.zero_grad()\n",
    "        outputs = model(images.cuda())\n",
    "\n",
    "        loss = criterion(outputs, labels.cuda())\n",
    "        loss.backward()\n",
    "        optimizer.step()\n",
    "        bar += 1\n",
    "        if bar == 10:\n",
    "            print('.', end=\" \")\n",
    "            bar = 0\n",
    "    print(\"Epoch: %d\" % (epoch+1))\n",
    "    print(\"Training Loss: %.4f\" % (loss.data.item()))\n",
    "    ### Timing\n",
    "    time_elapsed = time.time() - since\n",
    "    print('{:.0f}m {:.0f}s'.format(time_elapsed // 60, time_elapsed % 60))"
   ]
  },
  {
   "cell_type": "code",
   "execution_count": 4,
   "metadata": {
    "colab": {
     "base_uri": "https://localhost:8080/",
     "height": 34
    },
    "colab_type": "code",
    "executionInfo": {
     "elapsed": 7209,
     "status": "ok",
     "timestamp": 1555202120626,
     "user": {
      "displayName": "Xi Wang",
      "photoUrl": "",
      "userId": "13625130147255046885"
     },
     "user_tz": 240
    },
    "id": "3oh30QGKA-bi",
    "outputId": "4b85d3df-36ea-404f-95b7-01fca2726db2"
   },
   "outputs": [
    {
     "name": "stdout",
     "output_type": "stream",
     "text": [
      "Test Accuracy is: 10.0%\n"
     ]
    }
   ],
   "source": [
    "########## (a) ##########\n",
    "model.eval()\n",
    "test_correct = 0\n",
    "test_num = 0\n",
    "for (images, labels) in test_loader:\n",
    "    images = Variable(images.float())\n",
    "    images = torch.cat((images, images, images),1)\n",
    "    \n",
    "    outputs = model(images.cuda())\n",
    "\n",
    "    a, predicted = torch.max(outputs.data, 1)\n",
    "    test_num += len(labels)\n",
    "    test_correct += (predicted == labels.cuda()).sum().item()\n",
    "print(\"Test Accuracy is: \" + str(test_correct/float(test_num)*100) + \"%\")"
   ]
  },
  {
   "cell_type": "code",
   "execution_count": 6,
   "metadata": {
    "colab": {
     "base_uri": "https://localhost:8080/",
     "height": 70
    },
    "colab_type": "code",
    "executionInfo": {
     "elapsed": 41896,
     "status": "ok",
     "timestamp": 1555202223881,
     "user": {
      "displayName": "Xi Wang",
      "photoUrl": "",
      "userId": "13625130147255046885"
     },
     "user_tz": 240
    },
    "id": "d_M5HJhHZFA7",
    "outputId": "579a557f-a925-4621-b778-cdb09fedf942"
   },
   "outputs": [
    {
     "name": "stderr",
     "output_type": "stream",
     "text": [
      "Downloading: \"https://download.pytorch.org/models/vgg16-397923af.pth\" to /root/.torch/models/vgg16-397923af.pth\n",
      "553433881it [00:39, 13993270.92it/s]\n"
     ]
    }
   ],
   "source": [
    "########## (b) ##########\n",
    "import torchvision.models as models\n",
    "vgg16 = models.vgg16(pretrained=True)\n",
    "model = vgg16\n",
    "for param in model.parameters():\n",
    "    param.requires_grad = False\n",
    "model.classifier[6]=nn.Linear(4096, 10)"
   ]
  },
  {
   "cell_type": "code",
   "execution_count": 9,
   "metadata": {
    "colab": {
     "base_uri": "https://localhost:8080/",
     "height": 1274
    },
    "colab_type": "code",
    "executionInfo": {
     "elapsed": 714371,
     "status": "error",
     "timestamp": 1555203257674,
     "user": {
      "displayName": "Xi Wang",
      "photoUrl": "",
      "userId": "13625130147255046885"
     },
     "user_tz": 240
    },
    "id": "HMSasioEvNsY",
    "outputId": "64035af9-18b5-4d26-b436-d53c88af7944"
   },
   "outputs": [
    {
     "name": "stdout",
     "output_type": "stream",
     "text": [
      ". . . . . . . . . Epoch: 1\n",
      "Training Loss: 0.6915\n",
      "0m 34s\n",
      ". . . . . . . . . Epoch: 2\n",
      "Training Loss: 0.6825\n",
      "0m 34s\n",
      ". . . . . . . . . Epoch: 3\n",
      "Training Loss: 0.6841\n",
      "0m 34s\n",
      ". . . . . . . . . Epoch: 4\n",
      "Training Loss: 0.6855\n",
      "0m 34s\n",
      ". . . . . . . . . Epoch: 5\n",
      "Training Loss: 0.6787\n",
      "0m 34s\n",
      ". . . . . . . . . Epoch: 6\n",
      "Training Loss: 0.6827\n",
      "0m 34s\n",
      ". . . . . . . . . Epoch: 7\n",
      "Training Loss: 0.6761\n",
      "0m 34s\n",
      ". . . . . . . . . Epoch: 8\n",
      "Training Loss: 0.6780\n",
      "0m 34s\n",
      ". . . . . . . . . Epoch: 9\n",
      "Training Loss: 0.6751\n",
      "0m 34s\n",
      ". . . . . . . . . Epoch: 10\n",
      "Training Loss: 0.6733\n",
      "0m 34s\n",
      ". . . . . . . . . Epoch: 11\n",
      "Training Loss: 0.6785\n",
      "0m 34s\n",
      ". . . . . . . . . Epoch: 12\n",
      "Training Loss: 0.6746\n",
      "0m 34s\n",
      ". . . . . . . . . Epoch: 13\n",
      "Training Loss: 0.6820\n",
      "0m 34s\n",
      ". . . . . . . . . Epoch: 14\n",
      "Training Loss: 0.6784\n",
      "0m 35s\n",
      ". . . . . . . . . Epoch: 15\n",
      "Training Loss: 0.6764\n",
      "0m 35s\n",
      ". . . . . . . . . Epoch: 16\n",
      "Training Loss: 0.6725\n",
      "0m 35s\n",
      ". . . . . . . . . Epoch: 17\n",
      "Training Loss: 0.6745\n",
      "0m 35s\n",
      ". . . . . . . . . Epoch: 18\n",
      "Training Loss: 0.6750\n",
      "0m 35s\n",
      ". . . . . . . . . Epoch: 19\n",
      "Training Loss: 0.6730\n",
      "0m 35s\n",
      ". . . . . . . . . Epoch: 20\n",
      "Training Loss: 0.6742\n",
      "0m 35s\n",
      ". . . . . . "
     ]
    },
    {
     "ename": "KeyboardInterrupt",
     "evalue": "ignored",
     "output_type": "error",
     "traceback": [
      "\u001b[0;31m---------------------------------------------------------------------------\u001b[0m",
      "\u001b[0;31mKeyboardInterrupt\u001b[0m                         Traceback (most recent call last)",
      "\u001b[0;32m<ipython-input-9-85ef4096f9c9>\u001b[0m in \u001b[0;36m<module>\u001b[0;34m()\u001b[0m\n\u001b[1;32m     24\u001b[0m         \u001b[0moutputs\u001b[0m \u001b[0;34m=\u001b[0m \u001b[0mmodel\u001b[0m\u001b[0;34m(\u001b[0m\u001b[0mimages\u001b[0m\u001b[0;34m.\u001b[0m\u001b[0mcuda\u001b[0m\u001b[0;34m(\u001b[0m\u001b[0;34m)\u001b[0m\u001b[0;34m)\u001b[0m\u001b[0;34m\u001b[0m\u001b[0;34m\u001b[0m\u001b[0m\n\u001b[1;32m     25\u001b[0m \u001b[0;34m\u001b[0m\u001b[0m\n\u001b[0;32m---> 26\u001b[0;31m         \u001b[0mloss\u001b[0m \u001b[0;34m=\u001b[0m \u001b[0mcriterion\u001b[0m\u001b[0;34m(\u001b[0m\u001b[0moutputs\u001b[0m\u001b[0;34m,\u001b[0m \u001b[0mlabels\u001b[0m\u001b[0;34m.\u001b[0m\u001b[0mcuda\u001b[0m\u001b[0;34m(\u001b[0m\u001b[0;34m)\u001b[0m\u001b[0;34m)\u001b[0m\u001b[0;34m\u001b[0m\u001b[0;34m\u001b[0m\u001b[0m\n\u001b[0m\u001b[1;32m     27\u001b[0m         \u001b[0mloss\u001b[0m\u001b[0;34m.\u001b[0m\u001b[0mbackward\u001b[0m\u001b[0;34m(\u001b[0m\u001b[0;34m)\u001b[0m\u001b[0;34m\u001b[0m\u001b[0;34m\u001b[0m\u001b[0m\n\u001b[1;32m     28\u001b[0m         \u001b[0moptimizer\u001b[0m\u001b[0;34m.\u001b[0m\u001b[0mstep\u001b[0m\u001b[0;34m(\u001b[0m\u001b[0;34m)\u001b[0m\u001b[0;34m\u001b[0m\u001b[0;34m\u001b[0m\u001b[0m\n",
      "\u001b[0;31mKeyboardInterrupt\u001b[0m: "
     ]
    }
   ],
   "source": [
    "########## (b) ##########\n",
    "import time\n",
    "import numpy as np\n",
    "if torch.cuda.is_available(): #use gpu if available\n",
    "    model.cuda()\n",
    "\n",
    "# This is a recommended optimizer setting\n",
    "optimizer = torch.optim.Adam(model.parameters(), lr=learning_rate, weight_decay=1e-5)\n",
    "scheduler = torch.optim.lr_scheduler.StepLR(optimizer, step_size=10, gamma=0.1)\n",
    "\n",
    "criterion = nn.CrossEntropyLoss()\n",
    "\n",
    "# Training & Validation\n",
    "for epoch in range(num_epochs):\n",
    "    since = time.time()\n",
    "    losses=[]\n",
    "    bar = 0\n",
    "\n",
    "    for i, (images, labels) in enumerate(train_loader):\n",
    "        images = Variable(images.float())\n",
    "        labels = Variable(labels)\n",
    "        images = torch.cat((images, images, images),1)\n",
    "        \n",
    "        optimizer.zero_grad()\n",
    "        outputs = model(images.cuda())\n",
    "\n",
    "        loss = criterion(outputs, labels.cuda())\n",
    "        loss.backward()\n",
    "        optimizer.step()\n",
    "        \n",
    "        losses.append(loss.data.item())\n",
    "        bar += 1\n",
    "        if bar == 10:\n",
    "            print('.', end=\" \")\n",
    "            bar = 0\n",
    "    mean_loss = sum(losses)/len(losses)\n",
    "    print(\"Epoch: %d\" % (epoch+1))\n",
    "    print(\"Training Loss: %.4f\" % (mean_loss))\n",
    "    time_elapsed = time.time() - since\n",
    "    print('{:.0f}m {:.0f}s'.format(time_elapsed // 60, time_elapsed % 60))"
   ]
  },
  {
   "cell_type": "code",
   "execution_count": 10,
   "metadata": {
    "colab": {
     "base_uri": "https://localhost:8080/",
     "height": 34
    },
    "colab_type": "code",
    "executionInfo": {
     "elapsed": 6151,
     "status": "ok",
     "timestamp": 1555203269082,
     "user": {
      "displayName": "Xi Wang",
      "photoUrl": "",
      "userId": "13625130147255046885"
     },
     "user_tz": 240
    },
    "id": "5w4GfnWQ4E7m",
    "outputId": "1f7f9407-8a58-415d-d659-ef5e9aa9e04c"
   },
   "outputs": [
    {
     "name": "stdout",
     "output_type": "stream",
     "text": [
      "Test Accuracy is: 76.86%\n"
     ]
    }
   ],
   "source": [
    "########## (b) ##########\n",
    "model.eval()\n",
    "test_correct = 0\n",
    "test_num = 0\n",
    "for (images, labels) in test_loader:\n",
    "    images = Variable(images.float())\n",
    "    images = torch.cat((images, images, images),1)\n",
    "    \n",
    "    outputs = model(images.cuda())\n",
    "\n",
    "    a, predicted = torch.max(outputs.data, 1)\n",
    "    test_num += len(labels)\n",
    "    test_correct += (predicted == labels.cuda()).sum().item()\n",
    "print(\"Test Accuracy is: \" + str(test_correct/float(test_num)*100) + \"%\")"
   ]
  },
  {
   "cell_type": "code",
   "execution_count": 0,
   "metadata": {
    "colab": {},
    "colab_type": "code",
    "id": "62r4Ux3Zc8yQ"
   },
   "outputs": [],
   "source": [
    "########## (c) ##########\n",
    "import torchvision.models as models\n",
    "vgg16 = models.vgg16(pretrained=True)\n",
    "model = vgg16\n",
    "model.features.requires_grad = False\n",
    "model.avgpool.requires_grad = False\n",
    "model.classifier[6] = nn.Linear(4096, 10)"
   ]
  },
  {
   "cell_type": "code",
   "execution_count": 15,
   "metadata": {
    "colab": {
     "base_uri": "https://localhost:8080/",
     "height": 502
    },
    "colab_type": "code",
    "executionInfo": {
     "elapsed": 1040825,
     "status": "error",
     "timestamp": 1555207507489,
     "user": {
      "displayName": "Xi Wang",
      "photoUrl": "",
      "userId": "13625130147255046885"
     },
     "user_tz": 240
    },
    "id": "I31rSzbac_f9",
    "outputId": "f118b350-60f9-4545-f40f-5cd58b2c75d5"
   },
   "outputs": [
    {
     "name": "stdout",
     "output_type": "stream",
     "text": [
      ". . . . . . . . . Epoch: 1\n",
      "Training Loss: 0.8685\n",
      "3m 27s\n",
      ". . . . . . . . . Epoch: 2\n",
      "Training Loss: 0.2630\n",
      "3m 27s\n",
      ". . . . . . . . . Epoch: 3\n",
      "Training Loss: 0.1578\n",
      "3m 27s\n",
      ". . . . . . . . . Epoch: 4\n",
      "Training Loss: 0.1092\n",
      "3m 27s\n",
      ". . . . . . . . . Epoch: 5\n",
      "Training Loss: 0.0818\n",
      "3m 27s\n"
     ]
    },
    {
     "ename": "KeyboardInterrupt",
     "evalue": "ignored",
     "output_type": "error",
     "traceback": [
      "\u001b[0;31m---------------------------------------------------------------------------\u001b[0m",
      "\u001b[0;31mKeyboardInterrupt\u001b[0m                         Traceback (most recent call last)",
      "\u001b[0;32m<ipython-input-15-6953154fff40>\u001b[0m in \u001b[0;36m<module>\u001b[0;34m()\u001b[0m\n\u001b[1;32m     30\u001b[0m         \u001b[0moptimizer\u001b[0m\u001b[0;34m.\u001b[0m\u001b[0mstep\u001b[0m\u001b[0;34m(\u001b[0m\u001b[0;34m)\u001b[0m\u001b[0;34m\u001b[0m\u001b[0;34m\u001b[0m\u001b[0m\n\u001b[1;32m     31\u001b[0m \u001b[0;34m\u001b[0m\u001b[0m\n\u001b[0;32m---> 32\u001b[0;31m         \u001b[0mlosses\u001b[0m\u001b[0;34m.\u001b[0m\u001b[0mappend\u001b[0m\u001b[0;34m(\u001b[0m\u001b[0mloss\u001b[0m\u001b[0;34m.\u001b[0m\u001b[0mdata\u001b[0m\u001b[0;34m.\u001b[0m\u001b[0mitem\u001b[0m\u001b[0;34m(\u001b[0m\u001b[0;34m)\u001b[0m\u001b[0;34m)\u001b[0m\u001b[0;34m\u001b[0m\u001b[0;34m\u001b[0m\u001b[0m\n\u001b[0m\u001b[1;32m     33\u001b[0m         \u001b[0mbar\u001b[0m \u001b[0;34m+=\u001b[0m \u001b[0;36m1\u001b[0m\u001b[0;34m\u001b[0m\u001b[0;34m\u001b[0m\u001b[0m\n\u001b[1;32m     34\u001b[0m         \u001b[0;32mif\u001b[0m \u001b[0mbar\u001b[0m \u001b[0;34m==\u001b[0m \u001b[0;36m10\u001b[0m\u001b[0;34m:\u001b[0m\u001b[0;34m\u001b[0m\u001b[0;34m\u001b[0m\u001b[0m\n",
      "\u001b[0;31mKeyboardInterrupt\u001b[0m: "
     ]
    }
   ],
   "source": [
    "########## (c) ##########\n",
    "batch_size = 196 ## was 64\n",
    "\n",
    "import time\n",
    "import numpy as np\n",
    "if torch.cuda.is_available(): #use gpu if available\n",
    "    model.cuda()\n",
    "\n",
    "# This is a recommended optimizer setting\n",
    "optimizer = torch.optim.Adam(model.parameters(), lr=learning_rate, weight_decay=1e-5)\n",
    "scheduler = torch.optim.lr_scheduler.StepLR(optimizer, step_size=10, gamma=0.1)\n",
    "\n",
    "criterion = nn.CrossEntropyLoss()\n",
    "\n",
    "# Training & Validation\n",
    "for epoch in range(num_epochs):\n",
    "    since = time.time()\n",
    "    losses=[]\n",
    "    bar = 0\n",
    "\n",
    "    for i, (images, labels) in enumerate(train_loader):\n",
    "        images = Variable(images.float())\n",
    "        labels = Variable(labels)\n",
    "        images = torch.cat((images, images, images),1)\n",
    "        \n",
    "        optimizer.zero_grad()\n",
    "        outputs = model(images.cuda())\n",
    "\n",
    "        loss = criterion(outputs, labels.cuda())\n",
    "        loss.backward()\n",
    "        optimizer.step()\n",
    "        \n",
    "        losses.append(loss.data.item())\n",
    "        bar += 1\n",
    "        if bar == 10:\n",
    "            print('.', end=\" \")\n",
    "            bar = 0\n",
    "    mean_loss = sum(losses)/len(losses)\n",
    "    print(\"Epoch: %d\" % (epoch+1))\n",
    "    print(\"Training Loss: %.4f\" % (mean_loss))\n",
    "    time_elapsed = time.time() - since\n",
    "    print('{:.0f}m {:.0f}s'.format(time_elapsed // 60, time_elapsed % 60))"
   ]
  },
  {
   "cell_type": "code",
   "execution_count": 16,
   "metadata": {
    "colab": {
     "base_uri": "https://localhost:8080/",
     "height": 34
    },
    "colab_type": "code",
    "executionInfo": {
     "elapsed": 6024,
     "status": "ok",
     "timestamp": 1555207515972,
     "user": {
      "displayName": "Xi Wang",
      "photoUrl": "",
      "userId": "13625130147255046885"
     },
     "user_tz": 240
    },
    "id": "q9q32d52dAbd",
    "outputId": "75a9eb2d-60c4-4c37-b49e-b5d38789a958"
   },
   "outputs": [
    {
     "name": "stdout",
     "output_type": "stream",
     "text": [
      "Test Accuracy is: 93.55%\n"
     ]
    }
   ],
   "source": [
    "########## (c) ##########\n",
    "model.eval()\n",
    "test_correct = 0\n",
    "test_num = 0\n",
    "for (images, labels) in test_loader:\n",
    "    images = Variable(images.float())\n",
    "    images = torch.cat((images, images, images),1)\n",
    "    \n",
    "    outputs = model(images.cuda())\n",
    "\n",
    "    a, predicted = torch.max(outputs.data, 1)\n",
    "    test_num += len(labels)\n",
    "    test_correct += (predicted == labels.cuda()).sum().item()\n",
    "print(\"Test Accuracy is: \" + str(test_correct/float(test_num)*100) + \"%\")"
   ]
  },
  {
   "cell_type": "code",
   "execution_count": 0,
   "metadata": {
    "colab": {},
    "colab_type": "code",
    "id": "aR3LOOCohqeF"
   },
   "outputs": [],
   "source": []
  }
 ],
 "metadata": {
  "accelerator": "GPU",
  "colab": {
   "collapsed_sections": [],
   "name": "Xi_Wang_HW6_Q2.ipynb",
   "provenance": [],
   "version": "0.3.2"
  },
  "kernelspec": {
   "display_name": "Python 3",
   "language": "python",
   "name": "python3"
  },
  "language_info": {
   "codemirror_mode": {
    "name": "ipython",
    "version": 3
   },
   "file_extension": ".py",
   "mimetype": "text/x-python",
   "name": "python",
   "nbconvert_exporter": "python",
   "pygments_lexer": "ipython3",
   "version": "3.7.2"
  }
 },
 "nbformat": 4,
 "nbformat_minor": 1
}
