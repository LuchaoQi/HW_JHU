{
 "cells": [
  {
   "cell_type": "code",
   "execution_count": 129,
   "metadata": {},
   "outputs": [
    {
     "name": "stdout",
     "output_type": "stream",
     "text": [
      "(10000, 2)\n"
     ]
    }
   ],
   "source": [
    "import numpy as np\n",
    "\n",
    "data = np.load('HW4_data.npy')\n",
    "data[:,2]\n",
    "length = len(data[:,0])\n",
    "train = data[:50000,:2]\n",
    "test = data[-10000:,:2]"
   ]
  },
  {
   "cell_type": "code",
   "execution_count": 120,
   "metadata": {
    "scrolled": true
   },
   "outputs": [
    {
     "name": "stdout",
     "output_type": "stream",
     "text": [
      "1185.543844024748\n",
      "60000\n"
     ]
    }
   ],
   "source": [
    "########## (a) Manually Setting up MLP ##########\n",
    "dic = {}\n",
    "for i in range(10):\n",
    "    dic[i] = [0]*2\n",
    "dic[0][0] = np.array([-1,1])\n",
    "dic[0][1] = -5\n",
    "dic[1][0] = np.array([1,2])\n",
    "dic[1][1] = 14\n",
    "dic[2][0] = np.array([1,0])\n",
    "dic[2][1] = 6\n",
    "dic[3][0] = np.array([1,-2])\n",
    "dic[3][1] = -6\n",
    "dic[4][0] = np.array([-1,-1])\n",
    "dic[4][1] = -15\n",
    "dic[5][0] = np.array([-1,0.5])\n",
    "dic[5][1] = -3.5\n",
    "dic[6][0] = np.array([1,1])\n",
    "dic[6][1] = 5\n",
    "dic[7][0] = np.array([1,0])\n",
    "dic[7][1] = 2\n",
    "dic[8][0] = np.array([1,-1])\n",
    "dic[8][1] = -5\n",
    "dic[9][0] = np.array([-1,-0.5])\n",
    "dic[9][1] = -8.5\n",
    "for i in range(10):\n",
    "    dic[i][1] *= 100\n",
    "\n",
    "ans = [0]*length\n",
    "correct = 0\n",
    "for i in range(length):\n",
    "    x = np.array([data[i][1],data[i][0]])\n",
    "    y1 = 0\n",
    "    y2 = 0\n",
    "    for j in range(5):\n",
    "        y1 += 1*( x.dot(dic[j][0]) - dic[j][1] > 0 )\n",
    "        y2 += 1*( x.dot(dic[j+5][0]) - dic[j+5][1] > 0 )\n",
    "    if y1 >= 5 or y2 >= 5:\n",
    "        ans[i] = 1\n",
    "    if data[i,2] == ans[i]:\n",
    "        correct+= 1\n",
    "print(correct)"
   ]
  },
  {
   "cell_type": "code",
   "execution_count": 55,
   "metadata": {},
   "outputs": [
    {
     "data": {
      "image/png": "[encoded data removed]",
      "text/plain": [
       "<Figure size 432x288 with 1 Axes>"
      ]
     },
     "metadata": {
      "needs_background": "light"
     },
     "output_type": "display_data"
    }
   ],
   "source": [
    "######## Visualization ########\n",
    "# import matplotlib.pyplot as plt\n",
    "# for i in range(100):\n",
    "#     if data[i,2]==0:\n",
    "#         plt.plot(data[i,0],data[i,1],'r*',markersize=1)\n",
    "#     elif data[i,2]==1:\n",
    "#         plt.plot(data[i,0],data[i,1],'gx',markersize=1)\n",
    "\n",
    "# plt.show()"
   ]
  },
  {
   "cell_type": "code",
   "execution_count": null,
   "metadata": {},
   "outputs": [
    {
     "name": "stderr",
     "output_type": "stream",
     "text": [
      "/Library/Frameworks/Python.framework/Versions/3.7/lib/python3.7/site-packages/ipykernel_launcher.py:48: RuntimeWarning: overflow encountered in exp\n",
      "/Library/Frameworks/Python.framework/Versions/3.7/lib/python3.7/site-packages/ipykernel_launcher.py:3: RuntimeWarning: overflow encountered in exp\n",
      "  This is separate from the ipykernel package so we can avoid doing imports until\n"
     ]
    }
   ],
   "source": [
    "########## (b) ##########\n",
    "def sigmoid(f1):\n",
    "    sig = 1/( 1+np.exp(-f1) )\n",
    "    return sig\n",
    "\n",
    "dic = {}\n",
    "for i in range(length):\n",
    "    dic[i] = [0]*2\n",
    "dic[0][0] = np.array(np.random.uniform(-2,2,2))\n",
    "dic[0][1] = np.random.uniform(-1500,1400)\n",
    "dic[1][0] = np.array(np.random.uniform(-2,2,2))\n",
    "dic[1][1] = np.random.uniform(-1500,1400)\n",
    "dic[2][0] = np.array(np.random.uniform(-2,2,2))\n",
    "dic[2][1] = np.random.uniform(-1500,1400)\n",
    "dic[3][0] = np.array(np.random.uniform(-2,2,2))\n",
    "dic[3][1] = np.random.uniform(-1500,1400)\n",
    "dic[4][0] = np.array(np.random.uniform(-2,2,2))\n",
    "dic[4][1] = np.random.uniform(-1500,1400)\n",
    "dic[5][0] = np.array(np.random.uniform(-2,2,2))\n",
    "dic[5][1] = np.random.uniform(-1500,1400)\n",
    "dic[6][0] = np.array(np.random.uniform(-2,2,2))\n",
    "dic[6][1] = np.random.uniform(-1500,1400)\n",
    "dic[7][0] = np.array(np.random.uniform(-2,2,2))\n",
    "dic[7][1] = np.random.uniform(-1500,1400)\n",
    "dic[8][0] = np.array(np.random.uniform(-2,2,2))\n",
    "dic[8][1] = np.random.uniform(-1500,1400)\n",
    "dic[9][0] = np.array(np.random.uniform(-2,2,2))\n",
    "dic[9][1] = np.random.uniform(-1500,1400)\n",
    "\n",
    "iter_n = 6000\n",
    "step = 1000\n",
    "decay_counter = 0\n",
    "ans = [0]*length\n",
    "correct = 0\n",
    "for p in range(iter_n):\n",
    "    decay_counter += 1\n",
    "    if decay_counter == 100:\n",
    "        step *= 0.1\n",
    "        decay_counter = 0\n",
    "    for i in range(100):\n",
    "        x = np.array([data[i][1],data[i][0]])\n",
    "        y1 = 0\n",
    "        y2 = 0\n",
    "        softmax_denom = 0\n",
    "        for j in range(5):\n",
    "            y1 = x.dot(dic[j][0]) - dic[j][1]\n",
    "            y2 = x.dot(dic[j+5][0]) - dic[j+5][1]\n",
    "            softmax_denom += np.exp(y1) + np.exp(y2)\n",
    "            y1 += sigmoid(y1)\n",
    "            y2 += sigmoid(y2)\n",
    "        y1_and = sigmoid(y1)\n",
    "        y2_and = sigmoid(y2)\n",
    "        dy1_and = (1-y1_and)*y1_and\n",
    "        dy2_and = (1-y2_and)*y2_and\n",
    "\n",
    "        last = y1_and + y2_and\n",
    "        last = sigmoid(last)\n",
    "        dlast = (1-last)*last\n",
    "\n",
    "        for j in range(5):\n",
    "            y1 = x.dot(dic[j][0]) - dic[j][1]\n",
    "            y2 = x.dot(dic[j+5][0]) - dic[j+5][1]\n",
    "            dy1 = ( 1-sigmoid(y1) )*sigmoid(y1)\n",
    "            dy2 = ( 1-sigmoid(y2) )*sigmoid(y2)\n",
    "            \n",
    "            y_true = data[i,2]\n",
    "            dL = -(y_true/last)+(1-y_true)/(1-last)\n",
    "\n",
    "            dic[j][0] -= dL*step* ( dlast ) * ( dy1_and ) * dy1 * x\n",
    "            dic[j+5][0] -= dL*step* ( dlast ) * ( dy2_and ) * dy2 * x\n",
    "            dic[j][1] -= dL*step* ( dlast ) * ( dy1_and ) * dy1\n",
    "            dic[j+5][1] -= dL*step* ( dlast ) * ( dy2_and ) * dy2\n",
    "        if p == iter_n - 1:\n",
    "            if last > 0.5:\n",
    "                ans[i] = 1\n",
    "            if data[i,2] == ans[i]:\n",
    "                correct+= 1\n",
    "            print(data[i,2], ans[i])\n",
    "print(correct)"
   ]
  },
  {
   "cell_type": "code",
   "execution_count": null,
   "metadata": {},
   "outputs": [],
   "source": []
  },
  {
   "cell_type": "code",
   "execution_count": null,
   "metadata": {},
   "outputs": [],
   "source": []
  }
 ],
 "metadata": {
  "kernelspec": {
   "display_name": "Python 3",
   "language": "python",
   "name": "python3"
  },
  "language_info": {
   "codemirror_mode": {
    "name": "ipython",
    "version": 3
   },
   "file_extension": ".py",
   "mimetype": "text/x-python",
   "name": "python",
   "nbconvert_exporter": "python",
   "pygments_lexer": "ipython3",
   "version": "3.7.2"
  }
 },
 "nbformat": 4,
 "nbformat_minor": 2
}
