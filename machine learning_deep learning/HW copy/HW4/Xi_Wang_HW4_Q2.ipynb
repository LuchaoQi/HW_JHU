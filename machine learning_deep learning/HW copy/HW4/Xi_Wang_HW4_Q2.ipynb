{
 "cells": [
  {
   "cell_type": "code",
   "execution_count": null,
   "metadata": {
    "colab": {
     "base_uri": "https://localhost:8080/",
     "height": 122
    },
    "colab_type": "code",
    "executionInfo": {
     "elapsed": 22535,
     "status": "ok",
     "timestamp": 1552715031387,
     "user": {
      "displayName": "Xi Wang",
      "photoUrl": "",
      "userId": "14282931480726339478"
     },
     "user_tz": 240
    },
    "id": "8JnxRZdFW5Ao",
    "outputId": "ade0c7ac-78c6-4e19-cf5a-de122dd09eca"
   },
   "outputs": [],
   "source": []
  },
  {
   "cell_type": "code",
   "execution_count": 3,
   "metadata": {
    "colab": {},
    "colab_type": "code",
    "id": "DSz_3al-WzyZ"
   },
   "outputs": [],
   "source": [
    "####### (a) #######\n",
    "\n",
    "# This code is used for JHU CS 482/682: Deep Learning 2019 Spring Homework 4\n",
    "# Copyright @ Johns Hopkins University, Cong Gao, cgao11@jhu.edu\n",
    "import os\n",
    "\n",
    "import torch\n",
    "import torchvision\n",
    "from torch import nn\n",
    "from torch.autograd import Variable\n",
    "from torch.utils.data import DataLoader\n",
    "from torchvision import transforms\n",
    "from torchvision.datasets import FashionMNIST\n",
    "\n",
    "# IMPORTANT: This function is used for de-normalizing image to original domain,\n",
    "# please use this if you want to visualize/recover your output result\n",
    "def to_img(x):\n",
    "    x = 0.5 * (x + 1)\n",
    "    x = x.clamp(0, 1)\n",
    "    x = x.view(x.size(0), 1, 28, 28)\n",
    "    return x\n",
    "\n",
    "# These hyperparameters can be changed\n",
    "num_epochs = 10\n",
    "batch_size = 128\n",
    "learning_rate = 1e-3\n",
    "\n",
    "# This is a recommended normalization method. You can design your own\n",
    "img_transform = transforms.Compose([\n",
    "    transforms.ToTensor(),\n",
    "    transforms.Normalize((0.5, ), (0.5, ))\n",
    "])\n",
    "\n",
    "# Dataset wiill be downloaded to './data' folder\n",
    "train_dataset = FashionMNIST('./data', train=True, transform=img_transform, download=True)\n",
    "test_dataset = FashionMNIST('./data', train=False, transform=img_transform, download=True)\n",
    "train_loader = DataLoader(dataset=train_dataset,\n",
    "                                           batch_size=batch_size,\n",
    "                                           shuffle=True);\n",
    "test_loader = DataLoader(dataset=test_dataset,\n",
    "                                          batch_size=batch_size,\n",
    "                                          shuffle=True);"
   ]
  },
  {
   "cell_type": "code",
   "execution_count": 4,
   "metadata": {
    "colab": {},
    "colab_type": "code",
    "id": "hSxIoC-EoUMi"
   },
   "outputs": [],
   "source": [
    "######### (a)-continued #######\n",
    "class CNN(nn.Module):\n",
    "    def __init__(self):\n",
    "        super(CNN, self).__init__()\n",
    "        self.ly1 = nn.Sequential(\n",
    "            nn.Conv2d(1, 4, 3, 1, 1),\n",
    "            nn.ReLU(),\n",
    "            nn.MaxPool2d(2)\n",
    "        )\n",
    "        self.ly2 = nn.Sequential(\n",
    "            nn.Conv2d(4, 8, 4, 1, 2),\n",
    "            nn.ReLU(),\n",
    "            nn.MaxPool2d(2)\n",
    "        )\n",
    "        self.ly3 = nn.Sequential(\n",
    "            nn.Conv2d(8, 16, 5, 1, 3),\n",
    "            nn.ReLU(),\n",
    "            nn.MaxPool2d(2)\n",
    "        )\n",
    "        self.linear = nn.Linear(256,10)\n",
    "        \n",
    "    def forward(self, x):\n",
    "        x = self.ly1(x)\n",
    "        x = self.ly2(x)\n",
    "        x = self.ly3(x)\n",
    "        x = x.view(x.size(0), -1)\n",
    "        x = self.linear(x)\n",
    "        return x"
   ]
  },
  {
   "cell_type": "code",
   "execution_count": 5,
   "metadata": {
    "colab": {
     "base_uri": "https://localhost:8080/",
     "height": 374
    },
    "colab_type": "code",
    "executionInfo": {
     "elapsed": 368824,
     "status": "ok",
     "timestamp": 1552715377708,
     "user": {
      "displayName": "Xi Wang",
      "photoUrl": "",
      "userId": "14282931480726339478"
     },
     "user_tz": 240
    },
    "id": "C9zDIzQwmlok",
    "outputId": "f5a16ad7-246d-4127-f66e-5be4f36b2c0d"
   },
   "outputs": [
    {
     "name": "stdout",
     "output_type": "stream",
     "text": [
      "Epoch: 1\n",
      "Training Loss: 0.5979\n",
      "Epoch: 2\n",
      "Training Loss: 0.3705\n",
      "Epoch: 3\n",
      "Training Loss: 0.4828\n",
      "Epoch: 4\n",
      "Training Loss: 0.4454\n",
      "Epoch: 5\n",
      "Training Loss: 0.3996\n",
      "Epoch: 6\n",
      "Training Loss: 0.4554\n",
      "Epoch: 7\n",
      "Training Loss: 0.3040\n",
      "Epoch: 8\n",
      "Training Loss: 0.3436\n",
      "Epoch: 9\n",
      "Training Loss: 0.3631\n",
      "Epoch: 10\n",
      "Training Loss: 0.3579\n",
      "Test Accuracy is: 88.02%\n"
     ]
    }
   ],
   "source": [
    "######### (b) #########\n",
    "### Training\n",
    "cnn = CNN();\n",
    "\n",
    "criterion = nn.CrossEntropyLoss();\n",
    "optimizer = torch.optim.Adam(cnn.parameters(), lr=learning_rate, weight_decay=1e-5);\n",
    "\n",
    "losses = [];\n",
    "for epoch in range(num_epochs):\n",
    "    for i, (images, labels) in enumerate(train_loader):\n",
    "        images = Variable(images.float())\n",
    "        labels = Variable(labels)\n",
    "        \n",
    "        # Forward + Backward + Optimize\n",
    "        optimizer.zero_grad()\n",
    "        outputs = cnn(images)\n",
    "        loss = criterion(outputs, labels)\n",
    "        loss.backward()\n",
    "        optimizer.step()\n",
    "        \n",
    "        losses.append(loss.data.item());\n",
    "        \n",
    "    print(\"Epoch: %d\" % (epoch+1))\n",
    "    print(\"Training Loss: %.4f\" % (loss.data.item()))\n",
    "    \n",
    "### Testing\n",
    "cnn.eval()\n",
    "test_correct = 0\n",
    "test_num = 0\n",
    "for (images, labels) in test_loader:\n",
    "    images = Variable(images.float())\n",
    "    outputs = cnn(images)\n",
    "    a, predicted = torch.max(outputs.data, 1)\n",
    "    test_num += len(labels)\n",
    "    test_correct += (predicted == labels).sum().item()\n",
    "print(\"Test Accuracy is: \" + str(test_correct/test_num*100) + \"%\")"
   ]
  },
  {
   "cell_type": "code",
   "execution_count": 0,
   "metadata": {
    "colab": {},
    "colab_type": "code",
    "id": "DtlpdZK1moSs"
   },
   "outputs": [],
   "source": [
    "####### (c) #######\n",
    "class CNN2(nn.Module):\n",
    "    def __init__(self):\n",
    "        super(CNN2, self).__init__()\n",
    "        self.ly1 = nn.Sequential(\n",
    "            nn.Conv2d(1, 4, 3, 1, 1),\n",
    "            nn.BatchNorm2d(4),\n",
    "            nn.ReLU(),\n",
    "            nn.MaxPool2d(2)\n",
    "        )\n",
    "        self.ly2 = nn.Sequential(\n",
    "            nn.Conv2d(4, 8, 4, 1, 2),\n",
    "            nn.BatchNorm2d(8),\n",
    "            nn.ReLU(),\n",
    "            nn.MaxPool2d(2)\n",
    "        )\n",
    "        self.ly3 = nn.Sequential(\n",
    "            nn.Conv2d(8, 16, 5, 1, 3),\n",
    "            nn.BatchNorm2d(16),\n",
    "            nn.ReLU(),\n",
    "            nn.Dropout(0.2),\n",
    "            nn.MaxPool2d(2)\n",
    "        )\n",
    "        self.linear = nn.Linear(256,10)\n",
    "        \n",
    "    def forward(self, x):\n",
    "        x = self.ly1(x)\n",
    "        x = self.ly2(x)\n",
    "        x = self.ly3(x)\n",
    "        x = x.view(x.size(0), -1)\n",
    "        x = self.linear(x)\n",
    "        return x"
   ]
  },
  {
   "cell_type": "code",
   "execution_count": 0,
   "metadata": {
    "colab": {
     "base_uri": "https://localhost:8080/",
     "height": 374
    },
    "colab_type": "code",
    "executionInfo": {
     "elapsed": 779826,
     "status": "ok",
     "timestamp": 1552715788734,
     "user": {
      "displayName": "Xi Wang",
      "photoUrl": "",
      "userId": "14282931480726339478"
     },
     "user_tz": 240
    },
    "id": "NtCaRuhS2SZO",
    "outputId": "f9f5d806-9a5e-43ce-acc2-435c53311872"
   },
   "outputs": [
    {
     "name": "stdout",
     "output_type": "stream",
     "text": [
      "Epoch: 1\n",
      "Training Loss: 0.5951\n",
      "Epoch: 2\n",
      "Training Loss: 0.3648\n",
      "Epoch: 3\n",
      "Training Loss: 0.2870\n",
      "Epoch: 4\n",
      "Training Loss: 0.2950\n",
      "Epoch: 5\n",
      "Training Loss: 0.3155\n",
      "Epoch: 6\n",
      "Training Loss: 0.4100\n",
      "Epoch: 7\n",
      "Training Loss: 0.1763\n",
      "Epoch: 8\n",
      "Training Loss: 0.2107\n",
      "Epoch: 9\n",
      "Training Loss: 0.2153\n",
      "Epoch: 10\n",
      "Training Loss: 0.2289\n",
      "Test Accuracy is: 89.69%\n"
     ]
    }
   ],
   "source": [
    "####### (c)-continued #######\n",
    "### Training with the improved model\n",
    "cnn2 = CNN2();\n",
    "\n",
    "criterion = nn.CrossEntropyLoss();\n",
    "optimizer = torch.optim.Adam(cnn2.parameters(), lr=learning_rate);\n",
    "\n",
    "losses = [];\n",
    "for epoch in range(num_epochs):\n",
    "    for i, (images, labels) in enumerate(train_loader):\n",
    "        images = Variable(images.float())\n",
    "        labels = Variable(labels)\n",
    "        \n",
    "        # Forward + Backward + Optimize\n",
    "        optimizer.zero_grad()\n",
    "        outputs = cnn2(images)\n",
    "        loss = criterion(outputs, labels)\n",
    "        loss.backward()\n",
    "        optimizer.step()\n",
    "        \n",
    "        losses.append(loss.data.item());\n",
    "        \n",
    "    print(\"Epoch: %d\" % (epoch+1))\n",
    "    print(\"Training Loss: %.4f\" % (loss.data.item()))\n",
    "\n",
    "### Testing with the improved model\n",
    "cnn2.eval()\n",
    "test_correct = 0\n",
    "test_num = 0\n",
    "for (images, labels) in test_loader:\n",
    "    images = Variable(images.float())\n",
    "    outputs = cnn2(images)\n",
    "    a, predicted = torch.max(outputs.data, 1)\n",
    "    test_num += len(labels)\n",
    "    test_correct += (predicted == labels).sum().item()\n",
    "print(\"Test Accuracy is: \" + str(test_correct/test_num*100) + \"%\")"
   ]
  }
 ],
 "metadata": {
  "colab": {
   "collapsed_sections": [],
   "name": "Xi_Wang_HW4_Q2.ipynb",
   "provenance": [],
   "version": "0.3.2"
  },
  "kernelspec": {
   "display_name": "Python 3",
   "language": "python",
   "name": "python3"
  },
  "language_info": {
   "codemirror_mode": {
    "name": "ipython",
    "version": 3
   },
   "file_extension": ".py",
   "mimetype": "text/x-python",
   "name": "python",
   "nbconvert_exporter": "python",
   "pygments_lexer": "ipython3",
   "version": "3.7.2"
  }
 },
 "nbformat": 4,
 "nbformat_minor": 1
}
