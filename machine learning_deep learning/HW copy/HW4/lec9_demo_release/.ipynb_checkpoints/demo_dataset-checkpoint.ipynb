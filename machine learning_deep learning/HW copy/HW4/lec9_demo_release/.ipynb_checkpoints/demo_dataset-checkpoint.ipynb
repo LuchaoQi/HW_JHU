{
 "cells": [
  {
   "cell_type": "code",
   "execution_count": 7,
   "metadata": {},
   "outputs": [
    {
     "name": "stdout",
     "output_type": "stream",
     "text": [
      "150 150\n"
     ]
    }
   ],
   "source": [
    "import numpy as np\n",
    "\n",
    "count = 0\n",
    "count_0 = 0\n",
    "count_1 = 0\n",
    "len = 300\n",
    "X = np.zeros([len,2])\n",
    "Y = np.zeros([len])\n",
    "while (count_0 + count_1 < len):\n",
    "    x0 =  np.random.rand(2)*8-4\n",
    "    x = x0[0]\n",
    "    y = x0[1]\n",
    "    if ((x+1.5)*(x+1.5) + (y+1.5)*(y+1.5) < 1 or (x-1.5)*(x-1.5) + (y-1.5)*(y-1.5)<1.):\n",
    "        if (count_1 < len/2):\n",
    "            X[count_0 + count_1 ] = x0\n",
    "            Y[count_0 + count_1 ] = 1\n",
    "            count_1 += 1\n",
    "    else:\n",
    "        if (count_0 < len/2):\n",
    "            X[count_0 + count_1 ] = x0\n",
    "            Y[count_0 + count_1] = 0\n",
    "            count_0 += 1\n",
    "\n",
    "    count += 1\n",
    "    \n",
    "print (count_0, count_1)\n",
    "np.save('demo_data_x', X)\n",
    "np.save('demo_data_y', Y)\n"
   ]
  },
  {
   "cell_type": "code",
   "execution_count": null,
   "metadata": {},
   "outputs": [],
   "source": []
  },
  {
   "cell_type": "code",
   "execution_count": null,
   "metadata": {},
   "outputs": [],
   "source": []
  }
 ],
 "metadata": {
  "kernelspec": {
   "display_name": "Python 3",
   "language": "python",
   "name": "python3"
  },
  "language_info": {
   "codemirror_mode": {
    "name": "ipython",
    "version": 3
   },
   "file_extension": ".py",
   "mimetype": "text/x-python",
   "name": "python",
   "nbconvert_exporter": "python",
   "pygments_lexer": "ipython3",
   "version": "3.7.2"
  }
 },
 "nbformat": 4,
 "nbformat_minor": 2
}
