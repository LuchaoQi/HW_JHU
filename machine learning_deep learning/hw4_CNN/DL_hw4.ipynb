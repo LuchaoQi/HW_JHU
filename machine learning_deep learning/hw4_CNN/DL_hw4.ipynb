{
  "nbformat": 4,
  "nbformat_minor": 0,
  "metadata": {
    "colab": {
      "name": "DL_hw4",
      "provenance": [],
      "collapsed_sections": [],
      "toc_visible": true,
      "machine_shape": "hm"
    },
    "kernelspec": {
      "name": "python3",
      "display_name": "Python 3"
    },
    "accelerator": "GPU"
  },
  "cells": [
    {
      "cell_type": "markdown",
      "metadata": {
        "id": "eZUrxBOnESqC",
        "colab_type": "text"
      },
      "source": [
        "Note:\n",
        "All files including `requirements.txt`, `trained models` and `results` have been uploaded [here](https://drive.google.com/drive/folders/1ZsqyPbnFURskLgf0ZwOVKaKDrFP6BjnO?usp=sharing).\n",
        "\n",
        "You can load models for repoducibility. (code provided in the [cell](https://colab.research.google.com/drive/1xLKq2DW8EF6pMZFtNCE09lKiuatYKIq9#scrollTo=LniHijv347NQ&line=16&uniqifier=1))\n",
        "\n"
      ]
    },
    {
      "cell_type": "code",
      "metadata": {
        "id": "3s2IdMZUBOFl",
        "colab_type": "code",
        "outputId": "75c56c7b-322b-4c04-8aa3-06b2fc5e6586",
        "colab": {
          "base_uri": "https://localhost:8080/",
          "height": 102
        }
      },
      "source": [
        "from google.colab import drive\n",
        "drive.flush_and_unmount()\n",
        "drive.mount('/content/gdrive')\n",
        "%cd /content/gdrive/My\\ Drive/\n",
        "%cd DL/\n",
        "!ls"
      ],
      "execution_count": 2,
      "outputs": [
        {
          "output_type": "stream",
          "text": [
            "Mounted at /content/gdrive\n",
            "/content/gdrive/My Drive\n",
            "/content/gdrive/My Drive/DL\n",
            " CNN_model   DL_hw_CNN.csv   epoch_acc_validation  'loss plot.png'\n",
            " data.pth    epoch_acc\t     epoch_loss\t\t    requirements.txt\n"
          ],
          "name": "stdout"
        }
      ]
    },
    {
      "cell_type": "code",
      "metadata": {
        "id": "y6KPTrGjvDRa",
        "colab_type": "code",
        "colab": {}
      },
      "source": [
        "# download the data if you don't wanna mount gdrive\n",
        "\n",
        "# !wget https://www.dropbox.com/s/h1n73cw33no99mz/data.pth"
      ],
      "execution_count": 0,
      "outputs": []
    },
    {
      "cell_type": "code",
      "metadata": {
        "id": "sLOzSqCu7_r2",
        "colab_type": "code",
        "colab": {}
      },
      "source": [
        "import numpy as np\n",
        "import pandas as pd\n",
        "import torch\n",
        "import matplotlib.pyplot as plt\n",
        "\n",
        "\n",
        "device = torch.device(\"cuda:0\" if torch.cuda.is_available() else \"cpu\")\n",
        "\n",
        "\n",
        "# Use a fixed random seed for reproducibility.\n",
        "# Use a fixed random seed for reproducibility.\n",
        "# Use a fixed random seed for reproducibility.\n",
        "np.random.seed(0)\n",
        "torch.manual_seed(0)\n",
        "\n",
        "\n",
        "# cudnn\n",
        "torch.backends.cudnn.version()\n",
        "# torch.backends.cudnn.enabled = True\n",
        "torch.backends.cudnn.deterministic = True\n",
        "torch.backends.cudnn.benchmark = False"
      ],
      "execution_count": 0,
      "outputs": []
    },
    {
      "cell_type": "markdown",
      "metadata": {
        "id": "h2b-j2ytZzfL",
        "colab_type": "text"
      },
      "source": [
        "# Strategy 1 \n",
        "\n",
        "Simple CNN\n",
        "\n",
        "ref: https://pytorch.org/tutorials/beginner/blitz/cifar10_tutorial.html\n"
      ]
    },
    {
      "cell_type": "code",
      "metadata": {
        "id": "hiTMy1amjSRt",
        "colab_type": "code",
        "colab": {
          "base_uri": "https://localhost:8080/",
          "height": 68
        },
        "outputId": "e9be262a-262e-4c74-d2fd-975350188ccc"
      },
      "source": [
        "train_x, train_y, dev_x, dev_y, test_x = torch.load('data.pth')\n",
        "\n",
        "print('Training size:', train_x.shape, train_y.shape)\n",
        "print('Development size:', dev_x.shape, dev_y.shape)\n",
        "print('Test size:', test_x.shape)\n",
        "\n",
        "\n",
        "train_x , train_y, dev_x, dev_y, test_x = train_x/255, train_y, dev_x/255, dev_y,test_x/255\n",
        "\n",
        "def normalize_stats_image_by_image(images):\n",
        "  mean = images.mean(axis=(1,2,3), keepdims=True)\n",
        "  stdev = images.std(axis=(1,2,3), keepdims=True)\n",
        "  return (images - mean) / stdev\n",
        "\n",
        "\n",
        "train_x_ = normalize_stats_image_by_image(train_x)\n",
        "dev_x_ = normalize_stats_image_by_image(dev_x)\n",
        "test_x_ = normalize_stats_image_by_image(test_x)"
      ],
      "execution_count": 31,
      "outputs": [
        {
          "output_type": "stream",
          "text": [
            "Training size: (45000, 3, 32, 32) (45000,)\n",
            "Development size: (5000, 3, 32, 32) (5000,)\n",
            "Test size: (10000, 3, 32, 32)\n"
          ],
          "name": "stdout"
        }
      ]
    },
    {
      "cell_type": "code",
      "metadata": {
        "id": "fKSjDMWPjtZT",
        "colab_type": "code",
        "colab": {}
      },
      "source": [
        "from torchvision import transforms\n",
        "from torch.utils.data import DataLoader, Dataset\n",
        "class MyDataset(Dataset):\n",
        "    def __init__(self, sample_x, sample_y, transform=None):\n",
        "      self.sample_x = sample_x\n",
        "      self.sample_y = sample_y\n",
        "      self.transform = transform\n",
        "\n",
        "    def __getitem__(self, idx):   \n",
        "      if self.transform is not None:\n",
        "        self.sample_x[idx] = self.transform(self.sample_x[idx])\n",
        "      return self.sample_x[idx], self.sample_y[idx]\n",
        "\n",
        "    def __len__(self):\n",
        "      return len(self.sample_x)\n",
        "\n",
        "\n",
        "\n",
        "sample_x = torch.from_numpy(train_x).to(device=device, dtype=torch.float)\n",
        "sample_y = torch.from_numpy(train_y).to(device=device, dtype=torch.long)\n",
        "train_dataset = MyDataset(sample_x, sample_y)\n",
        "trainloader = torch.utils.data.DataLoader(train_dataset, batch_size=200, shuffle=True)\n",
        "\n",
        "\n",
        "test = torch.utils.data.TensorDataset(torch.from_numpy(dev_x).to(device=device, dtype=torch.float), torch.from_numpy(dev_y).to(device=device, dtype=torch.long))\n",
        "testloader = torch.utils.data.DataLoader(test, batch_size=200, shuffle=False)"
      ],
      "execution_count": 0,
      "outputs": []
    },
    {
      "cell_type": "code",
      "metadata": {
        "id": "LPIF_fguZ8qU",
        "colab_type": "code",
        "colab": {}
      },
      "source": [
        "import torch.nn as nn\n",
        "import torch.nn.functional as F\n",
        "\n",
        "\n",
        "class Net(nn.Module):\n",
        "    def __init__(self):\n",
        "        super(Net, self).__init__()\n",
        "        self.conv1 = nn.Conv2d(3, 6, 5)\n",
        "        self.pool = nn.MaxPool2d(2, 2)\n",
        "        self.conv2 = nn.Conv2d(6, 16, 5)\n",
        "        self.fc1 = nn.Linear(16 * 5 * 5, 256)\n",
        "        self.fc2 = nn.Linear(256, 128)\n",
        "        self.fc3 = nn.Linear(128, 100)\n",
        "\n",
        "    def forward(self, x):\n",
        "        x = self.pool(F.relu(self.conv1(x)))\n",
        "        x = self.pool(F.relu(self.conv2(x)))\n",
        "        x = x.view(-1, 16 * 5 * 5)\n",
        "        x = F.relu(self.fc1(x))\n",
        "        x = F.relu(self.fc2(x))\n",
        "        x = self.fc3(x)\n",
        "        return x\n",
        "\n",
        "model = Net()\n",
        "model.cuda()\n",
        "\n",
        "\n",
        "import torch.optim as optim\n",
        "\n",
        "criterion = nn.CrossEntropyLoss()\n",
        "optimizer = optim.SGD(model.parameters(), lr=0.01, momentum=0.9)"
      ],
      "execution_count": 0,
      "outputs": []
    },
    {
      "cell_type": "code",
      "metadata": {
        "id": "mHTI_CTNbdeZ",
        "colab_type": "code",
        "colab": {
          "base_uri": "https://localhost:8080/",
          "height": 1000
        },
        "outputId": "c4ffe0ce-4a30-4aa4-9571-b32d6653a4c4"
      },
      "source": [
        "epoch_loss = []\n",
        "epoch_acc = []\n",
        "epoch_acc_validation = []\n",
        "\n",
        "for epoch in range(100):  # loop over the dataset multiple times\n",
        "    model.train()\n",
        "    running_loss = 0.0\n",
        "    running_correct = 0.0\n",
        "    running_total = 0\n",
        "    # for i, data in enumerate(trainloader, 0):\n",
        "    for inputs, labels in trainloader:\n",
        "        # get the inputs; data is a list of [inputs, labels]\n",
        "\n",
        "        inputs, labels = inputs.to(device = device), labels.to(device = device)\n",
        "        \n",
        "        # zero the parameter gradients\n",
        "        optimizer.zero_grad()\n",
        "\n",
        "        # forward + backward + optimize\n",
        "        outputs = model(inputs)\n",
        "        _, predicted = torch.max(outputs.data, 1)\n",
        "        loss = criterion(outputs, labels)\n",
        "        loss.backward()\n",
        "        optimizer.step()\n",
        "        \n",
        "\n",
        "        running_correct += (predicted == labels).sum().item()        \n",
        "        running_loss += loss.item()\n",
        "        running_total += labels.shape[0]\n",
        "        # note running_total = len(train_dataset) = batch_size * len(trainloader)\n",
        "\n",
        "    epoch_loss.append(running_loss/ running_total)\n",
        "    epoch_acc.append(running_correct / running_total)\n",
        "\n",
        "    model.eval()\n",
        "    pred_res = [] # prediction results after each training epoch\n",
        "    correct = 0\n",
        "    total = 0\n",
        "    for inputs, labels in testloader:\n",
        "        inputs, labels = inputs.to(device), labels.to(device)\n",
        "        outputs = model(inputs)\n",
        "        _, predicted = torch.max(outputs.data, 1)\n",
        "        # predicted to cpu\n",
        "        pred_res.extend(predicted.cpu().numpy())\n",
        "        total += labels.size(0)\n",
        "        correct += (predicted == labels).sum().item()\n",
        "\n",
        "\n",
        "\n",
        "    epoch_acc_validation.append(correct / total)\n",
        "\n",
        "\n",
        "    print('Epoch: %d Loss: %.3f Training Accuracy: %.3f Validation Accuracy: %.3f' %\n",
        "                  (epoch + 1,\n",
        "                   running_loss/ running_total,\n",
        "                   running_correct / running_total,\n",
        "                   correct / total)\n",
        "                  )\n",
        "          \n",
        "print('Finished Training')"
      ],
      "execution_count": 26,
      "outputs": [
        {
          "output_type": "stream",
          "text": [
            "Epoch: 1 Loss: 0.023 Training Accuracy: 0.010 Validation Accuracy: 0.009\n",
            "Epoch: 2 Loss: 0.023 Training Accuracy: 0.018 Validation Accuracy: 0.032\n",
            "Epoch: 3 Loss: 0.021 Training Accuracy: 0.055 Validation Accuracy: 0.072\n",
            "Epoch: 4 Loss: 0.020 Training Accuracy: 0.092 Validation Accuracy: 0.111\n",
            "Epoch: 5 Loss: 0.019 Training Accuracy: 0.122 Validation Accuracy: 0.136\n",
            "Epoch: 6 Loss: 0.018 Training Accuracy: 0.147 Validation Accuracy: 0.156\n",
            "Epoch: 7 Loss: 0.018 Training Accuracy: 0.170 Validation Accuracy: 0.171\n",
            "Epoch: 8 Loss: 0.017 Training Accuracy: 0.191 Validation Accuracy: 0.194\n",
            "Epoch: 9 Loss: 0.016 Training Accuracy: 0.208 Validation Accuracy: 0.202\n",
            "Epoch: 10 Loss: 0.016 Training Accuracy: 0.230 Validation Accuracy: 0.216\n",
            "Epoch: 11 Loss: 0.016 Training Accuracy: 0.242 Validation Accuracy: 0.229\n",
            "Epoch: 12 Loss: 0.015 Training Accuracy: 0.260 Validation Accuracy: 0.232\n",
            "Epoch: 13 Loss: 0.015 Training Accuracy: 0.272 Validation Accuracy: 0.254\n",
            "Epoch: 14 Loss: 0.014 Training Accuracy: 0.289 Validation Accuracy: 0.245\n",
            "Epoch: 15 Loss: 0.014 Training Accuracy: 0.301 Validation Accuracy: 0.258\n",
            "Epoch: 16 Loss: 0.014 Training Accuracy: 0.315 Validation Accuracy: 0.266\n",
            "Epoch: 17 Loss: 0.013 Training Accuracy: 0.330 Validation Accuracy: 0.261\n",
            "Epoch: 18 Loss: 0.013 Training Accuracy: 0.338 Validation Accuracy: 0.272\n",
            "Epoch: 19 Loss: 0.013 Training Accuracy: 0.347 Validation Accuracy: 0.276\n",
            "Epoch: 20 Loss: 0.012 Training Accuracy: 0.362 Validation Accuracy: 0.278\n",
            "Epoch: 21 Loss: 0.012 Training Accuracy: 0.371 Validation Accuracy: 0.277\n",
            "Epoch: 22 Loss: 0.012 Training Accuracy: 0.379 Validation Accuracy: 0.286\n",
            "Epoch: 23 Loss: 0.012 Training Accuracy: 0.396 Validation Accuracy: 0.280\n",
            "Epoch: 24 Loss: 0.011 Training Accuracy: 0.401 Validation Accuracy: 0.288\n",
            "Epoch: 25 Loss: 0.011 Training Accuracy: 0.413 Validation Accuracy: 0.298\n",
            "Epoch: 26 Loss: 0.011 Training Accuracy: 0.421 Validation Accuracy: 0.287\n",
            "Epoch: 27 Loss: 0.011 Training Accuracy: 0.433 Validation Accuracy: 0.289\n",
            "Epoch: 28 Loss: 0.011 Training Accuracy: 0.440 Validation Accuracy: 0.284\n",
            "Epoch: 29 Loss: 0.010 Training Accuracy: 0.448 Validation Accuracy: 0.292\n",
            "Epoch: 30 Loss: 0.010 Training Accuracy: 0.459 Validation Accuracy: 0.286\n",
            "Epoch: 31 Loss: 0.010 Training Accuracy: 0.469 Validation Accuracy: 0.291\n",
            "Epoch: 32 Loss: 0.010 Training Accuracy: 0.477 Validation Accuracy: 0.289\n",
            "Epoch: 33 Loss: 0.009 Training Accuracy: 0.488 Validation Accuracy: 0.284\n",
            "Epoch: 34 Loss: 0.009 Training Accuracy: 0.491 Validation Accuracy: 0.283\n",
            "Epoch: 35 Loss: 0.009 Training Accuracy: 0.502 Validation Accuracy: 0.289\n",
            "Epoch: 36 Loss: 0.009 Training Accuracy: 0.507 Validation Accuracy: 0.273\n",
            "Epoch: 37 Loss: 0.009 Training Accuracy: 0.514 Validation Accuracy: 0.287\n",
            "Epoch: 38 Loss: 0.009 Training Accuracy: 0.530 Validation Accuracy: 0.276\n",
            "Epoch: 39 Loss: 0.008 Training Accuracy: 0.535 Validation Accuracy: 0.272\n",
            "Epoch: 40 Loss: 0.008 Training Accuracy: 0.542 Validation Accuracy: 0.276\n",
            "Epoch: 41 Loss: 0.008 Training Accuracy: 0.549 Validation Accuracy: 0.279\n",
            "Epoch: 42 Loss: 0.008 Training Accuracy: 0.551 Validation Accuracy: 0.281\n",
            "Epoch: 43 Loss: 0.008 Training Accuracy: 0.569 Validation Accuracy: 0.287\n",
            "Epoch: 44 Loss: 0.008 Training Accuracy: 0.569 Validation Accuracy: 0.269\n",
            "Epoch: 45 Loss: 0.007 Training Accuracy: 0.578 Validation Accuracy: 0.273\n",
            "Epoch: 46 Loss: 0.007 Training Accuracy: 0.583 Validation Accuracy: 0.283\n",
            "Epoch: 47 Loss: 0.007 Training Accuracy: 0.595 Validation Accuracy: 0.276\n",
            "Epoch: 48 Loss: 0.007 Training Accuracy: 0.604 Validation Accuracy: 0.265\n",
            "Epoch: 49 Loss: 0.007 Training Accuracy: 0.602 Validation Accuracy: 0.264\n",
            "Epoch: 50 Loss: 0.007 Training Accuracy: 0.604 Validation Accuracy: 0.273\n",
            "Epoch: 51 Loss: 0.007 Training Accuracy: 0.615 Validation Accuracy: 0.267\n",
            "Epoch: 52 Loss: 0.007 Training Accuracy: 0.617 Validation Accuracy: 0.260\n",
            "Epoch: 53 Loss: 0.006 Training Accuracy: 0.629 Validation Accuracy: 0.261\n",
            "Epoch: 54 Loss: 0.006 Training Accuracy: 0.629 Validation Accuracy: 0.259\n",
            "Epoch: 55 Loss: 0.006 Training Accuracy: 0.636 Validation Accuracy: 0.257\n",
            "Epoch: 56 Loss: 0.006 Training Accuracy: 0.640 Validation Accuracy: 0.265\n",
            "Epoch: 57 Loss: 0.006 Training Accuracy: 0.646 Validation Accuracy: 0.254\n",
            "Epoch: 58 Loss: 0.006 Training Accuracy: 0.656 Validation Accuracy: 0.249\n",
            "Epoch: 59 Loss: 0.006 Training Accuracy: 0.654 Validation Accuracy: 0.260\n",
            "Epoch: 60 Loss: 0.006 Training Accuracy: 0.670 Validation Accuracy: 0.256\n",
            "Epoch: 61 Loss: 0.006 Training Accuracy: 0.673 Validation Accuracy: 0.252\n",
            "Epoch: 62 Loss: 0.005 Training Accuracy: 0.681 Validation Accuracy: 0.250\n",
            "Epoch: 63 Loss: 0.006 Training Accuracy: 0.672 Validation Accuracy: 0.257\n",
            "Epoch: 64 Loss: 0.005 Training Accuracy: 0.684 Validation Accuracy: 0.250\n",
            "Epoch: 65 Loss: 0.005 Training Accuracy: 0.687 Validation Accuracy: 0.250\n",
            "Epoch: 66 Loss: 0.005 Training Accuracy: 0.685 Validation Accuracy: 0.248\n",
            "Epoch: 67 Loss: 0.005 Training Accuracy: 0.695 Validation Accuracy: 0.254\n",
            "Epoch: 68 Loss: 0.005 Training Accuracy: 0.700 Validation Accuracy: 0.248\n",
            "Epoch: 69 Loss: 0.005 Training Accuracy: 0.691 Validation Accuracy: 0.248\n",
            "Epoch: 70 Loss: 0.005 Training Accuracy: 0.695 Validation Accuracy: 0.252\n",
            "Epoch: 71 Loss: 0.005 Training Accuracy: 0.709 Validation Accuracy: 0.242\n",
            "Epoch: 72 Loss: 0.005 Training Accuracy: 0.708 Validation Accuracy: 0.249\n",
            "Epoch: 73 Loss: 0.005 Training Accuracy: 0.700 Validation Accuracy: 0.250\n",
            "Epoch: 74 Loss: 0.005 Training Accuracy: 0.715 Validation Accuracy: 0.257\n",
            "Epoch: 75 Loss: 0.005 Training Accuracy: 0.721 Validation Accuracy: 0.248\n",
            "Epoch: 76 Loss: 0.005 Training Accuracy: 0.712 Validation Accuracy: 0.244\n",
            "Epoch: 77 Loss: 0.005 Training Accuracy: 0.719 Validation Accuracy: 0.242\n",
            "Epoch: 78 Loss: 0.004 Training Accuracy: 0.733 Validation Accuracy: 0.251\n",
            "Epoch: 79 Loss: 0.005 Training Accuracy: 0.713 Validation Accuracy: 0.240\n",
            "Epoch: 80 Loss: 0.004 Training Accuracy: 0.739 Validation Accuracy: 0.247\n",
            "Epoch: 81 Loss: 0.004 Training Accuracy: 0.731 Validation Accuracy: 0.235\n",
            "Epoch: 82 Loss: 0.004 Training Accuracy: 0.732 Validation Accuracy: 0.243\n",
            "Epoch: 83 Loss: 0.004 Training Accuracy: 0.742 Validation Accuracy: 0.235\n",
            "Epoch: 84 Loss: 0.004 Training Accuracy: 0.746 Validation Accuracy: 0.229\n",
            "Epoch: 85 Loss: 0.004 Training Accuracy: 0.746 Validation Accuracy: 0.243\n",
            "Epoch: 86 Loss: 0.004 Training Accuracy: 0.762 Validation Accuracy: 0.241\n",
            "Epoch: 87 Loss: 0.004 Training Accuracy: 0.731 Validation Accuracy: 0.239\n",
            "Epoch: 88 Loss: 0.004 Training Accuracy: 0.747 Validation Accuracy: 0.246\n",
            "Epoch: 89 Loss: 0.004 Training Accuracy: 0.750 Validation Accuracy: 0.239\n",
            "Epoch: 90 Loss: 0.004 Training Accuracy: 0.747 Validation Accuracy: 0.234\n",
            "Epoch: 91 Loss: 0.004 Training Accuracy: 0.763 Validation Accuracy: 0.236\n",
            "Epoch: 92 Loss: 0.004 Training Accuracy: 0.756 Validation Accuracy: 0.239\n",
            "Epoch: 93 Loss: 0.004 Training Accuracy: 0.770 Validation Accuracy: 0.237\n",
            "Epoch: 94 Loss: 0.004 Training Accuracy: 0.770 Validation Accuracy: 0.241\n",
            "Epoch: 95 Loss: 0.004 Training Accuracy: 0.753 Validation Accuracy: 0.239\n",
            "Epoch: 96 Loss: 0.004 Training Accuracy: 0.765 Validation Accuracy: 0.238\n",
            "Epoch: 97 Loss: 0.004 Training Accuracy: 0.773 Validation Accuracy: 0.237\n",
            "Epoch: 98 Loss: 0.004 Training Accuracy: 0.771 Validation Accuracy: 0.234\n",
            "Epoch: 99 Loss: 0.004 Training Accuracy: 0.753 Validation Accuracy: 0.236\n",
            "Epoch: 100 Loss: 0.004 Training Accuracy: 0.764 Validation Accuracy: 0.230\n",
            "Finished Training\n"
          ],
          "name": "stdout"
        }
      ]
    },
    {
      "cell_type": "code",
      "metadata": {
        "id": "o3yUUfCFnWaY",
        "colab_type": "code",
        "colab": {
          "base_uri": "https://localhost:8080/",
          "height": 573
        },
        "outputId": "90e3219e-4efe-48a2-be1a-dc8d7eb76581"
      },
      "source": [
        "import matplotlib.pyplot as plt\n",
        "\n",
        "plt.plot(epoch_loss,label = 'loss')\n",
        "plt.title('Training Loss over Epoch')\n",
        "plt.xlabel('Epoch')\n",
        "plt.ylabel('CrossEntropy')\n",
        "plt.legend()\n",
        "plt.show()\n",
        "plt.savefig('loss plot.png')\n",
        "\n",
        "\n",
        "plt.plot(epoch_acc,label = 'training_accuracy')\n",
        "plt.plot(epoch_acc_validation, label = 'validation_accuracy')\n",
        "plt.ylabel('Accuracy (%)')\n",
        "plt.xlabel('Epoch')\n",
        "plt.title('Training and Validation Accuracy over Epoch')\n",
        "plt.legend()\n",
        "plt.show()"
      ],
      "execution_count": 29,
      "outputs": [
        {
          "output_type": "display_data",
          "data": {
            "image/png": "[encoded data removed]",
            "text/plain": [
              "<Figure size 432x288 with 1 Axes>"
            ]
          },
          "metadata": {
            "tags": []
          }
        },
        {
          "output_type": "display_data",
          "data": {
            "image/png": "[encoded data removed]",
            "text/plain": [
              "<Figure size 432x288 with 1 Axes>"
            ]
          },
          "metadata": {
            "tags": []
          }
        }
      ]
    },
    {
      "cell_type": "markdown",
      "metadata": {
        "id": "CsKQi7Hbnjdb",
        "colab_type": "text"
      },
      "source": [
        "# Strategy 2\n",
        "\n",
        "More complicated CNN\n",
        "\n",
        "change the following settings\n",
        "\n",
        "1. architecture\n",
        "2. dropout\n",
        "3. batchnorm\n",
        "4. skip connection\n",
        "5. batch size, learning rate, learning rate schedulers and different optimizers\n",
        "\n",
        "\n",
        "ref: https://zhenye-na.github.io/2018/09/28/pytorch-cnn-cifar10.html"
      ]
    },
    {
      "cell_type": "code",
      "metadata": {
        "id": "rdNXnw4xu5Jx",
        "colab_type": "code",
        "colab": {
          "base_uri": "https://localhost:8080/",
          "height": 68
        },
        "outputId": "096e81ff-461d-4b7a-b51a-1a7073aeaa21"
      },
      "source": [
        "train_x, train_y, dev_x, dev_y, test_x = torch.load('data.pth')\n",
        "\n",
        "print('Training size:', train_x.shape, train_y.shape)\n",
        "print('Development size:', dev_x.shape, dev_y.shape)\n",
        "print('Test size:', test_x.shape)\n",
        "\n",
        "\n",
        "train_x , train_y, dev_x, dev_y, test_x = train_x/255, train_y, dev_x/255, dev_y,test_x/255\n",
        "\n",
        "def normalize_stats_image_by_image(images):\n",
        "  mean = images.mean(axis=(1,2,3), keepdims=True)\n",
        "  stdev = images.std(axis=(1,2,3), keepdims=True)\n",
        "  return (images - mean) / stdev\n",
        "\n",
        "\n",
        "train_x_ = normalize_stats_image_by_image(train_x)\n",
        "dev_x_ = normalize_stats_image_by_image(dev_x)\n",
        "test_x_ = normalize_stats_image_by_image(test_x)"
      ],
      "execution_count": 34,
      "outputs": [
        {
          "output_type": "stream",
          "text": [
            "Training size: (45000, 3, 32, 32) (45000,)\n",
            "Development size: (5000, 3, 32, 32) (5000,)\n",
            "Test size: (10000, 3, 32, 32)\n"
          ],
          "name": "stdout"
        }
      ]
    },
    {
      "cell_type": "code",
      "metadata": {
        "id": "myurChs_wOsO",
        "colab_type": "code",
        "colab": {}
      },
      "source": [
        "from torchvision import transforms\n",
        "from torch.utils.data import DataLoader, Dataset\n",
        "class MyDataset(Dataset):\n",
        "    def __init__(self, sample_x, sample_y, transform=None):\n",
        "      self.sample_x = sample_x\n",
        "      self.sample_y = sample_y\n",
        "      self.transform = transform\n",
        "\n",
        "    def __getitem__(self, idx):   \n",
        "      if self.transform is not None:\n",
        "        self.sample_x[idx] = self.transform(self.sample_x[idx])\n",
        "      return self.sample_x[idx], self.sample_y[idx]\n",
        "\n",
        "    def __len__(self):\n",
        "      return len(self.sample_x)\n",
        "\n",
        "\n",
        "\n",
        "sample_x = torch.from_numpy(train_x).to(device=device, dtype=torch.float)\n",
        "sample_y = torch.from_numpy(train_y).to(device=device, dtype=torch.long)\n",
        "train_dataset = MyDataset(sample_x, sample_y)\n",
        "trainloader = torch.utils.data.DataLoader(train_dataset, batch_size=200, shuffle=True)\n",
        "\n",
        "\n",
        "test = torch.utils.data.TensorDataset(torch.from_numpy(dev_x).to(device=device, dtype=torch.float), torch.from_numpy(dev_y).to(device=device, dtype=torch.long))\n",
        "testloader = torch.utils.data.DataLoader(test, batch_size=200, shuffle=False)"
      ],
      "execution_count": 0,
      "outputs": []
    },
    {
      "cell_type": "code",
      "metadata": {
        "id": "kqtJEWOTwIAH",
        "colab_type": "code",
        "colab": {}
      },
      "source": [
        "import torch.nn as nn\n",
        "\n",
        "\n",
        "class Net(nn.Module):\n",
        "    \"\"\"CNN.\"\"\"\n",
        "\n",
        "    def __init__(self):\n",
        "        \"\"\"CNN Builder.\"\"\"\n",
        "        super(Net, self).__init__()\n",
        "\n",
        "        self.conv_layer = nn.Sequential(\n",
        "\n",
        "            # Conv Layer block 1\n",
        "            nn.Conv2d(in_channels=3, out_channels=32, kernel_size=3, padding=1),\n",
        "            nn.BatchNorm2d(32),\n",
        "            nn.ReLU(inplace=True),\n",
        "            nn.Conv2d(in_channels=32, out_channels=64, kernel_size=3, padding=1),\n",
        "            nn.ReLU(inplace=True),\n",
        "            nn.MaxPool2d(kernel_size=2, stride=2),\n",
        "\n",
        "            # Conv Layer block 2\n",
        "            nn.Conv2d(in_channels=64, out_channels=128, kernel_size=3, padding=1),\n",
        "            nn.BatchNorm2d(128),\n",
        "            nn.ReLU(inplace=True),\n",
        "            nn.Conv2d(in_channels=128, out_channels=128, kernel_size=3, padding=1),\n",
        "            nn.ReLU(inplace=True),\n",
        "            nn.MaxPool2d(kernel_size=2, stride=2),\n",
        "            nn.Dropout2d(p=0.05),\n",
        "\n",
        "            # Conv Layer block 3\n",
        "            nn.Conv2d(in_channels=128, out_channels=256, kernel_size=3, padding=1),\n",
        "            nn.BatchNorm2d(256),\n",
        "            nn.ReLU(inplace=True),\n",
        "            nn.Conv2d(in_channels=256, out_channels=256, kernel_size=3, padding=1),\n",
        "            nn.ReLU(inplace=True),\n",
        "            nn.MaxPool2d(kernel_size=2, stride=2),\n",
        "        )\n",
        "\n",
        "\n",
        "        self.fc_layer = nn.Sequential(\n",
        "            nn.Dropout(p=0.1),\n",
        "            nn.Linear(4096, 1024),\n",
        "            nn.ReLU(inplace=True),\n",
        "            nn.Linear(1024, 512),\n",
        "            nn.ReLU(inplace=True),\n",
        "            nn.Dropout(p=0.1),\n",
        "            nn.Linear(512, 100)\n",
        "        )\n",
        "\n",
        "\n",
        "    def forward(self, x):\n",
        "        \"\"\"Perform forward.\"\"\"\n",
        "        \n",
        "        # conv layers\n",
        "        x = self.conv_layer(x)\n",
        "        \n",
        "        # flatten\n",
        "        x = x.view(x.size(0), -1)\n",
        "        # x = x.view(x.size(0), 16)\n",
        "        # fc layer\n",
        "        x = self.fc_layer(x)\n",
        "\n",
        "        return x\n",
        "\n",
        "model = Net()\n",
        "model.to(device)\n",
        "\n",
        "\n",
        "\n",
        "\n",
        "\n",
        "\n",
        "\n",
        "\n",
        "# optimization\n",
        "\n",
        "\n",
        "\n",
        "import torch.optim as optim\n",
        "criterion = nn.CrossEntropyLoss()\n",
        "# optimizer = optim.Adam(model.parameters(), lr=opt.lr, weight_decay=opt.wd)\n",
        "optimizer = optim.SGD(model.parameters(), lr=1e-3, momentum=0.9, weight_decay=5e-4)\n",
        "\n",
        "\n",
        "\n",
        "\n",
        "\n",
        "# for p in model.parameters():\n",
        "#     print(p.device)"
      ],
      "execution_count": 0,
      "outputs": []
    },
    {
      "cell_type": "code",
      "metadata": {
        "id": "HsZc-hmowZ8E",
        "colab_type": "code",
        "colab": {
          "base_uri": "https://localhost:8080/",
          "height": 1000
        },
        "outputId": "bfd4d75c-b7f0-4143-9ac5-c44fbdea1654"
      },
      "source": [
        "epoch_loss = []\n",
        "epoch_acc = []\n",
        "epoch_acc_validation = []\n",
        "\n",
        "for epoch in range(100):  # loop over the dataset multiple times\n",
        "    model.train()\n",
        "    running_loss = 0.0\n",
        "    running_correct = 0.0\n",
        "    running_total = 0\n",
        "    # for i, data in enumerate(trainloader, 0):\n",
        "    for inputs, labels in trainloader:\n",
        "        # get the inputs; data is a list of [inputs, labels]\n",
        "\n",
        "        inputs, labels = inputs.to(device = device), labels.to(device = device)\n",
        "        \n",
        "        # zero the parameter gradients\n",
        "        optimizer.zero_grad()\n",
        "\n",
        "        # forward + backward + optimize\n",
        "        outputs = model(inputs)\n",
        "        _, predicted = torch.max(outputs.data, 1)\n",
        "        loss = criterion(outputs, labels)\n",
        "        loss.backward()\n",
        "        optimizer.step()\n",
        "        \n",
        "\n",
        "        running_correct += (predicted == labels).sum().item()        \n",
        "        running_loss += loss.item()\n",
        "        running_total += labels.shape[0]\n",
        "        # note running_total = len(train_dataset) = batch_size * len(trainloader)\n",
        "\n",
        "    epoch_loss.append(running_loss/ running_total)\n",
        "    epoch_acc.append(running_correct / running_total)\n",
        "\n",
        "    model.eval()\n",
        "    pred_res = [] # prediction results after each training epoch\n",
        "    correct = 0\n",
        "    total = 0\n",
        "    for inputs, labels in testloader:\n",
        "        inputs, labels = inputs.to(device), labels.to(device)\n",
        "        outputs = model(inputs)\n",
        "        _, predicted = torch.max(outputs.data, 1)\n",
        "        # predicted to cpu\n",
        "        pred_res.extend(predicted.cpu().numpy())\n",
        "        total += labels.size(0)\n",
        "        correct += (predicted == labels).sum().item()\n",
        "\n",
        "\n",
        "\n",
        "    epoch_acc_validation.append(correct / total)\n",
        "\n",
        "\n",
        "    print('Epoch: %d Loss: %.3f Training Accuracy: %.3f Validation Accuracy: %.3f' %\n",
        "                  (epoch + 1,\n",
        "                   running_loss/ running_total,\n",
        "                   running_correct / running_total,\n",
        "                   correct / total)\n",
        "                  )\n",
        "          \n",
        "print('Finished Training')"
      ],
      "execution_count": 38,
      "outputs": [
        {
          "output_type": "stream",
          "text": [
            "Epoch: 1 Loss: 0.023 Training Accuracy: 0.019 Validation Accuracy: 0.032\n",
            "Epoch: 2 Loss: 0.023 Training Accuracy: 0.033 Validation Accuracy: 0.038\n",
            "Epoch: 3 Loss: 0.021 Training Accuracy: 0.050 Validation Accuracy: 0.073\n",
            "Epoch: 4 Loss: 0.020 Training Accuracy: 0.075 Validation Accuracy: 0.099\n",
            "Epoch: 5 Loss: 0.019 Training Accuracy: 0.101 Validation Accuracy: 0.114\n",
            "Epoch: 6 Loss: 0.018 Training Accuracy: 0.128 Validation Accuracy: 0.148\n",
            "Epoch: 7 Loss: 0.018 Training Accuracy: 0.154 Validation Accuracy: 0.170\n",
            "Epoch: 8 Loss: 0.017 Training Accuracy: 0.179 Validation Accuracy: 0.181\n",
            "Epoch: 9 Loss: 0.016 Training Accuracy: 0.201 Validation Accuracy: 0.216\n",
            "Epoch: 10 Loss: 0.016 Training Accuracy: 0.227 Validation Accuracy: 0.225\n",
            "Epoch: 11 Loss: 0.015 Training Accuracy: 0.249 Validation Accuracy: 0.238\n",
            "Epoch: 12 Loss: 0.014 Training Accuracy: 0.272 Validation Accuracy: 0.287\n",
            "Epoch: 13 Loss: 0.014 Training Accuracy: 0.289 Validation Accuracy: 0.296\n",
            "Epoch: 14 Loss: 0.013 Training Accuracy: 0.311 Validation Accuracy: 0.311\n",
            "Epoch: 15 Loss: 0.013 Training Accuracy: 0.338 Validation Accuracy: 0.282\n",
            "Epoch: 16 Loss: 0.012 Training Accuracy: 0.355 Validation Accuracy: 0.308\n",
            "Epoch: 17 Loss: 0.012 Training Accuracy: 0.375 Validation Accuracy: 0.356\n",
            "Epoch: 18 Loss: 0.011 Training Accuracy: 0.393 Validation Accuracy: 0.362\n",
            "Epoch: 19 Loss: 0.011 Training Accuracy: 0.406 Validation Accuracy: 0.380\n",
            "Epoch: 20 Loss: 0.011 Training Accuracy: 0.427 Validation Accuracy: 0.363\n",
            "Epoch: 21 Loss: 0.010 Training Accuracy: 0.443 Validation Accuracy: 0.391\n",
            "Epoch: 22 Loss: 0.010 Training Accuracy: 0.455 Validation Accuracy: 0.319\n",
            "Epoch: 23 Loss: 0.010 Training Accuracy: 0.469 Validation Accuracy: 0.413\n",
            "Epoch: 24 Loss: 0.009 Training Accuracy: 0.484 Validation Accuracy: 0.416\n",
            "Epoch: 25 Loss: 0.009 Training Accuracy: 0.498 Validation Accuracy: 0.399\n",
            "Epoch: 26 Loss: 0.009 Training Accuracy: 0.509 Validation Accuracy: 0.412\n",
            "Epoch: 27 Loss: 0.009 Training Accuracy: 0.523 Validation Accuracy: 0.417\n",
            "Epoch: 28 Loss: 0.008 Training Accuracy: 0.534 Validation Accuracy: 0.419\n",
            "Epoch: 29 Loss: 0.008 Training Accuracy: 0.547 Validation Accuracy: 0.421\n",
            "Epoch: 30 Loss: 0.008 Training Accuracy: 0.560 Validation Accuracy: 0.419\n",
            "Epoch: 31 Loss: 0.007 Training Accuracy: 0.574 Validation Accuracy: 0.440\n",
            "Epoch: 32 Loss: 0.007 Training Accuracy: 0.583 Validation Accuracy: 0.437\n",
            "Epoch: 33 Loss: 0.007 Training Accuracy: 0.597 Validation Accuracy: 0.428\n",
            "Epoch: 34 Loss: 0.007 Training Accuracy: 0.611 Validation Accuracy: 0.444\n",
            "Epoch: 35 Loss: 0.006 Training Accuracy: 0.621 Validation Accuracy: 0.437\n",
            "Epoch: 36 Loss: 0.006 Training Accuracy: 0.631 Validation Accuracy: 0.445\n",
            "Epoch: 37 Loss: 0.006 Training Accuracy: 0.645 Validation Accuracy: 0.432\n",
            "Epoch: 38 Loss: 0.006 Training Accuracy: 0.653 Validation Accuracy: 0.439\n",
            "Epoch: 39 Loss: 0.006 Training Accuracy: 0.664 Validation Accuracy: 0.410\n",
            "Epoch: 40 Loss: 0.005 Training Accuracy: 0.679 Validation Accuracy: 0.421\n",
            "Epoch: 41 Loss: 0.005 Training Accuracy: 0.685 Validation Accuracy: 0.412\n",
            "Epoch: 42 Loss: 0.005 Training Accuracy: 0.694 Validation Accuracy: 0.433\n",
            "Epoch: 43 Loss: 0.005 Training Accuracy: 0.708 Validation Accuracy: 0.426\n",
            "Epoch: 44 Loss: 0.005 Training Accuracy: 0.718 Validation Accuracy: 0.433\n",
            "Epoch: 45 Loss: 0.004 Training Accuracy: 0.730 Validation Accuracy: 0.415\n",
            "Epoch: 46 Loss: 0.004 Training Accuracy: 0.735 Validation Accuracy: 0.426\n",
            "Epoch: 47 Loss: 0.004 Training Accuracy: 0.748 Validation Accuracy: 0.422\n",
            "Epoch: 48 Loss: 0.004 Training Accuracy: 0.756 Validation Accuracy: 0.418\n",
            "Epoch: 49 Loss: 0.004 Training Accuracy: 0.763 Validation Accuracy: 0.409\n",
            "Epoch: 50 Loss: 0.004 Training Accuracy: 0.773 Validation Accuracy: 0.432\n",
            "Epoch: 51 Loss: 0.003 Training Accuracy: 0.779 Validation Accuracy: 0.413\n",
            "Epoch: 52 Loss: 0.003 Training Accuracy: 0.783 Validation Accuracy: 0.411\n",
            "Epoch: 53 Loss: 0.003 Training Accuracy: 0.796 Validation Accuracy: 0.388\n",
            "Epoch: 54 Loss: 0.003 Training Accuracy: 0.809 Validation Accuracy: 0.424\n",
            "Epoch: 55 Loss: 0.003 Training Accuracy: 0.811 Validation Accuracy: 0.423\n",
            "Epoch: 56 Loss: 0.003 Training Accuracy: 0.817 Validation Accuracy: 0.412\n",
            "Epoch: 57 Loss: 0.003 Training Accuracy: 0.824 Validation Accuracy: 0.397\n",
            "Epoch: 58 Loss: 0.003 Training Accuracy: 0.831 Validation Accuracy: 0.403\n",
            "Epoch: 59 Loss: 0.003 Training Accuracy: 0.837 Validation Accuracy: 0.415\n",
            "Epoch: 60 Loss: 0.002 Training Accuracy: 0.844 Validation Accuracy: 0.420\n",
            "Epoch: 61 Loss: 0.002 Training Accuracy: 0.846 Validation Accuracy: 0.421\n",
            "Epoch: 62 Loss: 0.002 Training Accuracy: 0.855 Validation Accuracy: 0.403\n",
            "Epoch: 63 Loss: 0.002 Training Accuracy: 0.858 Validation Accuracy: 0.414\n",
            "Epoch: 64 Loss: 0.002 Training Accuracy: 0.870 Validation Accuracy: 0.397\n",
            "Epoch: 65 Loss: 0.002 Training Accuracy: 0.864 Validation Accuracy: 0.412\n",
            "Epoch: 66 Loss: 0.002 Training Accuracy: 0.874 Validation Accuracy: 0.419\n",
            "Epoch: 67 Loss: 0.002 Training Accuracy: 0.882 Validation Accuracy: 0.425\n",
            "Epoch: 68 Loss: 0.002 Training Accuracy: 0.888 Validation Accuracy: 0.407\n",
            "Epoch: 69 Loss: 0.002 Training Accuracy: 0.882 Validation Accuracy: 0.407\n",
            "Epoch: 70 Loss: 0.002 Training Accuracy: 0.887 Validation Accuracy: 0.410\n",
            "Epoch: 71 Loss: 0.002 Training Accuracy: 0.897 Validation Accuracy: 0.412\n",
            "Epoch: 72 Loss: 0.002 Training Accuracy: 0.899 Validation Accuracy: 0.413\n",
            "Epoch: 73 Loss: 0.002 Training Accuracy: 0.897 Validation Accuracy: 0.411\n",
            "Epoch: 74 Loss: 0.001 Training Accuracy: 0.908 Validation Accuracy: 0.404\n",
            "Epoch: 75 Loss: 0.001 Training Accuracy: 0.907 Validation Accuracy: 0.407\n",
            "Epoch: 76 Loss: 0.001 Training Accuracy: 0.903 Validation Accuracy: 0.419\n",
            "Epoch: 77 Loss: 0.001 Training Accuracy: 0.912 Validation Accuracy: 0.418\n",
            "Epoch: 78 Loss: 0.001 Training Accuracy: 0.918 Validation Accuracy: 0.417\n",
            "Epoch: 79 Loss: 0.001 Training Accuracy: 0.920 Validation Accuracy: 0.412\n",
            "Epoch: 80 Loss: 0.001 Training Accuracy: 0.925 Validation Accuracy: 0.402\n",
            "Epoch: 81 Loss: 0.001 Training Accuracy: 0.924 Validation Accuracy: 0.404\n",
            "Epoch: 82 Loss: 0.001 Training Accuracy: 0.922 Validation Accuracy: 0.421\n",
            "Epoch: 83 Loss: 0.001 Training Accuracy: 0.928 Validation Accuracy: 0.406\n",
            "Epoch: 84 Loss: 0.001 Training Accuracy: 0.930 Validation Accuracy: 0.409\n",
            "Epoch: 85 Loss: 0.001 Training Accuracy: 0.937 Validation Accuracy: 0.415\n",
            "Epoch: 86 Loss: 0.001 Training Accuracy: 0.931 Validation Accuracy: 0.410\n",
            "Epoch: 87 Loss: 0.001 Training Accuracy: 0.935 Validation Accuracy: 0.410\n",
            "Epoch: 88 Loss: 0.001 Training Accuracy: 0.943 Validation Accuracy: 0.421\n",
            "Epoch: 89 Loss: 0.001 Training Accuracy: 0.941 Validation Accuracy: 0.417\n",
            "Epoch: 90 Loss: 0.001 Training Accuracy: 0.941 Validation Accuracy: 0.411\n",
            "Epoch: 91 Loss: 0.001 Training Accuracy: 0.945 Validation Accuracy: 0.420\n",
            "Epoch: 92 Loss: 0.001 Training Accuracy: 0.944 Validation Accuracy: 0.415\n",
            "Epoch: 93 Loss: 0.001 Training Accuracy: 0.943 Validation Accuracy: 0.419\n",
            "Epoch: 94 Loss: 0.001 Training Accuracy: 0.950 Validation Accuracy: 0.414\n",
            "Epoch: 95 Loss: 0.001 Training Accuracy: 0.949 Validation Accuracy: 0.412\n",
            "Epoch: 96 Loss: 0.001 Training Accuracy: 0.946 Validation Accuracy: 0.425\n",
            "Epoch: 97 Loss: 0.001 Training Accuracy: 0.953 Validation Accuracy: 0.412\n",
            "Epoch: 98 Loss: 0.001 Training Accuracy: 0.954 Validation Accuracy: 0.413\n",
            "Epoch: 99 Loss: 0.001 Training Accuracy: 0.951 Validation Accuracy: 0.417\n",
            "Epoch: 100 Loss: 0.001 Training Accuracy: 0.955 Validation Accuracy: 0.418\n",
            "Finished Training\n"
          ],
          "name": "stdout"
        }
      ]
    },
    {
      "cell_type": "code",
      "metadata": {
        "id": "qECdv1U8yQSh",
        "colab_type": "code",
        "colab": {
          "base_uri": "https://localhost:8080/",
          "height": 573
        },
        "outputId": "c5e0c434-f3da-41f5-9e03-52bc483e90f9"
      },
      "source": [
        "import matplotlib.pyplot as plt\n",
        "\n",
        "plt.plot(epoch_loss,label = 'loss')\n",
        "plt.title('Training Loss over Epoch')\n",
        "plt.xlabel('Epoch')\n",
        "plt.ylabel('CrossEntropy')\n",
        "plt.legend()\n",
        "plt.show()\n",
        "plt.savefig('loss plot.png')\n",
        "\n",
        "\n",
        "plt.plot(epoch_acc,label = 'training_accuracy')\n",
        "plt.plot(epoch_acc_validation, label = 'validation_accuracy')\n",
        "plt.ylabel('Accuracy (%)')\n",
        "plt.xlabel('Epoch')\n",
        "plt.title('Training and Validation Accuracy over Epoch')\n",
        "plt.legend()\n",
        "plt.show()"
      ],
      "execution_count": 39,
      "outputs": [
        {
          "output_type": "display_data",
          "data": {
            "image/png": "[encoded data removed]",
            "text/plain": [
              "<Figure size 432x288 with 1 Axes>"
            ]
          },
          "metadata": {
            "tags": []
          }
        },
        {
          "output_type": "display_data",
          "data": {
            "image/png": "[encoded data removed]",
            "text/plain": [
              "<Figure size 432x288 with 1 Axes>"
            ]
          },
          "metadata": {
            "tags": []
          }
        }
      ]
    },
    {
      "cell_type": "markdown",
      "metadata": {
        "id": "T8f86NeNyQ-6",
        "colab_type": "text"
      },
      "source": [
        "# Strategy 3\n",
        "\n",
        "\n",
        "change the following settings\n",
        "\n",
        "1. data augmentation (image rotation)\n",
        "2. different normalization method\n",
        "3. optimizer (Adam vs. SGD)"
      ]
    },
    {
      "cell_type": "code",
      "metadata": {
        "id": "P2v0By6cywjx",
        "colab_type": "code",
        "colab": {
          "base_uri": "https://localhost:8080/",
          "height": 68
        },
        "outputId": "a9060e28-b15f-409c-fcc7-946605300a1c"
      },
      "source": [
        "train_x, train_y, dev_x, dev_y, test_x = torch.load('data.pth')\n",
        "\n",
        "print('Training size:', train_x.shape, train_y.shape)\n",
        "print('Development size:', dev_x.shape, dev_y.shape)\n",
        "print('Test size:', test_x.shape)\n",
        "\n",
        "\n",
        "train_x , train_y, dev_x, dev_y, test_x = train_x/255, train_y, dev_x/255, dev_y,test_x/255\n",
        "\n",
        "# https://github.com/Armour/pytorch-nn-practice/blob/master/utils/meanstd.py\n",
        "\n",
        "def normalize_stats_image_by_image(images):\n",
        "  CIFAR100_TRAIN_MEAN = np.asarray((0.5070751592371323, 0.48654887331495095, 0.4409178433670343)).reshape(1,3,1,1)\n",
        "  CIFAR100_TRAIN_STD = np.asarray((0.2673342858792401, 0.2564384629170883, 0.27615047132568404)).reshape(1,3,1,1)\n",
        "  return (images - CIFAR100_TRAIN_MEAN)/CIFAR100_TRAIN_STD\n",
        "\n",
        "train_x = normalize_stats_image_by_image(train_x)\n",
        "dev_x = normalize_stats_image_by_image(dev_x)\n",
        "test_x = normalize_stats_image_by_image(test_x)"
      ],
      "execution_count": 40,
      "outputs": [
        {
          "output_type": "stream",
          "text": [
            "Training size: (45000, 3, 32, 32) (45000,)\n",
            "Development size: (5000, 3, 32, 32) (5000,)\n",
            "Test size: (10000, 3, 32, 32)\n"
          ],
          "name": "stdout"
        }
      ]
    },
    {
      "cell_type": "code",
      "metadata": {
        "id": "EuP983VYHbN7",
        "colab_type": "code",
        "colab": {
          "base_uri": "https://localhost:8080/",
          "height": 1000
        },
        "outputId": "09f78cf4-7ad2-414f-c720-38c6c140f358"
      },
      "source": [
        "# show all three channels\n",
        "plt.imshow(train_x[0].transpose((1, 2, 0)))\n",
        "plt.show()\n",
        "\n",
        "# show the first channel\n",
        "plt.imshow(train_x[0, 0])\n",
        "plt.show()\n",
        "\n",
        "\n",
        "\n",
        "# rotation\n",
        "\n",
        "a = np.rot90(train_x[0],1)\n",
        "print(a.shape)\n",
        "plt.figure()\n",
        "plt.imshow(a.transpose((2,0,1)))\n",
        "\n",
        "\n",
        "a = np.rot90(train_x[0],2)\n",
        "print(a.shape)\n",
        "plt.figure()\n",
        "plt.imshow(a.transpose((1,2,0)))\n",
        "\n",
        "a = np.rot90(train_x[0],-1)\n",
        "print(a.shape)\n",
        "plt.figure()\n",
        "plt.imshow(a.transpose((2,0,1)))"
      ],
      "execution_count": 41,
      "outputs": [
        {
          "output_type": "stream",
          "text": [
            "Clipping input data to the valid range for imshow with RGB data ([0..1] for floats or [0..255] for integers).\n"
          ],
          "name": "stderr"
        },
        {
          "output_type": "display_data",
          "data": {
            "image/png": "[encoded data removed]",
            "text/plain": [
              "<Figure size 432x288 with 1 Axes>"
            ]
          },
          "metadata": {
            "tags": []
          }
        },
        {
          "output_type": "display_data",
          "data": {
            "image/png": "[encoded data removed]",
            "text/plain": [
              "<Figure size 432x288 with 1 Axes>"
            ]
          },
          "metadata": {
            "tags": []
          }
        },
        {
          "output_type": "stream",
          "text": [
            "Clipping input data to the valid range for imshow with RGB data ([0..1] for floats or [0..255] for integers).\n",
            "Clipping input data to the valid range for imshow with RGB data ([0..1] for floats or [0..255] for integers).\n",
            "Clipping input data to the valid range for imshow with RGB data ([0..1] for floats or [0..255] for integers).\n"
          ],
          "name": "stderr"
        },
        {
          "output_type": "stream",
          "text": [
            "(32, 3, 32)\n",
            "(3, 32, 32)\n",
            "(32, 3, 32)\n"
          ],
          "name": "stdout"
        },
        {
          "output_type": "execute_result",
          "data": {
            "text/plain": [
              "<matplotlib.image.AxesImage at 0x7f70f75c7eb8>"
            ]
          },
          "metadata": {
            "tags": []
          },
          "execution_count": 41
        },
        {
          "output_type": "display_data",
          "data": {
            "image/png": "[encoded data removed]",
            "text/plain": [
              "<Figure size 432x288 with 1 Axes>"
            ]
          },
          "metadata": {
            "tags": []
          }
        },
        {
          "output_type": "display_data",
          "data": {
            "image/png": "[encoded data removed]",
            "text/plain": [
              "<Figure size 432x288 with 1 Axes>"
            ]
          },
          "metadata": {
            "tags": []
          }
        },
        {
          "output_type": "display_data",
          "data": {
            "image/png": "[encoded data removed]",
            "text/plain": [
              "<Figure size 432x288 with 1 Axes>"
            ]
          },
          "metadata": {
            "tags": []
          }
        }
      ]
    },
    {
      "cell_type": "code",
      "metadata": {
        "id": "atL77yUPzFZy",
        "colab_type": "code",
        "colab": {
          "base_uri": "https://localhost:8080/",
          "height": 566
        },
        "outputId": "ada71c5c-44d4-4184-b558-0295b80c42f9"
      },
      "source": [
        "# augmentation rotation\n",
        "\n",
        "train_x_1 = [np.rot90(j,1).transpose((1,2,0)) for j in train_x]\n",
        "train_x_2 = [np.rot90(j,2) for j in train_x]\n",
        "train_x_3 = [np.rot90(j,3).transpose((1,2,0)) for j in train_x]\n",
        "\n",
        "\n",
        "train_x_1 = np.asarray(train_x_1)\n",
        "train_x_2 = np.asarray(train_x_2)\n",
        "train_x_3 = np.asarray(train_x_3)\n",
        "\n",
        "\n",
        "train_x = np.concatenate((train_x,train_x_1,train_x_2,train_x_3))\n",
        "train_y = np.concatenate((train_y,train_y,train_y,train_y))\n",
        "\n",
        "# # randomly select data so as the same size of raw dataset\n",
        "# idx = np.random.choice(len(train_x),int(len(train_x)/4),replace=False)\n",
        "# train_x = train_x[idx]\n",
        "# train_y = train_y[idx]\n",
        "\n",
        "\n",
        "print(train_x.shape)\n",
        "print(train_y.shape)\n",
        "# show all three channels\n",
        "plt.imshow(train_x_3[0].transpose((1, 2, 0)))\n",
        "plt.show()\n",
        "\n",
        "# show the first channel\n",
        "plt.imshow(train_x_3[0, 0])\n",
        "plt.show()"
      ],
      "execution_count": 42,
      "outputs": [
        {
          "output_type": "stream",
          "text": [
            "Clipping input data to the valid range for imshow with RGB data ([0..1] for floats or [0..255] for integers).\n"
          ],
          "name": "stderr"
        },
        {
          "output_type": "stream",
          "text": [
            "(180000, 3, 32, 32)\n",
            "(180000,)\n"
          ],
          "name": "stdout"
        },
        {
          "output_type": "display_data",
          "data": {
            "image/png": "[encoded data removed]",
            "text/plain": [
              "<Figure size 432x288 with 1 Axes>"
            ]
          },
          "metadata": {
            "tags": []
          }
        },
        {
          "output_type": "display_data",
          "data": {
            "image/png": "[encoded data removed]",
            "text/plain": [
              "<Figure size 432x288 with 1 Axes>"
            ]
          },
          "metadata": {
            "tags": []
          }
        }
      ]
    },
    {
      "cell_type": "code",
      "metadata": {
        "id": "wDJC1MOztAbT",
        "colab_type": "code",
        "colab": {}
      },
      "source": [
        "import torch.nn as nn\n",
        "\n",
        "\n",
        "class Net(nn.Module):\n",
        "    \"\"\"CNN.\"\"\"\n",
        "\n",
        "    def __init__(self):\n",
        "        \"\"\"CNN Builder.\"\"\"\n",
        "        super(Net, self).__init__()\n",
        "\n",
        "        self.conv_layer = nn.Sequential(\n",
        "\n",
        "            # Conv Layer block 1\n",
        "            nn.Conv2d(in_channels=3, out_channels=32, kernel_size=3, padding=1),\n",
        "            nn.BatchNorm2d(32),\n",
        "            nn.ReLU(inplace=True),\n",
        "            nn.Conv2d(in_channels=32, out_channels=64, kernel_size=3, padding=1),\n",
        "            nn.ReLU(inplace=True),\n",
        "            nn.MaxPool2d(kernel_size=2, stride=2),\n",
        "\n",
        "            # Conv Layer block 2\n",
        "            nn.Conv2d(in_channels=64, out_channels=128, kernel_size=3, padding=1),\n",
        "            nn.BatchNorm2d(128),\n",
        "            nn.ReLU(inplace=True),\n",
        "            nn.Conv2d(in_channels=128, out_channels=128, kernel_size=3, padding=1),\n",
        "            nn.ReLU(inplace=True),\n",
        "            nn.MaxPool2d(kernel_size=2, stride=2),\n",
        "            nn.Dropout2d(p=0.05),\n",
        "\n",
        "            # Conv Layer block 3\n",
        "            nn.Conv2d(in_channels=128, out_channels=256, kernel_size=3, padding=1),\n",
        "            nn.BatchNorm2d(256),\n",
        "            nn.ReLU(inplace=True),\n",
        "            nn.Conv2d(in_channels=256, out_channels=256, kernel_size=3, padding=1),\n",
        "            nn.ReLU(inplace=True),\n",
        "            nn.MaxPool2d(kernel_size=2, stride=2),\n",
        "        )\n",
        "\n",
        "\n",
        "        self.fc_layer = nn.Sequential(\n",
        "            nn.Dropout(p=0.1),\n",
        "            nn.Linear(4096, 1024),\n",
        "            nn.ReLU(inplace=True),\n",
        "            nn.Linear(1024, 512),\n",
        "            nn.ReLU(inplace=True),\n",
        "            nn.Dropout(p=0.1),\n",
        "            nn.Linear(512, 100)\n",
        "        )\n",
        "\n",
        "\n",
        "    def forward(self, x):\n",
        "        \"\"\"Perform forward.\"\"\"\n",
        "        \n",
        "        # conv layers\n",
        "        x = self.conv_layer(x)\n",
        "        \n",
        "        # flatten\n",
        "        x = x.view(x.size(0), -1)\n",
        "        # x = x.view(x.size(0), 16)\n",
        "        # fc layer\n",
        "        x = self.fc_layer(x)\n",
        "\n",
        "        return x\n",
        "\n",
        "model = Net()\n",
        "model.to(device) # model=model().cuda()\n",
        "# print(model)\n",
        "# model.cuda()\n",
        "# model.cpu()\n",
        "\n",
        "\n",
        "\n",
        "\n",
        "\n",
        "\n",
        "\n",
        "# optimization\n",
        "\n",
        "\n",
        "\n",
        "import torch.optim as optim\n",
        "criterion = nn.CrossEntropyLoss()\n",
        "optimizer = optim.Adam(model.parameters(), lr=1e-3)\n",
        "# optimizer = optim.SGD(model.parameters(), lr=1e-3, momentum=0.9, weight_decay=5e-4)\n",
        "\n",
        "\n",
        "\n",
        "\n",
        "\n",
        "# for p in model.parameters():\n",
        "#     print(p.device)"
      ],
      "execution_count": 0,
      "outputs": []
    },
    {
      "cell_type": "code",
      "metadata": {
        "id": "Jn2shKZEB0ey",
        "colab_type": "code",
        "colab": {}
      },
      "source": [
        "# train_data = []\n",
        "# for i in range(len(train_x)):\n",
        "#    train_data.append([train_x[i], train_y[i]])\n",
        "\n",
        "# trainloader = torch.utils.data.DataLoader(train_data, shuffle=True, batch_size=100)\n",
        "\n",
        "# i1, l1 = next(iter(trainloader))\n",
        "# print(i1.shape)\n",
        "\n",
        "\n",
        "# # dataloader\n",
        "# import torch.utils.data as data_utils\n",
        "# train = data_utils.TensorDataset(torch.from_numpy(train_x).to(device=device, dtype=torch.float), torch.from_numpy(train_y).to(device=device, dtype=torch.long))\n",
        "# trainloader = data_utils.DataLoader(train, batch_size=100, shuffle=True)\n",
        "# i1, l1 = next(iter(trainloader))\n",
        "# print(i1.shape)\n",
        "# # print(i1)\n",
        "# print(l1)\n",
        "\n",
        "\n",
        "\n",
        "\n",
        "# https://discuss.pytorch.org/t/how-to-normalize-a-tensor-to-0-mean-and-1-variance/18766\n",
        "from torchvision import transforms\n",
        "from torch.utils.data import DataLoader, Dataset\n",
        "class MyDataset(Dataset):\n",
        "    def __init__(self, sample_x, sample_y, transform=None):\n",
        "      self.sample_x = sample_x\n",
        "      self.sample_y = sample_y\n",
        "      self.transform = transform\n",
        "\n",
        "    def __getitem__(self, idx):   \n",
        "      if self.transform is not None:\n",
        "        self.sample_x[idx] = self.transform(self.sample_x[idx])\n",
        "      return self.sample_x[idx], self.sample_y[idx]\n",
        "\n",
        "    def __len__(self):\n",
        "      return len(self.sample_x)\n",
        "\n",
        "\n",
        "\n",
        "# https://stackoverflow.com/a/56741326/11964524\n",
        "# https://discuss.pytorch.org/t/how-can-i-convert-a-numpy-array-with-data-type-of-float32-from-nifti-image-to-pil-image/39221\n",
        "# transformation = transforms.Compose([         \n",
        "#                                      transforms.ToPILImage(),\n",
        "#                                      transforms.RandomHorizontalFlip(),\n",
        "#                                      transforms.ToTensor(),\n",
        "#                                      # https://github.com/Armour/pytorch-nn-practice/blob/master/utils/meanstd.py\n",
        "#                                      transforms.Normalize(mean=[0.5070751592371323, 0.48654887331495095, 0.4409178433670343],\n",
        "#                                                           std=[0.2673342858792401, 0.2564384629170883, 0.27615047132568404])\n",
        "#                                      ])\n",
        "\n",
        "\n",
        "\n",
        "# sample_x = torch.from_numpy(train_x).to(device=device, dtype=torch.float)\n",
        "# sample_y = torch.from_numpy(train_y).to(device=device, dtype=torch.long)\n",
        "# train_dataset = MyDataset(sample_x, sample_y,transformation)\n",
        "# trainloader = DataLoader(train_dataset, batch_size=200, shuffle=True)\n",
        "\n",
        "sample_x = torch.from_numpy(train_x).to(device=device, dtype=torch.float)\n",
        "sample_y = torch.from_numpy(train_y).to(device=device, dtype=torch.long)\n",
        "train_dataset = MyDataset(sample_x, sample_y)\n",
        "trainloader = DataLoader(train_dataset, batch_size=200, shuffle=True)\n",
        "\n",
        "\n",
        "\n",
        "test = torch.utils.data.TensorDataset(torch.from_numpy(dev_x).to(device=device, dtype=torch.float), torch.from_numpy(dev_y).to(device=device, dtype=torch.long))\n",
        "testloader = torch.utils.data.DataLoader(test, batch_size=200, shuffle=False)\n",
        "\n",
        "\n",
        "# print(len(train_dataset))\n",
        "# print(len(trainloader))\n",
        "# for inputs,labels in trainloader:\n",
        "#   pass\n",
        "# print(inputs.shape)\n",
        "# print(labels,labels.shape)\n"
      ],
      "execution_count": 0,
      "outputs": []
    },
    {
      "cell_type": "code",
      "metadata": {
        "id": "TmD4bRfLcqvr",
        "colab_type": "code",
        "colab": {
          "base_uri": "https://localhost:8080/",
          "height": 1000
        },
        "outputId": "7d931491-d63d-4ebf-be99-1a4f729856fd"
      },
      "source": [
        "\n",
        "epoch_loss = []\n",
        "epoch_acc = []\n",
        "epoch_acc_validation = []\n",
        "\n",
        "for epoch in range(100):  # loop over the dataset multiple times\n",
        "    model.train()\n",
        "    running_loss = 0.0\n",
        "    running_correct = 0.0\n",
        "    running_total = 0\n",
        "    # for i, data in enumerate(trainloader, 0):\n",
        "    for inputs, labels in trainloader:\n",
        "        # get the inputs; data is a list of [inputs, labels]\n",
        "\n",
        "        inputs, labels = inputs.to(device = device), labels.to(device = device)\n",
        "        \n",
        "        # zero the parameter gradients\n",
        "        optimizer.zero_grad()\n",
        "\n",
        "        # forward + backward + optimize\n",
        "        outputs = model(inputs)\n",
        "        _, predicted = torch.max(outputs.data, 1)\n",
        "        loss = criterion(outputs, labels)\n",
        "        loss.backward()\n",
        "        optimizer.step()\n",
        "        \n",
        "\n",
        "        running_correct += (predicted == labels).sum().item()        \n",
        "        running_loss += loss.item()\n",
        "        running_total += labels.shape[0]\n",
        "        # note running_total = len(train_dataset) = batch_size * len(trainloader)\n",
        "\n",
        "    epoch_loss.append(running_loss/ running_total)\n",
        "    epoch_acc.append(running_correct / running_total)\n",
        "\n",
        "    model.eval()\n",
        "    pred_res = [] # prediction results after each training epoch\n",
        "    correct = 0\n",
        "    total = 0\n",
        "    for inputs, labels in testloader:\n",
        "        inputs, labels = inputs.to(device), labels.to(device)\n",
        "        outputs = model(inputs)\n",
        "        _, predicted = torch.max(outputs.data, 1)\n",
        "        # predicted to cpu\n",
        "        pred_res.extend(predicted.cpu().numpy())\n",
        "        total += labels.size(0)\n",
        "        correct += (predicted == labels).sum().item()\n",
        "\n",
        "\n",
        "\n",
        "    epoch_acc_validation.append(correct / total)\n",
        "\n",
        "\n",
        "    print('Epoch: %d Loss: %.3f Training Accuracy: %.3f Validation Accuracy: %.3f' %\n",
        "                  (epoch + 1,\n",
        "                   running_loss/ running_total,\n",
        "                   running_correct / running_total,\n",
        "                   correct / total)\n",
        "                  )\n",
        "          \n",
        "print('Finished Training')"
      ],
      "execution_count": 45,
      "outputs": [
        {
          "output_type": "stream",
          "text": [
            "Epoch: 1 Loss: 0.018 Training Accuracy: 0.140 Validation Accuracy: 0.211\n",
            "Epoch: 2 Loss: 0.014 Training Accuracy: 0.286 Validation Accuracy: 0.321\n",
            "Epoch: 3 Loss: 0.012 Training Accuracy: 0.359 Validation Accuracy: 0.358\n",
            "Epoch: 4 Loss: 0.011 Training Accuracy: 0.412 Validation Accuracy: 0.385\n",
            "Epoch: 5 Loss: 0.010 Training Accuracy: 0.451 Validation Accuracy: 0.422\n",
            "Epoch: 6 Loss: 0.009 Training Accuracy: 0.483 Validation Accuracy: 0.434\n",
            "Epoch: 7 Loss: 0.009 Training Accuracy: 0.512 Validation Accuracy: 0.428\n",
            "Epoch: 8 Loss: 0.008 Training Accuracy: 0.534 Validation Accuracy: 0.435\n",
            "Epoch: 9 Loss: 0.008 Training Accuracy: 0.557 Validation Accuracy: 0.446\n",
            "Epoch: 10 Loss: 0.007 Training Accuracy: 0.576 Validation Accuracy: 0.429\n",
            "Epoch: 11 Loss: 0.007 Training Accuracy: 0.592 Validation Accuracy: 0.457\n",
            "Epoch: 12 Loss: 0.006 Training Accuracy: 0.611 Validation Accuracy: 0.455\n",
            "Epoch: 13 Loss: 0.006 Training Accuracy: 0.624 Validation Accuracy: 0.456\n",
            "Epoch: 14 Loss: 0.006 Training Accuracy: 0.637 Validation Accuracy: 0.456\n",
            "Epoch: 15 Loss: 0.006 Training Accuracy: 0.652 Validation Accuracy: 0.450\n",
            "Epoch: 16 Loss: 0.005 Training Accuracy: 0.664 Validation Accuracy: 0.453\n",
            "Epoch: 17 Loss: 0.005 Training Accuracy: 0.676 Validation Accuracy: 0.458\n",
            "Epoch: 18 Loss: 0.005 Training Accuracy: 0.685 Validation Accuracy: 0.450\n",
            "Epoch: 19 Loss: 0.005 Training Accuracy: 0.694 Validation Accuracy: 0.456\n",
            "Epoch: 20 Loss: 0.005 Training Accuracy: 0.705 Validation Accuracy: 0.464\n",
            "Epoch: 21 Loss: 0.005 Training Accuracy: 0.714 Validation Accuracy: 0.461\n",
            "Epoch: 22 Loss: 0.004 Training Accuracy: 0.723 Validation Accuracy: 0.462\n",
            "Epoch: 23 Loss: 0.004 Training Accuracy: 0.731 Validation Accuracy: 0.465\n",
            "Epoch: 24 Loss: 0.004 Training Accuracy: 0.736 Validation Accuracy: 0.455\n",
            "Epoch: 25 Loss: 0.004 Training Accuracy: 0.746 Validation Accuracy: 0.472\n",
            "Epoch: 26 Loss: 0.004 Training Accuracy: 0.751 Validation Accuracy: 0.455\n",
            "Epoch: 27 Loss: 0.004 Training Accuracy: 0.758 Validation Accuracy: 0.461\n",
            "Epoch: 28 Loss: 0.004 Training Accuracy: 0.762 Validation Accuracy: 0.469\n",
            "Epoch: 29 Loss: 0.004 Training Accuracy: 0.769 Validation Accuracy: 0.456\n",
            "Epoch: 30 Loss: 0.004 Training Accuracy: 0.775 Validation Accuracy: 0.462\n",
            "Epoch: 31 Loss: 0.003 Training Accuracy: 0.778 Validation Accuracy: 0.456\n",
            "Epoch: 32 Loss: 0.003 Training Accuracy: 0.786 Validation Accuracy: 0.451\n",
            "Epoch: 33 Loss: 0.003 Training Accuracy: 0.789 Validation Accuracy: 0.462\n",
            "Epoch: 34 Loss: 0.003 Training Accuracy: 0.796 Validation Accuracy: 0.466\n",
            "Epoch: 35 Loss: 0.003 Training Accuracy: 0.799 Validation Accuracy: 0.469\n",
            "Epoch: 36 Loss: 0.003 Training Accuracy: 0.805 Validation Accuracy: 0.475\n",
            "Epoch: 37 Loss: 0.003 Training Accuracy: 0.809 Validation Accuracy: 0.457\n",
            "Epoch: 38 Loss: 0.003 Training Accuracy: 0.812 Validation Accuracy: 0.466\n",
            "Epoch: 39 Loss: 0.003 Training Accuracy: 0.817 Validation Accuracy: 0.474\n",
            "Epoch: 40 Loss: 0.003 Training Accuracy: 0.821 Validation Accuracy: 0.465\n",
            "Epoch: 41 Loss: 0.003 Training Accuracy: 0.825 Validation Accuracy: 0.467\n",
            "Epoch: 42 Loss: 0.003 Training Accuracy: 0.829 Validation Accuracy: 0.469\n",
            "Epoch: 43 Loss: 0.003 Training Accuracy: 0.831 Validation Accuracy: 0.454\n",
            "Epoch: 44 Loss: 0.003 Training Accuracy: 0.834 Validation Accuracy: 0.471\n",
            "Epoch: 45 Loss: 0.003 Training Accuracy: 0.837 Validation Accuracy: 0.463\n",
            "Epoch: 46 Loss: 0.002 Training Accuracy: 0.842 Validation Accuracy: 0.470\n",
            "Epoch: 47 Loss: 0.002 Training Accuracy: 0.843 Validation Accuracy: 0.466\n",
            "Epoch: 48 Loss: 0.002 Training Accuracy: 0.847 Validation Accuracy: 0.467\n",
            "Epoch: 49 Loss: 0.002 Training Accuracy: 0.849 Validation Accuracy: 0.462\n",
            "Epoch: 50 Loss: 0.002 Training Accuracy: 0.852 Validation Accuracy: 0.463\n",
            "Epoch: 51 Loss: 0.002 Training Accuracy: 0.856 Validation Accuracy: 0.470\n",
            "Epoch: 52 Loss: 0.002 Training Accuracy: 0.858 Validation Accuracy: 0.464\n",
            "Epoch: 53 Loss: 0.002 Training Accuracy: 0.861 Validation Accuracy: 0.467\n",
            "Epoch: 54 Loss: 0.002 Training Accuracy: 0.862 Validation Accuracy: 0.470\n",
            "Epoch: 55 Loss: 0.002 Training Accuracy: 0.865 Validation Accuracy: 0.468\n",
            "Epoch: 56 Loss: 0.002 Training Accuracy: 0.867 Validation Accuracy: 0.472\n",
            "Epoch: 57 Loss: 0.002 Training Accuracy: 0.870 Validation Accuracy: 0.469\n",
            "Epoch: 58 Loss: 0.002 Training Accuracy: 0.873 Validation Accuracy: 0.470\n",
            "Epoch: 59 Loss: 0.002 Training Accuracy: 0.874 Validation Accuracy: 0.468\n",
            "Epoch: 60 Loss: 0.002 Training Accuracy: 0.878 Validation Accuracy: 0.475\n",
            "Epoch: 61 Loss: 0.002 Training Accuracy: 0.877 Validation Accuracy: 0.470\n",
            "Epoch: 62 Loss: 0.002 Training Accuracy: 0.882 Validation Accuracy: 0.466\n",
            "Epoch: 63 Loss: 0.002 Training Accuracy: 0.883 Validation Accuracy: 0.468\n",
            "Epoch: 64 Loss: 0.002 Training Accuracy: 0.883 Validation Accuracy: 0.474\n",
            "Epoch: 65 Loss: 0.002 Training Accuracy: 0.887 Validation Accuracy: 0.471\n",
            "Epoch: 66 Loss: 0.002 Training Accuracy: 0.887 Validation Accuracy: 0.471\n",
            "Epoch: 67 Loss: 0.002 Training Accuracy: 0.889 Validation Accuracy: 0.463\n",
            "Epoch: 68 Loss: 0.002 Training Accuracy: 0.891 Validation Accuracy: 0.466\n",
            "Epoch: 69 Loss: 0.002 Training Accuracy: 0.891 Validation Accuracy: 0.467\n",
            "Epoch: 70 Loss: 0.002 Training Accuracy: 0.892 Validation Accuracy: 0.468\n",
            "Epoch: 71 Loss: 0.002 Training Accuracy: 0.895 Validation Accuracy: 0.470\n",
            "Epoch: 72 Loss: 0.002 Training Accuracy: 0.895 Validation Accuracy: 0.465\n",
            "Epoch: 73 Loss: 0.002 Training Accuracy: 0.899 Validation Accuracy: 0.461\n",
            "Epoch: 74 Loss: 0.002 Training Accuracy: 0.899 Validation Accuracy: 0.478\n",
            "Epoch: 75 Loss: 0.002 Training Accuracy: 0.902 Validation Accuracy: 0.471\n",
            "Epoch: 76 Loss: 0.002 Training Accuracy: 0.901 Validation Accuracy: 0.471\n",
            "Epoch: 77 Loss: 0.002 Training Accuracy: 0.901 Validation Accuracy: 0.472\n",
            "Epoch: 78 Loss: 0.002 Training Accuracy: 0.905 Validation Accuracy: 0.462\n",
            "Epoch: 79 Loss: 0.001 Training Accuracy: 0.905 Validation Accuracy: 0.467\n",
            "Epoch: 80 Loss: 0.001 Training Accuracy: 0.906 Validation Accuracy: 0.467\n",
            "Epoch: 81 Loss: 0.001 Training Accuracy: 0.908 Validation Accuracy: 0.480\n",
            "Epoch: 82 Loss: 0.001 Training Accuracy: 0.908 Validation Accuracy: 0.472\n",
            "Epoch: 83 Loss: 0.001 Training Accuracy: 0.909 Validation Accuracy: 0.471\n",
            "Epoch: 84 Loss: 0.001 Training Accuracy: 0.910 Validation Accuracy: 0.478\n",
            "Epoch: 85 Loss: 0.001 Training Accuracy: 0.912 Validation Accuracy: 0.471\n",
            "Epoch: 86 Loss: 0.001 Training Accuracy: 0.914 Validation Accuracy: 0.464\n",
            "Epoch: 87 Loss: 0.001 Training Accuracy: 0.914 Validation Accuracy: 0.470\n",
            "Epoch: 88 Loss: 0.001 Training Accuracy: 0.914 Validation Accuracy: 0.480\n",
            "Epoch: 89 Loss: 0.001 Training Accuracy: 0.916 Validation Accuracy: 0.461\n",
            "Epoch: 90 Loss: 0.001 Training Accuracy: 0.916 Validation Accuracy: 0.468\n",
            "Epoch: 91 Loss: 0.001 Training Accuracy: 0.917 Validation Accuracy: 0.472\n",
            "Epoch: 92 Loss: 0.001 Training Accuracy: 0.919 Validation Accuracy: 0.477\n",
            "Epoch: 93 Loss: 0.001 Training Accuracy: 0.919 Validation Accuracy: 0.472\n",
            "Epoch: 94 Loss: 0.001 Training Accuracy: 0.919 Validation Accuracy: 0.473\n",
            "Epoch: 95 Loss: 0.001 Training Accuracy: 0.920 Validation Accuracy: 0.474\n",
            "Epoch: 96 Loss: 0.001 Training Accuracy: 0.922 Validation Accuracy: 0.473\n",
            "Epoch: 97 Loss: 0.001 Training Accuracy: 0.922 Validation Accuracy: 0.473\n",
            "Epoch: 98 Loss: 0.001 Training Accuracy: 0.924 Validation Accuracy: 0.468\n",
            "Epoch: 99 Loss: 0.001 Training Accuracy: 0.924 Validation Accuracy: 0.470\n",
            "Epoch: 100 Loss: 0.001 Training Accuracy: 0.925 Validation Accuracy: 0.470\n",
            "Finished Training\n"
          ],
          "name": "stdout"
        }
      ]
    },
    {
      "cell_type": "code",
      "metadata": {
        "id": "LniHijv347NQ",
        "colab_type": "code",
        "colab": {}
      },
      "source": [
        "# # save model\n",
        "\n",
        "\n",
        "\n",
        "torch.save(model.state_dict(), 'CNN_model')\n",
        "\n",
        "\n",
        "\n",
        "# # load model\n",
        "\n",
        "# PATH = 'CNN_model'\n",
        "# model = Net()\n",
        "# model.load_state_dict(torch.load(PATH))\n",
        "# model.eval()\n",
        "# model.cuda()\n",
        "\n",
        "\n",
        "\n",
        "# save results\n",
        "\n",
        "import pickle\n",
        "with open(\"epoch_loss\", \"wb\") as fp:\n",
        "  pickle.dump(epoch_loss, fp)\n",
        "\n",
        "with open(\"epoch_acc\", \"wb\") as fp:\n",
        "  pickle.dump(epoch_acc, fp)\n",
        "\n",
        "with open(\"epoch_acc_validation\", \"wb\") as fp:\n",
        "  pickle.dump(epoch_acc_validation, fp)\n",
        "\n",
        "# # load results\n",
        "\n",
        "# %cd DL/\n",
        "# import pickle\n",
        "# epoch_acc = pickle.load( open( \"epoch_acc\", \"rb\" ) )\n",
        "# epoch_acc_validation = pickle.load( open( \"epoch_acc_validation\", \"rb\" ) )\n",
        "# epoch_loss = pickle.load( open( \"epoch_loss\", \"rb\" ) )"
      ],
      "execution_count": 0,
      "outputs": []
    },
    {
      "cell_type": "code",
      "metadata": {
        "colab_type": "code",
        "outputId": "64c26ad1-b18d-4516-f6c2-e619a1dab72b",
        "id": "GuKj72-z319V",
        "colab": {
          "base_uri": "https://localhost:8080/",
          "height": 573
        }
      },
      "source": [
        "import matplotlib.pyplot as plt\n",
        "\n",
        "plt.plot(epoch_loss,label = 'loss')\n",
        "plt.title('Training Loss over Epoch')\n",
        "plt.xlabel('Epoch')\n",
        "plt.ylabel('CrossEntropy')\n",
        "plt.legend()\n",
        "plt.show()\n",
        "plt.savefig('loss plot.png')\n",
        "\n",
        "\n",
        "plt.plot(epoch_acc,label = 'training_accuracy')\n",
        "plt.plot(epoch_acc_validation, label = 'validation_accuracy')\n",
        "plt.ylabel('Accuracy (%)')\n",
        "plt.xlabel('Epoch')\n",
        "plt.title('Training and Validation Accuracy over Epoch')\n",
        "plt.legend()\n",
        "plt.show()"
      ],
      "execution_count": 49,
      "outputs": [
        {
          "output_type": "display_data",
          "data": {
            "image/png": "[encoded data removed]",
            "text/plain": [
              "<Figure size 432x288 with 1 Axes>"
            ]
          },
          "metadata": {
            "tags": []
          }
        },
        {
          "output_type": "display_data",
          "data": {
            "image/png": "[encoded data removed]",
            "text/plain": [
              "<Figure size 432x288 with 1 Axes>"
            ]
          },
          "metadata": {
            "tags": []
          }
        }
      ]
    },
    {
      "cell_type": "code",
      "metadata": {
        "id": "y6RJKLocEdcF",
        "colab_type": "code",
        "colab": {
          "base_uri": "https://localhost:8080/",
          "height": 34
        },
        "outputId": "8191f78f-b6eb-4af5-b57f-b14d5f60228f"
      },
      "source": [
        "# validation data\n",
        "\n",
        "# test = torch.utils.data.TensorDataset(torch.from_numpy(dev_x).to(device=device, dtype=torch.float), torch.from_numpy(dev_y).to(device=device, dtype=torch.long))\n",
        "# testloader = torch.utils.data.DataLoader(test, batch_size=100, shuffle=False)\n",
        "\n",
        "model.eval()\n",
        "\n",
        "pred_res = []\n",
        "\n",
        "# Test the model\n",
        "# In test phase, we don't need to compute gradients (for memory efficiency)\n",
        "with torch.no_grad():\n",
        "    correct = 0\n",
        "    total = 0\n",
        "    for inputs, labels in testloader:\n",
        "        inputs, labels = inputs.to(device), labels.to(device)\n",
        "        outputs = model(inputs)\n",
        "        _, predicted = torch.max(outputs.data, 1)\n",
        "        # predicted to cpu\n",
        "        pred_res.extend(predicted.cpu().numpy())\n",
        "        total += labels.size(0)\n",
        "        correct += (predicted == labels).sum().item()\n",
        "\n",
        "    # print('Accuracy of the network on the test data: {} %'.format(100 * correct / total))\n",
        "    print('Accuracy of the network on the validation data: {} %'.format(100 * correct / total))\n"
      ],
      "execution_count": 50,
      "outputs": [
        {
          "output_type": "stream",
          "text": [
            "Accuracy of the network on the validation data: 46.96 %\n"
          ],
          "name": "stdout"
        }
      ]
    },
    {
      "cell_type": "code",
      "metadata": {
        "id": "Q_NJH4XtD1L_",
        "colab_type": "code",
        "colab": {}
      },
      "source": [
        "pred_res = np.asarray(pred_res)\n",
        "print(dev_y)\n",
        "print(pred_res[:5])\n",
        "print((pred_res == dev_y).sum()/len(pred_res))"
      ],
      "execution_count": 0,
      "outputs": []
    },
    {
      "cell_type": "code",
      "metadata": {
        "id": "WAAkfYC_CxpT",
        "colab_type": "code",
        "colab": {}
      },
      "source": [
        "# test data\n",
        "model.eval()\n",
        "pred_res = []\n",
        "\n",
        "# torch.FloatTensor(test_x)\n",
        "with torch.no_grad():\n",
        "  testdata = torch.FloatTensor(test_x).to(device=device)\n",
        "  outputs = model(testdata)\n",
        "  _, predicted = torch.max(outputs.data, 1)\n",
        "  pred_res.extend(predicted.cpu().numpy())"
      ],
      "execution_count": 0,
      "outputs": []
    },
    {
      "cell_type": "code",
      "metadata": {
        "id": "5t0t_ZHlBYgl",
        "colab_type": "code",
        "colab": {
          "base_uri": "https://localhost:8080/",
          "height": 204
        },
        "outputId": "cae6a8a5-aa7a-484f-96c0-cc3b4156bda7"
      },
      "source": [
        "from typing import List\n",
        "def write_prediction(prediction: List[int], filename: str):\n",
        "    with open(filename, 'w') as fp:\n",
        "        print('Id,Category', file=fp)\n",
        "        for i, pred in enumerate(prediction):\n",
        "            print(f'{i},{pred}', file=fp)\n",
        "\n",
        "\n",
        "write_prediction(pred_res, 'DL_hw_CNN.csv')\n",
        "!head 'DL_hw_CNN.csv'\n",
        "!wc -l 'DL_hw_CNN.csv'"
      ],
      "execution_count": 54,
      "outputs": [
        {
          "output_type": "stream",
          "text": [
            "Id,Category\n",
            "0,35\n",
            "1,24\n",
            "2,66\n",
            "3,70\n",
            "4,39\n",
            "5,22\n",
            "6,70\n",
            "7,14\n",
            "8,87\n",
            "10001 DL_hw_CNN.csv\n"
          ],
          "name": "stdout"
        }
      ]
    },
    {
      "cell_type": "code",
      "metadata": {
        "id": "7jj3lT3L-imj",
        "colab_type": "code",
        "colab": {
          "base_uri": "https://localhost:8080/",
          "height": 51
        },
        "outputId": "83b38fdb-8478-4ed1-c1ac-393174115c6a"
      },
      "source": [
        "!pip freeze > requirements.txt\n",
        "!ls"
      ],
      "execution_count": 55,
      "outputs": [
        {
          "output_type": "stream",
          "text": [
            " CNN_model   DL_hw_CNN.csv   epoch_acc_validation  'loss plot.png'\n",
            " data.pth    epoch_acc\t     epoch_loss\t\t    requirements.txt\n"
          ],
          "name": "stdout"
        }
      ]
    },
    {
      "cell_type": "markdown",
      "metadata": {
        "id": "jDGBzytorV5y",
        "colab_type": "text"
      },
      "source": [
        "# Ref\n",
        "https://github.com/Armour/pytorch-nn-practice/blob/master/utils/meanstd.py\n",
        "\n",
        "\n",
        "https://nbviewer.jupyter.org/github/rasbt/deeplearning-models/blob/master/pytorch_ipynb/cnn/cnn-lenet5-cifar10.ipynb\n",
        "\n",
        "https://github.com/pytorch/examples/blob/master/mnist/main.py\n"
      ]
    },
    {
      "cell_type": "markdown",
      "metadata": {
        "id": "9VDzCUokFPGV",
        "colab_type": "text"
      },
      "source": [
        "# Further Strategy\n",
        "\n",
        "ResNet\n",
        "\n",
        "ref: https://github.com/yunjey/pytorch-tutorial/blob/master/tutorials/02-intermediate/deep_residual_network/main.py\n"
      ]
    }
  ]
}