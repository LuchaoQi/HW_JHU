{
 "cells": [
  {
   "cell_type": "markdown",
   "metadata": {
    "colab_type": "text",
    "id": "PU39Iz9uu5Fs"
   },
   "source": [
    "# Machine Learning: Deep Learning - Spring 2020\n",
    "# Lab 1: Setting up the environment\n",
    "\n",
    "\n",
    "\n",
    "\n",
    "\n"
   ]
  },
  {
   "cell_type": "markdown",
   "metadata": {
    "colab_type": "text",
    "id": "9nHQyrj9wmy9"
   },
   "source": [
    "## Free GPU from Google - Google Colab\n",
    "\n",
    "https://colab.research.google.com/\n",
    "\n",
    "* Colab is a *jupyter notebook* hosted by Google.\n",
    "    * What is jupyter notebook? https://jupyter-notebook.readthedocs.io/en/stable/\n",
    "* You have to do extra steps to enable the free GPU: \n",
    "    * (menubar) Runtime -> Change runtime type -> Choose GPU under Hardware accelerator\n",
    "* The VM that hosts a notebook stays alive (if something is running) for about 2h if you close the webpage, or about 24h if you keep it open.\n",
    "* No persistent storage unless you mount external storage. Every time you open a notebook you have to download the files you need. Any saved files will be gone. Following are workarounds.\n",
    "    * Google drive\n",
    "    * Google cloud bucket\n",
    "    * Github\n",
    "\n",
    "**Exercise: Enable GPU for this notebook, and run the next block `shift+enter` to verify.**\n",
    "\n",
    "You should see `Tesla T4` or `K80` or `P100`, depending on how much Google loves you.\n"
   ]
  },
  {
   "cell_type": "code",
   "execution_count": 0,
   "metadata": {
    "colab": {},
    "colab_type": "code",
    "id": "cPsdhfEfx6og"
   },
   "outputs": [],
   "source": [
    "!nvidia-smi"
   ]
  },
  {
   "cell_type": "markdown",
   "metadata": {
    "colab_type": "text",
    "id": "zVjF3Y2M12w5"
   },
   "source": [
    "**Example: Mount your google drive**\n",
    "\n",
    "Run the block below. You will need to click a link to login. Unfortunately you have to do this every time you start a notebook. \n",
    "\n",
    "Why use %cd instead of !cd? https://ipython.readthedocs.io/en/stable/interactive/magics.html#magic-cd "
   ]
  },
  {
   "cell_type": "code",
   "execution_count": 0,
   "metadata": {
    "colab": {},
    "colab_type": "code",
    "id": "Z3VC21j_x7Vk"
   },
   "outputs": [],
   "source": [
    "from google.colab import drive\n",
    "drive.flush_and_unmount()\n",
    "drive.mount('/content/gdrive')\n",
    "%cd /content/gdrive/My\\ Drive/\n",
    "!ls"
   ]
  },
  {
   "cell_type": "markdown",
   "metadata": {
    "colab_type": "text",
    "id": "tvI24TGm7OKm"
   },
   "source": [
    "**Exercise: create an empty file \"blah.txt\" in your google drive.**\n",
    "\n",
    "Hint: you have already `cd` into your google drive. Just create the file.\n",
    "\n",
    "Hint: `touch` command https://linux.die.net/man/1/touch\n",
    "\n",
    "Hint: to run a shell command, prefix the command with `!`"
   ]
  },
  {
   "cell_type": "code",
   "execution_count": 0,
   "metadata": {
    "colab": {},
    "colab_type": "code",
    "id": "miCXTnbC8a_f"
   },
   "outputs": [],
   "source": [
    "# create file\n",
    "!ls"
   ]
  },
  {
   "cell_type": "markdown",
   "metadata": {
    "colab_type": "text",
    "id": "Td20CIcK6T73"
   },
   "source": [
    "**Example: run python non-interactively**\n",
    "\n",
    "You don't have to run python interactively with Colab. Just put your python code in Google drive. or clone it from github. or download it from a webserver."
   ]
  },
  {
   "cell_type": "code",
   "execution_count": 0,
   "metadata": {
    "colab": {},
    "colab_type": "code",
    "id": "OrBNb4crAu3M"
   },
   "outputs": [],
   "source": [
    "# Example using git\n",
    "%cd\n",
    "!git clone https://github.com/urill/dikbut.git\n",
    "%cd dikbut\n",
    "!python dikbut.py"
   ]
  },
  {
   "cell_type": "markdown",
   "metadata": {
    "colab_type": "text",
    "id": "K0TE_pxuB4ZE"
   },
   "source": [
    "## pytorch and friends\n",
    "\n",
    "While you can do pretty much anything on Colab, we recommend that you keep a local development environment. Local development makes debugging much easier because you can use a GUI debugger.\n",
    "\n",
    "Please follow the accompanying lab guide `tool_tutorials.pdf`. If you are familiar with any of the tools, feel free to skip its section. \n",
    "\n",
    "For the following labs, assignments, and the final project, we assume you have at least understand the syntax of these tools:\n",
    "\n",
    "* Python 3\n",
    "* jupyter notebook\n",
    "* numpy\n",
    "* matplotlib\n",
    "* pytorch"
   ]
  }
 ],
 "metadata": {
  "accelerator": "GPU",
  "colab": {
   "collapsed_sections": [],
   "name": "dl_lab1.ipynb",
   "provenance": []
  },
  "kernelspec": {
   "display_name": "Python 3",
   "language": "python",
   "name": "python3"
  },
  "language_info": {
   "codemirror_mode": {
    "name": "ipython",
    "version": 3
   },
   "file_extension": ".py",
   "mimetype": "text/x-python",
   "name": "python",
   "nbconvert_exporter": "python",
   "pygments_lexer": "ipython3",
   "version": "3.7.5"
  },
  "toc": {
   "base_numbering": 1,
   "nav_menu": {},
   "number_sections": true,
   "sideBar": true,
   "skip_h1_title": false,
   "title_cell": "Table of Contents",
   "title_sidebar": "Contents",
   "toc_cell": false,
   "toc_position": {},
   "toc_section_display": true,
   "toc_window_display": false
  },
  "varInspector": {
   "cols": {
    "lenName": 16,
    "lenType": 16,
    "lenVar": 40
   },
   "kernels_config": {
    "python": {
     "delete_cmd_postfix": "",
     "delete_cmd_prefix": "del ",
     "library": "var_list.py",
     "varRefreshCmd": "print(var_dic_list())"
    },
    "r": {
     "delete_cmd_postfix": ") ",
     "delete_cmd_prefix": "rm(",
     "library": "var_list.r",
     "varRefreshCmd": "cat(var_dic_list()) "
    }
   },
   "types_to_exclude": [
    "module",
    "function",
    "builtin_function_or_method",
    "instance",
    "_Feature"
   ],
   "window_display": false
  }
 },
 "nbformat": 4,
 "nbformat_minor": 1
}
