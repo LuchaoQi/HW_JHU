{
  "nbformat": 4,
  "nbformat_minor": 0,
  "metadata": {
    "colab": {
      "name": "HW2.ipynb",
      "provenance": [],
      "collapsed_sections": [],
      "toc_visible": true
    },
    "kernelspec": {
      "name": "python3",
      "display_name": "Python 3"
    },
    "language_info": {
      "codemirror_mode": {
        "name": "ipython",
        "version": 3
      },
      "file_extension": ".py",
      "mimetype": "text/x-python",
      "name": "python",
      "nbconvert_exporter": "python",
      "pygments_lexer": "ipython3",
      "version": "3.7.1"
    },
    "accelerator": "GPU",
    "widgets": {
      "application/vnd.jupyter.widget-state+json": {
        "996b85cd93d94f46bafafdea33b87ca8": {
          "model_module": "@jupyter-widgets/controls",
          "model_name": "HBoxModel",
          "state": {
            "_view_name": "HBoxView",
            "_dom_classes": [],
            "_model_name": "HBoxModel",
            "_view_module": "@jupyter-widgets/controls",
            "_model_module_version": "1.5.0",
            "_view_count": null,
            "_view_module_version": "1.5.0",
            "box_style": "",
            "layout": "IPY_MODEL_5558a2652026468db5b02aad07bc1da3",
            "_model_module": "@jupyter-widgets/controls",
            "children": [
              "IPY_MODEL_0bfd030144594f25a2c192d7cc6a4f2c",
              "IPY_MODEL_8a3c837c0a4f4787adae2b983623c47d"
            ]
          }
        },
        "5558a2652026468db5b02aad07bc1da3": {
          "model_module": "@jupyter-widgets/base",
          "model_name": "LayoutModel",
          "state": {
            "_view_name": "LayoutView",
            "grid_template_rows": null,
            "right": null,
            "justify_content": null,
            "_view_module": "@jupyter-widgets/base",
            "overflow": null,
            "_model_module_version": "1.2.0",
            "_view_count": null,
            "flex_flow": null,
            "width": null,
            "min_width": null,
            "border": null,
            "align_items": null,
            "bottom": null,
            "_model_module": "@jupyter-widgets/base",
            "top": null,
            "grid_column": null,
            "overflow_y": null,
            "overflow_x": null,
            "grid_auto_flow": null,
            "grid_area": null,
            "grid_template_columns": null,
            "flex": null,
            "_model_name": "LayoutModel",
            "justify_items": null,
            "grid_row": null,
            "max_height": null,
            "align_content": null,
            "visibility": null,
            "align_self": null,
            "height": null,
            "min_height": null,
            "padding": null,
            "grid_auto_rows": null,
            "grid_gap": null,
            "max_width": null,
            "order": null,
            "_view_module_version": "1.2.0",
            "grid_template_areas": null,
            "object_position": null,
            "object_fit": null,
            "grid_auto_columns": null,
            "margin": null,
            "display": null,
            "left": null
          }
        },
        "0bfd030144594f25a2c192d7cc6a4f2c": {
          "model_module": "@jupyter-widgets/controls",
          "model_name": "IntProgressModel",
          "state": {
            "_view_name": "ProgressView",
            "style": "IPY_MODEL_80a867ce0f2a41898b5ac8d9b6742300",
            "_dom_classes": [],
            "description": "",
            "_model_name": "IntProgressModel",
            "bar_style": "success",
            "max": 1,
            "_view_module": "@jupyter-widgets/controls",
            "_model_module_version": "1.5.0",
            "value": 1,
            "_view_count": null,
            "_view_module_version": "1.5.0",
            "orientation": "horizontal",
            "min": 0,
            "description_tooltip": null,
            "_model_module": "@jupyter-widgets/controls",
            "layout": "IPY_MODEL_70456b77f0d24d09b8da5c1617c8e062"
          }
        },
        "8a3c837c0a4f4787adae2b983623c47d": {
          "model_module": "@jupyter-widgets/controls",
          "model_name": "HTMLModel",
          "state": {
            "_view_name": "HTMLView",
            "style": "IPY_MODEL_13886a0fc36c4102a6632c6bdfe994d0",
            "_dom_classes": [],
            "description": "",
            "_model_name": "HTMLModel",
            "placeholder": "​",
            "_view_module": "@jupyter-widgets/controls",
            "_model_module_version": "1.5.0",
            "value": "9920512it [00:01, 8534012.50it/s]",
            "_view_count": null,
            "_view_module_version": "1.5.0",
            "description_tooltip": null,
            "_model_module": "@jupyter-widgets/controls",
            "layout": "IPY_MODEL_30ad4dd10972459b9f6bcd78eff4b47f"
          }
        },
        "80a867ce0f2a41898b5ac8d9b6742300": {
          "model_module": "@jupyter-widgets/controls",
          "model_name": "ProgressStyleModel",
          "state": {
            "_view_name": "StyleView",
            "_model_name": "ProgressStyleModel",
            "description_width": "",
            "_view_module": "@jupyter-widgets/base",
            "_model_module_version": "1.5.0",
            "_view_count": null,
            "_view_module_version": "1.2.0",
            "bar_color": null,
            "_model_module": "@jupyter-widgets/controls"
          }
        },
        "70456b77f0d24d09b8da5c1617c8e062": {
          "model_module": "@jupyter-widgets/base",
          "model_name": "LayoutModel",
          "state": {
            "_view_name": "LayoutView",
            "grid_template_rows": null,
            "right": null,
            "justify_content": null,
            "_view_module": "@jupyter-widgets/base",
            "overflow": null,
            "_model_module_version": "1.2.0",
            "_view_count": null,
            "flex_flow": null,
            "width": null,
            "min_width": null,
            "border": null,
            "align_items": null,
            "bottom": null,
            "_model_module": "@jupyter-widgets/base",
            "top": null,
            "grid_column": null,
            "overflow_y": null,
            "overflow_x": null,
            "grid_auto_flow": null,
            "grid_area": null,
            "grid_template_columns": null,
            "flex": null,
            "_model_name": "LayoutModel",
            "justify_items": null,
            "grid_row": null,
            "max_height": null,
            "align_content": null,
            "visibility": null,
            "align_self": null,
            "height": null,
            "min_height": null,
            "padding": null,
            "grid_auto_rows": null,
            "grid_gap": null,
            "max_width": null,
            "order": null,
            "_view_module_version": "1.2.0",
            "grid_template_areas": null,
            "object_position": null,
            "object_fit": null,
            "grid_auto_columns": null,
            "margin": null,
            "display": null,
            "left": null
          }
        },
        "13886a0fc36c4102a6632c6bdfe994d0": {
          "model_module": "@jupyter-widgets/controls",
          "model_name": "DescriptionStyleModel",
          "state": {
            "_view_name": "StyleView",
            "_model_name": "DescriptionStyleModel",
            "description_width": "",
            "_view_module": "@jupyter-widgets/base",
            "_model_module_version": "1.5.0",
            "_view_count": null,
            "_view_module_version": "1.2.0",
            "_model_module": "@jupyter-widgets/controls"
          }
        },
        "30ad4dd10972459b9f6bcd78eff4b47f": {
          "model_module": "@jupyter-widgets/base",
          "model_name": "LayoutModel",
          "state": {
            "_view_name": "LayoutView",
            "grid_template_rows": null,
            "right": null,
            "justify_content": null,
            "_view_module": "@jupyter-widgets/base",
            "overflow": null,
            "_model_module_version": "1.2.0",
            "_view_count": null,
            "flex_flow": null,
            "width": null,
            "min_width": null,
            "border": null,
            "align_items": null,
            "bottom": null,
            "_model_module": "@jupyter-widgets/base",
            "top": null,
            "grid_column": null,
            "overflow_y": null,
            "overflow_x": null,
            "grid_auto_flow": null,
            "grid_area": null,
            "grid_template_columns": null,
            "flex": null,
            "_model_name": "LayoutModel",
            "justify_items": null,
            "grid_row": null,
            "max_height": null,
            "align_content": null,
            "visibility": null,
            "align_self": null,
            "height": null,
            "min_height": null,
            "padding": null,
            "grid_auto_rows": null,
            "grid_gap": null,
            "max_width": null,
            "order": null,
            "_view_module_version": "1.2.0",
            "grid_template_areas": null,
            "object_position": null,
            "object_fit": null,
            "grid_auto_columns": null,
            "margin": null,
            "display": null,
            "left": null
          }
        },
        "6127d7caa5054afd8959519bea398d05": {
          "model_module": "@jupyter-widgets/controls",
          "model_name": "HBoxModel",
          "state": {
            "_view_name": "HBoxView",
            "_dom_classes": [],
            "_model_name": "HBoxModel",
            "_view_module": "@jupyter-widgets/controls",
            "_model_module_version": "1.5.0",
            "_view_count": null,
            "_view_module_version": "1.5.0",
            "box_style": "",
            "layout": "IPY_MODEL_b1bc47b9921c4304892941fc469a5b6a",
            "_model_module": "@jupyter-widgets/controls",
            "children": [
              "IPY_MODEL_7dcc0eb57f804e428913f874b811fb7e",
              "IPY_MODEL_152c43d830064d65b635bb77351874b8"
            ]
          }
        },
        "b1bc47b9921c4304892941fc469a5b6a": {
          "model_module": "@jupyter-widgets/base",
          "model_name": "LayoutModel",
          "state": {
            "_view_name": "LayoutView",
            "grid_template_rows": null,
            "right": null,
            "justify_content": null,
            "_view_module": "@jupyter-widgets/base",
            "overflow": null,
            "_model_module_version": "1.2.0",
            "_view_count": null,
            "flex_flow": null,
            "width": null,
            "min_width": null,
            "border": null,
            "align_items": null,
            "bottom": null,
            "_model_module": "@jupyter-widgets/base",
            "top": null,
            "grid_column": null,
            "overflow_y": null,
            "overflow_x": null,
            "grid_auto_flow": null,
            "grid_area": null,
            "grid_template_columns": null,
            "flex": null,
            "_model_name": "LayoutModel",
            "justify_items": null,
            "grid_row": null,
            "max_height": null,
            "align_content": null,
            "visibility": null,
            "align_self": null,
            "height": null,
            "min_height": null,
            "padding": null,
            "grid_auto_rows": null,
            "grid_gap": null,
            "max_width": null,
            "order": null,
            "_view_module_version": "1.2.0",
            "grid_template_areas": null,
            "object_position": null,
            "object_fit": null,
            "grid_auto_columns": null,
            "margin": null,
            "display": null,
            "left": null
          }
        },
        "7dcc0eb57f804e428913f874b811fb7e": {
          "model_module": "@jupyter-widgets/controls",
          "model_name": "IntProgressModel",
          "state": {
            "_view_name": "ProgressView",
            "style": "IPY_MODEL_95177b968cd04928827400e5da44b163",
            "_dom_classes": [],
            "description": "",
            "_model_name": "IntProgressModel",
            "bar_style": "success",
            "max": 1,
            "_view_module": "@jupyter-widgets/controls",
            "_model_module_version": "1.5.0",
            "value": 1,
            "_view_count": null,
            "_view_module_version": "1.5.0",
            "orientation": "horizontal",
            "min": 0,
            "description_tooltip": null,
            "_model_module": "@jupyter-widgets/controls",
            "layout": "IPY_MODEL_b3b9123669c7491c8d9876749c7b9821"
          }
        },
        "152c43d830064d65b635bb77351874b8": {
          "model_module": "@jupyter-widgets/controls",
          "model_name": "HTMLModel",
          "state": {
            "_view_name": "HTMLView",
            "style": "IPY_MODEL_ed30144f29a24a3b836de7c33749df1f",
            "_dom_classes": [],
            "description": "",
            "_model_name": "HTMLModel",
            "placeholder": "​",
            "_view_module": "@jupyter-widgets/controls",
            "_model_module_version": "1.5.0",
            "value": "32768it [00:00, 82975.00it/s]",
            "_view_count": null,
            "_view_module_version": "1.5.0",
            "description_tooltip": null,
            "_model_module": "@jupyter-widgets/controls",
            "layout": "IPY_MODEL_4a49e5e23b654298b4f8fd740a5200df"
          }
        },
        "95177b968cd04928827400e5da44b163": {
          "model_module": "@jupyter-widgets/controls",
          "model_name": "ProgressStyleModel",
          "state": {
            "_view_name": "StyleView",
            "_model_name": "ProgressStyleModel",
            "description_width": "",
            "_view_module": "@jupyter-widgets/base",
            "_model_module_version": "1.5.0",
            "_view_count": null,
            "_view_module_version": "1.2.0",
            "bar_color": null,
            "_model_module": "@jupyter-widgets/controls"
          }
        },
        "b3b9123669c7491c8d9876749c7b9821": {
          "model_module": "@jupyter-widgets/base",
          "model_name": "LayoutModel",
          "state": {
            "_view_name": "LayoutView",
            "grid_template_rows": null,
            "right": null,
            "justify_content": null,
            "_view_module": "@jupyter-widgets/base",
            "overflow": null,
            "_model_module_version": "1.2.0",
            "_view_count": null,
            "flex_flow": null,
            "width": null,
            "min_width": null,
            "border": null,
            "align_items": null,
            "bottom": null,
            "_model_module": "@jupyter-widgets/base",
            "top": null,
            "grid_column": null,
            "overflow_y": null,
            "overflow_x": null,
            "grid_auto_flow": null,
            "grid_area": null,
            "grid_template_columns": null,
            "flex": null,
            "_model_name": "LayoutModel",
            "justify_items": null,
            "grid_row": null,
            "max_height": null,
            "align_content": null,
            "visibility": null,
            "align_self": null,
            "height": null,
            "min_height": null,
            "padding": null,
            "grid_auto_rows": null,
            "grid_gap": null,
            "max_width": null,
            "order": null,
            "_view_module_version": "1.2.0",
            "grid_template_areas": null,
            "object_position": null,
            "object_fit": null,
            "grid_auto_columns": null,
            "margin": null,
            "display": null,
            "left": null
          }
        },
        "ed30144f29a24a3b836de7c33749df1f": {
          "model_module": "@jupyter-widgets/controls",
          "model_name": "DescriptionStyleModel",
          "state": {
            "_view_name": "StyleView",
            "_model_name": "DescriptionStyleModel",
            "description_width": "",
            "_view_module": "@jupyter-widgets/base",
            "_model_module_version": "1.5.0",
            "_view_count": null,
            "_view_module_version": "1.2.0",
            "_model_module": "@jupyter-widgets/controls"
          }
        },
        "4a49e5e23b654298b4f8fd740a5200df": {
          "model_module": "@jupyter-widgets/base",
          "model_name": "LayoutModel",
          "state": {
            "_view_name": "LayoutView",
            "grid_template_rows": null,
            "right": null,
            "justify_content": null,
            "_view_module": "@jupyter-widgets/base",
            "overflow": null,
            "_model_module_version": "1.2.0",
            "_view_count": null,
            "flex_flow": null,
            "width": null,
            "min_width": null,
            "border": null,
            "align_items": null,
            "bottom": null,
            "_model_module": "@jupyter-widgets/base",
            "top": null,
            "grid_column": null,
            "overflow_y": null,
            "overflow_x": null,
            "grid_auto_flow": null,
            "grid_area": null,
            "grid_template_columns": null,
            "flex": null,
            "_model_name": "LayoutModel",
            "justify_items": null,
            "grid_row": null,
            "max_height": null,
            "align_content": null,
            "visibility": null,
            "align_self": null,
            "height": null,
            "min_height": null,
            "padding": null,
            "grid_auto_rows": null,
            "grid_gap": null,
            "max_width": null,
            "order": null,
            "_view_module_version": "1.2.0",
            "grid_template_areas": null,
            "object_position": null,
            "object_fit": null,
            "grid_auto_columns": null,
            "margin": null,
            "display": null,
            "left": null
          }
        },
        "16331fd5c32e4a2d96f745f1ac15cd48": {
          "model_module": "@jupyter-widgets/controls",
          "model_name": "HBoxModel",
          "state": {
            "_view_name": "HBoxView",
            "_dom_classes": [],
            "_model_name": "HBoxModel",
            "_view_module": "@jupyter-widgets/controls",
            "_model_module_version": "1.5.0",
            "_view_count": null,
            "_view_module_version": "1.5.0",
            "box_style": "",
            "layout": "IPY_MODEL_ff18cee5088446a2b8c4803759daeffb",
            "_model_module": "@jupyter-widgets/controls",
            "children": [
              "IPY_MODEL_d5ea483db6fd4d979d123636a6d7103c",
              "IPY_MODEL_f3f3da6c4d394a6fb5ebabfa616cd92f"
            ]
          }
        },
        "ff18cee5088446a2b8c4803759daeffb": {
          "model_module": "@jupyter-widgets/base",
          "model_name": "LayoutModel",
          "state": {
            "_view_name": "LayoutView",
            "grid_template_rows": null,
            "right": null,
            "justify_content": null,
            "_view_module": "@jupyter-widgets/base",
            "overflow": null,
            "_model_module_version": "1.2.0",
            "_view_count": null,
            "flex_flow": null,
            "width": null,
            "min_width": null,
            "border": null,
            "align_items": null,
            "bottom": null,
            "_model_module": "@jupyter-widgets/base",
            "top": null,
            "grid_column": null,
            "overflow_y": null,
            "overflow_x": null,
            "grid_auto_flow": null,
            "grid_area": null,
            "grid_template_columns": null,
            "flex": null,
            "_model_name": "LayoutModel",
            "justify_items": null,
            "grid_row": null,
            "max_height": null,
            "align_content": null,
            "visibility": null,
            "align_self": null,
            "height": null,
            "min_height": null,
            "padding": null,
            "grid_auto_rows": null,
            "grid_gap": null,
            "max_width": null,
            "order": null,
            "_view_module_version": "1.2.0",
            "grid_template_areas": null,
            "object_position": null,
            "object_fit": null,
            "grid_auto_columns": null,
            "margin": null,
            "display": null,
            "left": null
          }
        },
        "d5ea483db6fd4d979d123636a6d7103c": {
          "model_module": "@jupyter-widgets/controls",
          "model_name": "IntProgressModel",
          "state": {
            "_view_name": "ProgressView",
            "style": "IPY_MODEL_9b7dd91eb99a46e8b7abf555dfbe45c9",
            "_dom_classes": [],
            "description": "",
            "_model_name": "IntProgressModel",
            "bar_style": "success",
            "max": 1,
            "_view_module": "@jupyter-widgets/controls",
            "_model_module_version": "1.5.0",
            "value": 1,
            "_view_count": null,
            "_view_module_version": "1.5.0",
            "orientation": "horizontal",
            "min": 0,
            "description_tooltip": null,
            "_model_module": "@jupyter-widgets/controls",
            "layout": "IPY_MODEL_199967d37d7f48799878038bcfa4d801"
          }
        },
        "f3f3da6c4d394a6fb5ebabfa616cd92f": {
          "model_module": "@jupyter-widgets/controls",
          "model_name": "HTMLModel",
          "state": {
            "_view_name": "HTMLView",
            "style": "IPY_MODEL_088e7083676d4026aa728fcb61b0dfa2",
            "_dom_classes": [],
            "description": "",
            "_model_name": "HTMLModel",
            "placeholder": "​",
            "_view_module": "@jupyter-widgets/controls",
            "_model_module_version": "1.5.0",
            "value": "1654784it [00:00, 2031371.18it/s]",
            "_view_count": null,
            "_view_module_version": "1.5.0",
            "description_tooltip": null,
            "_model_module": "@jupyter-widgets/controls",
            "layout": "IPY_MODEL_f64b5aafb0744b79b07f6118813c43ee"
          }
        },
        "9b7dd91eb99a46e8b7abf555dfbe45c9": {
          "model_module": "@jupyter-widgets/controls",
          "model_name": "ProgressStyleModel",
          "state": {
            "_view_name": "StyleView",
            "_model_name": "ProgressStyleModel",
            "description_width": "",
            "_view_module": "@jupyter-widgets/base",
            "_model_module_version": "1.5.0",
            "_view_count": null,
            "_view_module_version": "1.2.0",
            "bar_color": null,
            "_model_module": "@jupyter-widgets/controls"
          }
        },
        "199967d37d7f48799878038bcfa4d801": {
          "model_module": "@jupyter-widgets/base",
          "model_name": "LayoutModel",
          "state": {
            "_view_name": "LayoutView",
            "grid_template_rows": null,
            "right": null,
            "justify_content": null,
            "_view_module": "@jupyter-widgets/base",
            "overflow": null,
            "_model_module_version": "1.2.0",
            "_view_count": null,
            "flex_flow": null,
            "width": null,
            "min_width": null,
            "border": null,
            "align_items": null,
            "bottom": null,
            "_model_module": "@jupyter-widgets/base",
            "top": null,
            "grid_column": null,
            "overflow_y": null,
            "overflow_x": null,
            "grid_auto_flow": null,
            "grid_area": null,
            "grid_template_columns": null,
            "flex": null,
            "_model_name": "LayoutModel",
            "justify_items": null,
            "grid_row": null,
            "max_height": null,
            "align_content": null,
            "visibility": null,
            "align_self": null,
            "height": null,
            "min_height": null,
            "padding": null,
            "grid_auto_rows": null,
            "grid_gap": null,
            "max_width": null,
            "order": null,
            "_view_module_version": "1.2.0",
            "grid_template_areas": null,
            "object_position": null,
            "object_fit": null,
            "grid_auto_columns": null,
            "margin": null,
            "display": null,
            "left": null
          }
        },
        "088e7083676d4026aa728fcb61b0dfa2": {
          "model_module": "@jupyter-widgets/controls",
          "model_name": "DescriptionStyleModel",
          "state": {
            "_view_name": "StyleView",
            "_model_name": "DescriptionStyleModel",
            "description_width": "",
            "_view_module": "@jupyter-widgets/base",
            "_model_module_version": "1.5.0",
            "_view_count": null,
            "_view_module_version": "1.2.0",
            "_model_module": "@jupyter-widgets/controls"
          }
        },
        "f64b5aafb0744b79b07f6118813c43ee": {
          "model_module": "@jupyter-widgets/base",
          "model_name": "LayoutModel",
          "state": {
            "_view_name": "LayoutView",
            "grid_template_rows": null,
            "right": null,
            "justify_content": null,
            "_view_module": "@jupyter-widgets/base",
            "overflow": null,
            "_model_module_version": "1.2.0",
            "_view_count": null,
            "flex_flow": null,
            "width": null,
            "min_width": null,
            "border": null,
            "align_items": null,
            "bottom": null,
            "_model_module": "@jupyter-widgets/base",
            "top": null,
            "grid_column": null,
            "overflow_y": null,
            "overflow_x": null,
            "grid_auto_flow": null,
            "grid_area": null,
            "grid_template_columns": null,
            "flex": null,
            "_model_name": "LayoutModel",
            "justify_items": null,
            "grid_row": null,
            "max_height": null,
            "align_content": null,
            "visibility": null,
            "align_self": null,
            "height": null,
            "min_height": null,
            "padding": null,
            "grid_auto_rows": null,
            "grid_gap": null,
            "max_width": null,
            "order": null,
            "_view_module_version": "1.2.0",
            "grid_template_areas": null,
            "object_position": null,
            "object_fit": null,
            "grid_auto_columns": null,
            "margin": null,
            "display": null,
            "left": null
          }
        },
        "3d87156b91d3445f8de43a23f2667798": {
          "model_module": "@jupyter-widgets/controls",
          "model_name": "HBoxModel",
          "state": {
            "_view_name": "HBoxView",
            "_dom_classes": [],
            "_model_name": "HBoxModel",
            "_view_module": "@jupyter-widgets/controls",
            "_model_module_version": "1.5.0",
            "_view_count": null,
            "_view_module_version": "1.5.0",
            "box_style": "",
            "layout": "IPY_MODEL_2130bddeb9de48b59097dea7f5f357ff",
            "_model_module": "@jupyter-widgets/controls",
            "children": [
              "IPY_MODEL_f0c6ad1cb34d4d259fcd0b93f531cc44",
              "IPY_MODEL_4ada50bbdbee4065918264706562ae3a"
            ]
          }
        },
        "2130bddeb9de48b59097dea7f5f357ff": {
          "model_module": "@jupyter-widgets/base",
          "model_name": "LayoutModel",
          "state": {
            "_view_name": "LayoutView",
            "grid_template_rows": null,
            "right": null,
            "justify_content": null,
            "_view_module": "@jupyter-widgets/base",
            "overflow": null,
            "_model_module_version": "1.2.0",
            "_view_count": null,
            "flex_flow": null,
            "width": null,
            "min_width": null,
            "border": null,
            "align_items": null,
            "bottom": null,
            "_model_module": "@jupyter-widgets/base",
            "top": null,
            "grid_column": null,
            "overflow_y": null,
            "overflow_x": null,
            "grid_auto_flow": null,
            "grid_area": null,
            "grid_template_columns": null,
            "flex": null,
            "_model_name": "LayoutModel",
            "justify_items": null,
            "grid_row": null,
            "max_height": null,
            "align_content": null,
            "visibility": null,
            "align_self": null,
            "height": null,
            "min_height": null,
            "padding": null,
            "grid_auto_rows": null,
            "grid_gap": null,
            "max_width": null,
            "order": null,
            "_view_module_version": "1.2.0",
            "grid_template_areas": null,
            "object_position": null,
            "object_fit": null,
            "grid_auto_columns": null,
            "margin": null,
            "display": null,
            "left": null
          }
        },
        "f0c6ad1cb34d4d259fcd0b93f531cc44": {
          "model_module": "@jupyter-widgets/controls",
          "model_name": "IntProgressModel",
          "state": {
            "_view_name": "ProgressView",
            "style": "IPY_MODEL_924bda727a6342b69ebe5a934e0fbc2e",
            "_dom_classes": [],
            "description": "",
            "_model_name": "IntProgressModel",
            "bar_style": "success",
            "max": 1,
            "_view_module": "@jupyter-widgets/controls",
            "_model_module_version": "1.5.0",
            "value": 1,
            "_view_count": null,
            "_view_module_version": "1.5.0",
            "orientation": "horizontal",
            "min": 0,
            "description_tooltip": null,
            "_model_module": "@jupyter-widgets/controls",
            "layout": "IPY_MODEL_ec9578a0a57248ba8d3e5c495a5eed09"
          }
        },
        "4ada50bbdbee4065918264706562ae3a": {
          "model_module": "@jupyter-widgets/controls",
          "model_name": "HTMLModel",
          "state": {
            "_view_name": "HTMLView",
            "style": "IPY_MODEL_ce60bd806a8d4b48bdcf8def08915e8a",
            "_dom_classes": [],
            "description": "",
            "_model_name": "HTMLModel",
            "placeholder": "​",
            "_view_module": "@jupyter-widgets/controls",
            "_model_module_version": "1.5.0",
            "value": "8192it [00:00, 25115.68it/s]",
            "_view_count": null,
            "_view_module_version": "1.5.0",
            "description_tooltip": null,
            "_model_module": "@jupyter-widgets/controls",
            "layout": "IPY_MODEL_d3137e9448c64973810a95c1c6b21cdd"
          }
        },
        "924bda727a6342b69ebe5a934e0fbc2e": {
          "model_module": "@jupyter-widgets/controls",
          "model_name": "ProgressStyleModel",
          "state": {
            "_view_name": "StyleView",
            "_model_name": "ProgressStyleModel",
            "description_width": "",
            "_view_module": "@jupyter-widgets/base",
            "_model_module_version": "1.5.0",
            "_view_count": null,
            "_view_module_version": "1.2.0",
            "bar_color": null,
            "_model_module": "@jupyter-widgets/controls"
          }
        },
        "ec9578a0a57248ba8d3e5c495a5eed09": {
          "model_module": "@jupyter-widgets/base",
          "model_name": "LayoutModel",
          "state": {
            "_view_name": "LayoutView",
            "grid_template_rows": null,
            "right": null,
            "justify_content": null,
            "_view_module": "@jupyter-widgets/base",
            "overflow": null,
            "_model_module_version": "1.2.0",
            "_view_count": null,
            "flex_flow": null,
            "width": null,
            "min_width": null,
            "border": null,
            "align_items": null,
            "bottom": null,
            "_model_module": "@jupyter-widgets/base",
            "top": null,
            "grid_column": null,
            "overflow_y": null,
            "overflow_x": null,
            "grid_auto_flow": null,
            "grid_area": null,
            "grid_template_columns": null,
            "flex": null,
            "_model_name": "LayoutModel",
            "justify_items": null,
            "grid_row": null,
            "max_height": null,
            "align_content": null,
            "visibility": null,
            "align_self": null,
            "height": null,
            "min_height": null,
            "padding": null,
            "grid_auto_rows": null,
            "grid_gap": null,
            "max_width": null,
            "order": null,
            "_view_module_version": "1.2.0",
            "grid_template_areas": null,
            "object_position": null,
            "object_fit": null,
            "grid_auto_columns": null,
            "margin": null,
            "display": null,
            "left": null
          }
        },
        "ce60bd806a8d4b48bdcf8def08915e8a": {
          "model_module": "@jupyter-widgets/controls",
          "model_name": "DescriptionStyleModel",
          "state": {
            "_view_name": "StyleView",
            "_model_name": "DescriptionStyleModel",
            "description_width": "",
            "_view_module": "@jupyter-widgets/base",
            "_model_module_version": "1.5.0",
            "_view_count": null,
            "_view_module_version": "1.2.0",
            "_model_module": "@jupyter-widgets/controls"
          }
        },
        "d3137e9448c64973810a95c1c6b21cdd": {
          "model_module": "@jupyter-widgets/base",
          "model_name": "LayoutModel",
          "state": {
            "_view_name": "LayoutView",
            "grid_template_rows": null,
            "right": null,
            "justify_content": null,
            "_view_module": "@jupyter-widgets/base",
            "overflow": null,
            "_model_module_version": "1.2.0",
            "_view_count": null,
            "flex_flow": null,
            "width": null,
            "min_width": null,
            "border": null,
            "align_items": null,
            "bottom": null,
            "_model_module": "@jupyter-widgets/base",
            "top": null,
            "grid_column": null,
            "overflow_y": null,
            "overflow_x": null,
            "grid_auto_flow": null,
            "grid_area": null,
            "grid_template_columns": null,
            "flex": null,
            "_model_name": "LayoutModel",
            "justify_items": null,
            "grid_row": null,
            "max_height": null,
            "align_content": null,
            "visibility": null,
            "align_self": null,
            "height": null,
            "min_height": null,
            "padding": null,
            "grid_auto_rows": null,
            "grid_gap": null,
            "max_width": null,
            "order": null,
            "_view_module_version": "1.2.0",
            "grid_template_areas": null,
            "object_position": null,
            "object_fit": null,
            "grid_auto_columns": null,
            "margin": null,
            "display": null,
            "left": null
          }
        }
      }
    }
  },
  "cells": [
    {
      "cell_type": "markdown",
      "metadata": {
        "colab_type": "text",
        "id": "fkANmyasP2bY"
      },
      "source": [
        "# Q1: Scalar Computation Graph and Gradient"
      ]
    },
    {
      "cell_type": "markdown",
      "metadata": {
        "colab_type": "text",
        "id": "CJ6_aDcWQYg3"
      },
      "source": [
        "## TODO"
      ]
    },
    {
      "cell_type": "code",
      "metadata": {
        "colab_type": "code",
        "id": "_rgc6AVBQXQq",
        "colab": {}
      },
      "source": [
        "import numpy as np\n",
        "import matplotlib.pyplot as matplot\n",
        "\n",
        "def sigmoid(x):\n",
        "    return 1/(1 + np.exp(-x))\n",
        "\n",
        "def g_w1(x1: float, x2: float, w1: float, w2: float) -> float:\n",
        "    g = 0\n",
        "    sigm = sigmoid(w1 * x1 + w2 * x2)\n",
        "    g = w1 + sigm * (1 - sigm) * x1\n",
        "    return g\n",
        "\n",
        "def g_w2(x1: float, x2: float, w1: float, w2: float) -> float:\n",
        "    g = 0\n",
        "    sigm = sigmoid(w1 * x1 + w2 * x2)\n",
        "    g = w2 + sigm * (1 - sigm) * x2\n",
        "    return g\n",
        "\n",
        "def g_x1(x1: float, x2: float, w1: float, w2: float) -> float:\n",
        "    g = 0\n",
        "    sigm = sigmoid(w1 * x1 + w2 * x2)\n",
        "    g = sigm * (1 - sigm) * w1\n",
        "    return g\n",
        "\n",
        "def g_x2(x1: float, x2: float, w1: float, w2: float) -> float:\n",
        "    g = 0\n",
        "    sigm = sigmoid(w1 * x1 + w2 * x2)\n",
        "    g = sigm * (1 - sigm) * w2\n",
        "    return g"
      ],
      "execution_count": 0,
      "outputs": []
    },
    {
      "cell_type": "code",
      "metadata": {
        "colab_type": "code",
        "id": "yFLw7UolQIe0",
        "outputId": "c82501f9-ef40-4788-a38b-6b70fa0b9892",
        "colab": {
          "base_uri": "https://localhost:8080/",
          "height": 299
        }
      },
      "source": [
        "x1 = 0.2\n",
        "x2 = 0.4\n",
        "w1 = 0.3\n",
        "w2 = -0.5\n",
        "\n",
        "grads_x1 = []\n",
        "grads_x2 = []\n",
        "grads_w1 = []\n",
        "grads_w2 = []\n",
        "w1s = [w1]\n",
        "w2s = [w2]\n",
        "\n",
        "for i in range(30):\n",
        "    grad_w1 = g_w1(x1, x2, w1, w2)    \n",
        "    grad_w2 = g_w2(x1, x2, w1, w2)\n",
        "    \n",
        "    w2 += -0.01 * grad_w2\n",
        "    w1 += -0.01 * grad_w1\n",
        "    \n",
        "    w1s.append(w1)\n",
        "    w2s.append(w2)\n",
        "\n",
        "    grads_w1.append(grad_w1)\n",
        "    grads_w2.append(grad_w2)\n",
        "\n",
        "\n",
        "matplot.plot(range(len(w1s)),w1s,'r',w2s,'b')\n"
      ],
      "execution_count": 0,
      "outputs": [
        {
          "output_type": "execute_result",
          "data": {
            "text/plain": [
              "[<matplotlib.lines.Line2D at 0x7f34df39a860>,\n",
              " <matplotlib.lines.Line2D at 0x7f34df39a9b0>]"
            ]
          },
          "metadata": {
            "tags": []
          },
          "execution_count": 19
        },
        {
          "output_type": "display_data",
          "data": {
            "image/png": "[encoded data removed]",
            "text/plain": [
              "<Figure size 432x288 with 1 Axes>"
            ]
          },
          "metadata": {
            "tags": []
          }
        }
      ]
    },
    {
      "cell_type": "markdown",
      "metadata": {
        "colab_type": "text",
        "id": "T8V5EPucOdwu"
      },
      "source": [
        "# Q3: Neural Network From Scratch\n",
        "\n",
        "In this section, we will implement a neural network to solve MNIST, a hand-written digits (0-9) classification dataset."
      ]
    },
    {
      "cell_type": "markdown",
      "metadata": {
        "colab_type": "text",
        "id": "6eS5VOSqPUgu"
      },
      "source": [
        "## Set up"
      ]
    },
    {
      "cell_type": "code",
      "metadata": {
        "colab_type": "code",
        "id": "rNQLW-GH1bX-",
        "colab": {}
      },
      "source": [
        "import numpy as np\n",
        "import matplotlib.pyplot as plt\n",
        "\n",
        "from typing import Dict\n",
        "from functools import partial\n",
        "\n",
        "from tqdm import tqdm\n",
        "tqdm.monitor_interval = 0\n",
        "tqdm = partial(tqdm, bar_format='{l_bar}{r_bar}')\n",
        "\n",
        "import torch\n",
        "import torch.nn.functional as F\n",
        "import torchvision"
      ],
      "execution_count": 0,
      "outputs": []
    },
    {
      "cell_type": "code",
      "metadata": {
        "colab_type": "code",
        "id": "lSRfAdmy1uhn",
        "outputId": "58cc69d3-fa3a-44c3-d50f-ce18cd390720",
        "colab": {
          "base_uri": "https://localhost:8080/",
          "height": 383,
          "referenced_widgets": [
            "996b85cd93d94f46bafafdea33b87ca8",
            "5558a2652026468db5b02aad07bc1da3",
            "0bfd030144594f25a2c192d7cc6a4f2c",
            "8a3c837c0a4f4787adae2b983623c47d",
            "80a867ce0f2a41898b5ac8d9b6742300",
            "70456b77f0d24d09b8da5c1617c8e062",
            "13886a0fc36c4102a6632c6bdfe994d0",
            "30ad4dd10972459b9f6bcd78eff4b47f",
            "6127d7caa5054afd8959519bea398d05",
            "b1bc47b9921c4304892941fc469a5b6a",
            "7dcc0eb57f804e428913f874b811fb7e",
            "152c43d830064d65b635bb77351874b8",
            "95177b968cd04928827400e5da44b163",
            "b3b9123669c7491c8d9876749c7b9821",
            "ed30144f29a24a3b836de7c33749df1f",
            "4a49e5e23b654298b4f8fd740a5200df",
            "16331fd5c32e4a2d96f745f1ac15cd48",
            "ff18cee5088446a2b8c4803759daeffb",
            "d5ea483db6fd4d979d123636a6d7103c",
            "f3f3da6c4d394a6fb5ebabfa616cd92f",
            "9b7dd91eb99a46e8b7abf555dfbe45c9",
            "199967d37d7f48799878038bcfa4d801",
            "088e7083676d4026aa728fcb61b0dfa2",
            "f64b5aafb0744b79b07f6118813c43ee",
            "3d87156b91d3445f8de43a23f2667798",
            "2130bddeb9de48b59097dea7f5f357ff",
            "f0c6ad1cb34d4d259fcd0b93f531cc44",
            "4ada50bbdbee4065918264706562ae3a",
            "924bda727a6342b69ebe5a934e0fbc2e",
            "ec9578a0a57248ba8d3e5c495a5eed09",
            "ce60bd806a8d4b48bdcf8def08915e8a",
            "d3137e9448c64973810a95c1c6b21cdd"
          ]
        }
      },
      "source": [
        "TRAIN_SIZE = 50_000\n",
        "\n",
        "train = torchvision.datasets.MNIST('./data', train=True, transform=None, target_transform=None, download=True)\n",
        "test = torchvision.datasets.MNIST('./data', train=False, transform=None, target_transform=None, download=True)\n",
        "\n",
        "train_x = train.data.float().numpy()\n",
        "train_y = train.targets.numpy()\n",
        "\n",
        "shuffle_idx = np.arange(len(train_x))\n",
        "np.random.RandomState(0).shuffle(shuffle_idx)\n",
        "train_x = train_x[shuffle_idx]\n",
        "train_y = train_y[shuffle_idx]\n",
        "\n",
        "dev_x, dev_y = train_x[TRAIN_SIZE:], train_y[TRAIN_SIZE:]\n",
        "train_x, train_y = train_x[:TRAIN_SIZE], train_y[:TRAIN_SIZE]\n",
        "\n",
        "test_x = test.data.float().numpy()\n",
        "test_y = test.targets.numpy()"
      ],
      "execution_count": 0,
      "outputs": [
        {
          "output_type": "stream",
          "text": [
            "Downloading http://yann.lecun.com/exdb/mnist/train-images-idx3-ubyte.gz to ./data/MNIST/raw/train-images-idx3-ubyte.gz\n"
          ],
          "name": "stdout"
        },
        {
          "output_type": "display_data",
          "data": {
            "application/vnd.jupyter.widget-view+json": {
              "model_id": "996b85cd93d94f46bafafdea33b87ca8",
              "version_minor": 0,
              "version_major": 2
            },
            "text/plain": [
              "HBox(children=(IntProgress(value=1, bar_style='info', max=1), HTML(value='')))"
            ]
          },
          "metadata": {
            "tags": []
          }
        },
        {
          "output_type": "stream",
          "text": [
            "\n",
            "Extracting ./data/MNIST/raw/train-images-idx3-ubyte.gz to ./data/MNIST/raw\n",
            "Downloading http://yann.lecun.com/exdb/mnist/train-labels-idx1-ubyte.gz to ./data/MNIST/raw/train-labels-idx1-ubyte.gz\n"
          ],
          "name": "stdout"
        },
        {
          "output_type": "display_data",
          "data": {
            "application/vnd.jupyter.widget-view+json": {
              "model_id": "6127d7caa5054afd8959519bea398d05",
              "version_minor": 0,
              "version_major": 2
            },
            "text/plain": [
              "HBox(children=(IntProgress(value=1, bar_style='info', max=1), HTML(value='')))"
            ]
          },
          "metadata": {
            "tags": []
          }
        },
        {
          "output_type": "stream",
          "text": [
            "\n",
            "Extracting ./data/MNIST/raw/train-labels-idx1-ubyte.gz to ./data/MNIST/raw\n",
            "Downloading http://yann.lecun.com/exdb/mnist/t10k-images-idx3-ubyte.gz to ./data/MNIST/raw/t10k-images-idx3-ubyte.gz\n"
          ],
          "name": "stdout"
        },
        {
          "output_type": "display_data",
          "data": {
            "application/vnd.jupyter.widget-view+json": {
              "model_id": "16331fd5c32e4a2d96f745f1ac15cd48",
              "version_minor": 0,
              "version_major": 2
            },
            "text/plain": [
              "HBox(children=(IntProgress(value=1, bar_style='info', max=1), HTML(value='')))"
            ]
          },
          "metadata": {
            "tags": []
          }
        },
        {
          "output_type": "stream",
          "text": [
            "\n",
            "Extracting ./data/MNIST/raw/t10k-images-idx3-ubyte.gz to ./data/MNIST/raw\n",
            "Downloading http://yann.lecun.com/exdb/mnist/t10k-labels-idx1-ubyte.gz to ./data/MNIST/raw/t10k-labels-idx1-ubyte.gz\n"
          ],
          "name": "stdout"
        },
        {
          "output_type": "display_data",
          "data": {
            "application/vnd.jupyter.widget-view+json": {
              "model_id": "3d87156b91d3445f8de43a23f2667798",
              "version_minor": 0,
              "version_major": 2
            },
            "text/plain": [
              "HBox(children=(IntProgress(value=1, bar_style='info', max=1), HTML(value='')))"
            ]
          },
          "metadata": {
            "tags": []
          }
        },
        {
          "output_type": "stream",
          "text": [
            "\n",
            "Extracting ./data/MNIST/raw/t10k-labels-idx1-ubyte.gz to ./data/MNIST/raw\n",
            "Processing...\n",
            "Done!\n"
          ],
          "name": "stdout"
        }
      ]
    },
    {
      "cell_type": "markdown",
      "metadata": {
        "colab_type": "text",
        "id": "6GSBMEzy7sIV"
      },
      "source": [
        "Sample of images\n",
        "\n"
      ]
    },
    {
      "cell_type": "code",
      "metadata": {
        "colab_type": "code",
        "id": "hRPzeyY-7a5J",
        "outputId": "2e181eca-acab-4c2d-f890-bec23bc33f4f",
        "colab": {
          "base_uri": "https://localhost:8080/",
          "height": 282
        }
      },
      "source": [
        "i = 4048 #@param {type: \"slider\", min: 0, max: 10000}\n",
        "print(f'label = {train_y[i]}')\n",
        "plt.imshow(train_x[i])\n",
        "plt.show()"
      ],
      "execution_count": 0,
      "outputs": [
        {
          "output_type": "stream",
          "text": [
            "label = 0\n"
          ],
          "name": "stdout"
        },
        {
          "output_type": "display_data",
          "data": {
            "image/png": "[encoded data removed]",
            "text/plain": [
              "<Figure size 432x288 with 1 Axes>"
            ]
          },
          "metadata": {
            "tags": []
          }
        }
      ]
    },
    {
      "cell_type": "markdown",
      "metadata": {
        "colab_type": "text",
        "id": "zDrCxDQD8XfX"
      },
      "source": [
        "Each images have the same shape of 28-by-28. We flatten the matrix and pretend it is just one long vector."
      ]
    },
    {
      "cell_type": "code",
      "metadata": {
        "colab_type": "code",
        "id": "owHStQK_7UTW",
        "colab": {}
      },
      "source": [
        "NB_FEAT = 28 * 28"
      ],
      "execution_count": 0,
      "outputs": []
    },
    {
      "cell_type": "markdown",
      "metadata": {
        "colab_type": "text",
        "id": "Qq9_DDRf4Gli"
      },
      "source": [
        "Normalize the feature. Note that we only use the training set to compute the mean and standard derivation."
      ]
    },
    {
      "cell_type": "code",
      "metadata": {
        "colab_type": "code",
        "id": "VkumLLwa2DP9",
        "colab": {}
      },
      "source": [
        "mean = train_x.mean()\n",
        "std = train_x.std()\n",
        "\n",
        "train_x = (train_x - mean) / (std + 1e-7)\n",
        "dev_x = (dev_x - mean) / (std + 1e-7)\n",
        "test_x = (test_x - mean) / (std + 1e-7)\n",
        "\n",
        "train_x = train_x.reshape(-1, NB_FEAT)\n",
        "dev_x = dev_x.reshape(-1, NB_FEAT)\n",
        "test_x = test_x.reshape(-1, NB_FEAT)"
      ],
      "execution_count": 0,
      "outputs": []
    },
    {
      "cell_type": "code",
      "metadata": {
        "colab_type": "code",
        "id": "FNa2DCck51Jj",
        "colab": {}
      },
      "source": [
        "def row_logsumexp(x):\n",
        "    # numerical stablization\n",
        "    x_max = x.max(axis=1).reshape(-1, 1)\n",
        "    return x_max + np.log(np.exp(x - x_max).sum(axis=1)).reshape(-1, 1)\n"
      ],
      "execution_count": 0,
      "outputs": []
    },
    {
      "cell_type": "code",
      "metadata": {
        "colab_type": "code",
        "id": "Vdk_ER0rPKBe",
        "colab": {}
      },
      "source": [
        "class Parameters:\n",
        "    def __init__(self):\n",
        "        self.param: Dict[str, np.ndarray] = {}\n",
        "        self.grad: Dict[str, np.ndarray] = {}\n",
        "\n",
        "    def set_param(self, key: str, param: np.ndarray):\n",
        "        self.param[key] = param\n",
        "        self.grad[key] = np.zeros_like(param)\n",
        "\n",
        "    def get_param(self, key):\n",
        "        assert key in self.param, f'variable {key} is not part of the Parameter'\n",
        "        return self.param[key]\n",
        "\n",
        "    def accumlate_grad(self, key: str, grad: np.ndarray):\n",
        "        assert key in self.param, f'variable {key} is not part of the Parameter'\n",
        "        assert self.param[key].shape == grad.shape, f'for variable {key}, the shape of parameter and the shape of gradient is not matched'\n",
        "        self.grad[key] += grad\n",
        "\n",
        "    def zero_grad(self):\n",
        "        for key in self.param:\n",
        "            self.grad[key] = np.zeros_like(self.param[key])\n",
        "\n",
        "    def apply_grad(self, lr: float):\n",
        "        for key in self.param.keys():\n",
        "            assert self.param[key].shape == self.grad[key].shape, f'for variable {key}, the shape of parameter and the shape of gradient is not matched'\n",
        "            self.param[key] -= self.grad[key] * lr"
      ],
      "execution_count": 0,
      "outputs": []
    },
    {
      "cell_type": "code",
      "metadata": {
        "colab_type": "code",
        "id": "raCPh5O_PKKY",
        "colab": {}
      },
      "source": [
        "def init_linear(input_dim, output_dim):\n",
        "    return np.random.RandomState(0).randn(input_dim, output_dim) * np.sqrt(2 / input_dim)"
      ],
      "execution_count": 0,
      "outputs": []
    },
    {
      "cell_type": "code",
      "metadata": {
        "colab_type": "code",
        "id": "DkH7YxnoZ96D",
        "colab": {}
      },
      "source": [
        "def main_training(params: Parameters, forward_and_backward, train_x, train_y, dev_x, dev_y, batch_size, learning_rate, nb_epochs):\n",
        "    assert isinstance(params, Parameters)\n",
        "    step = 0\n",
        "    best_acc = 0\n",
        "    accuracy = []\n",
        "    for epoch in tqdm(range(nb_epochs)):\n",
        "        train_loss = []\n",
        "        lr = learning_rate\n",
        "        for i in range(0, len(train_x), batch_size):\n",
        "            batch_x = train_x[i:i+batch_size]\n",
        "            batch_y = train_y[i:i+batch_size]\n",
        "\n",
        "            loss, probs = forward_and_backward(batch_x, batch_y, params)\n",
        "            params.apply_grad(lr)\n",
        "\n",
        "            train_loss.append(loss)\n",
        "            step += 1\n",
        "\n",
        "        accs = []\n",
        "        for i in range(0, len(dev_x), batch_size):\n",
        "            batch_x = dev_x[i:i+batch_size]\n",
        "            batch_y = dev_y[i:i+batch_size]\n",
        "\n",
        "            loss, probs = forward_and_backward(batch_x, batch_y, params, grad=False)\n",
        "            pred_y = probs.argmax(axis=1)\n",
        "            accs.extend(pred_y == batch_y)\n",
        "        acc = np.mean(accs) * 100\n",
        "        accuracy.append(acc)\n",
        "        print(f'epoch {epoch} train loss = {np.mean(train_loss):.3f} dev accuracy = {acc:.2f}%')\n",
        "        if acc > best_acc:\n",
        "            best_acc = acc\n",
        "\n",
        "    print(f'best dev accuracy = {best_acc:.2f}%')\n",
        "    return accuracy"
      ],
      "execution_count": 0,
      "outputs": []
    },
    {
      "cell_type": "markdown",
      "metadata": {
        "colab_type": "text",
        "id": "KslzAMpabAiV"
      },
      "source": [
        "## Q2.1 Linear Classifier\n",
        "\n",
        "Let $x \\in R^{1\\times N}$ be a single sample. $N$ is the number of the feature dimension and $C$ is the number of class in the final classification. Note $N=28*28$ and $C=10$\n",
        "\n",
        "In the softmax layer, $W_{sm} \\in R^{N \\times C}$. The unnormalized score $s \\in R^{C}$ is\n",
        "\n",
        "$$s = x\\cdot W_{sm}$$\n",
        "\n",
        "With softmax function, we get the probability $p(c_i)$ of class $i$ where $i \\in \\{1,\\cdots,C\\}$\n",
        "\n",
        "$$p(c_i) = \\frac {\\exp(s_i)} {\\sum_i \\exp(s_i)}$$\n",
        "\n",
        "where $s_i$ is the $i^{th}$ element of $s$.\n",
        "\n",
        "Assuming $y \\in \\{1,\\cdots,C\\}$, we want to minimize $-\\log p(c_y)$, the cross-entropy loss between one hot true distribution `q(c_i) = 1 if i == y else 0` and $p(c_i)$.\n",
        "\n",
        "We will take the average $-\\log p(c_y)$ of a batch of x as the loss.\n",
        "\n",
        "In `linear_classifier_forward_and_backward`, `batch_x` and `batch_y` are matrixs, where each row are $x$ and $y$, respectively."
      ]
    },
    {
      "cell_type": "code",
      "metadata": {
        "colab_type": "code",
        "id": "oAD_MC9lbELf",
        "colab": {}
      },
      "source": [
        "linear_classifier = Parameters()\n",
        "linear_classifier.set_param('w_sm', init_linear(NB_FEAT, 10))"
      ],
      "execution_count": 0,
      "outputs": []
    },
    {
      "cell_type": "markdown",
      "metadata": {
        "colab_type": "text",
        "id": "rpjfQEn_xjI6"
      },
      "source": [
        "### TODO"
      ]
    },
    {
      "cell_type": "code",
      "metadata": {
        "colab_type": "code",
        "id": "aICn5CtgbMMt",
        "colab": {}
      },
      "source": [
        "def linear_classifier_forward_and_backward(batch_x, batch_y, param: Parameters, grad=True) -> (float, np.ndarray):\n",
        "    '''\n",
        "    compute the loss and the gradient of each parameter\n",
        "    return loss (float) and probs p(c_i) (matrix with shape batch_size x C)\n",
        "    '''\n",
        "    param.zero_grad()\n",
        "    w_sm = param.get_param('w_sm')\n",
        "\n",
        "    # compute loss and probs\n",
        "    loss = 0\n",
        "    probs = np.zeros((len(batch_x), 10))\n",
        "    s = batch_x.dot(w_sm)\n",
        "    b = np.max(s, axis=1).reshape(-1,1)\n",
        "    s = np.exp(s - b)\n",
        "    probs = s / np.sum(s, axis=1).reshape(-1,1)\n",
        "    p = [each[batch_y[i]] for i, each in enumerate(probs)]\n",
        "    loss = - np.mean(np.log(p))\n",
        "    y = np.zeros_like(probs)\n",
        "    for i, each in enumerate(y):\n",
        "        new_row = each.copy()\n",
        "        new_row[batch_y[i]] = 1\n",
        "        y[i] = new_row\n",
        "        \n",
        "\n",
        "    if not grad:\n",
        "        return loss, probs\n",
        "\n",
        "    # compute gradient\n",
        "    w_sm_grad = np.zeros_like(w_sm)\n",
        "    w_sm_grad = batch_x.T.dot(probs - y) / len(batch_x)\n",
        "    \n",
        "    # save the gradient\n",
        "    param.accumlate_grad('w_sm', w_sm_grad)\n",
        "    return loss, probs"
      ],
      "execution_count": 0,
      "outputs": []
    },
    {
      "cell_type": "markdown",
      "metadata": {
        "colab_type": "text",
        "id": "2pbBBpkpbbMz"
      },
      "source": [
        "### Loss & Gradient Check\n",
        "\n",
        "If all assertions are passed, it means you are good to go."
      ]
    },
    {
      "cell_type": "code",
      "metadata": {
        "colab_type": "code",
        "id": "y3tTXJTrbfek",
        "colab": {}
      },
      "source": [
        "# use a prime number for batch size would make debugging easier\n",
        "bs = 7\n",
        "batch_x = train_x[:bs]\n",
        "batch_y = train_y[:bs]\n",
        "loss, probs = linear_classifier_forward_and_backward(batch_x, batch_y, linear_classifier)\n",
        "\n",
        "w_sm = linear_classifier.get_param('w_sm')\n",
        "_w_sm = torch.tensor(w_sm, dtype=torch.double, requires_grad=True)\n",
        "_batch_x = torch.tensor(batch_x, dtype=torch.double, requires_grad=False)\n",
        "_batch_y = torch.tensor(batch_y, dtype=torch.long, requires_grad=False)\n",
        "\n",
        "_logits = F.linear(_batch_x, _w_sm.transpose(0,1))\n",
        "_logprobs = F.log_softmax(_logits, dim=-1)\n",
        "_loss = -_logprobs[torch.arange(len(_batch_y)), _batch_y].mean()\n",
        "_loss.backward()\n",
        "assert np.isclose(loss, _loss.item())\n",
        "assert np.allclose(probs, torch.exp(_logprobs).detach().numpy())\n",
        "assert np.allclose(_w_sm.grad.numpy(), linear_classifier.grad['w_sm'])"
      ],
      "execution_count": 0,
      "outputs": []
    },
    {
      "cell_type": "markdown",
      "metadata": {
        "colab_type": "text",
        "id": "egX8ucvXbsP7"
      },
      "source": [
        "### Training"
      ]
    },
    {
      "cell_type": "code",
      "metadata": {
        "colab_type": "code",
        "id": "N7C_vFBwbvGG",
        "outputId": "b78054f9-da4f-46c4-fc8a-437a151254c8",
        "colab": {
          "base_uri": "https://localhost:8080/",
          "height": 731
        }
      },
      "source": [
        "BS = 50\n",
        "LR = 0.005\n",
        "NB_EPOCH = 20\n",
        "\n",
        "linear_classifier = Parameters()\n",
        "linear_classifier.set_param('w_sm', init_linear(NB_FEAT, 10))\n",
        "\n",
        "main_training(linear_classifier, linear_classifier_forward_and_backward, train_x, train_y, dev_x, dev_y, BS, LR, NB_EPOCH)"
      ],
      "execution_count": 0,
      "outputs": [
        {
          "output_type": "stream",
          "text": [
            "  5%|| 1/20 [00:01<00:23,  1.22s/it]"
          ],
          "name": "stderr"
        },
        {
          "output_type": "stream",
          "text": [
            "epoch 0 train loss = 0.619 dev accuracy = 87.97%\n"
          ],
          "name": "stdout"
        },
        {
          "output_type": "stream",
          "text": [
            "\r 10%|| 2/20 [00:02<00:21,  1.18s/it]"
          ],
          "name": "stderr"
        },
        {
          "output_type": "stream",
          "text": [
            "epoch 1 train loss = 0.380 dev accuracy = 89.59%\n"
          ],
          "name": "stdout"
        },
        {
          "output_type": "stream",
          "text": [
            "\r 15%|| 3/20 [00:03<00:19,  1.16s/it]"
          ],
          "name": "stderr"
        },
        {
          "output_type": "stream",
          "text": [
            "epoch 2 train loss = 0.347 dev accuracy = 90.25%\n"
          ],
          "name": "stdout"
        },
        {
          "output_type": "stream",
          "text": [
            "\r 20%|| 4/20 [00:04<00:17,  1.12s/it]"
          ],
          "name": "stderr"
        },
        {
          "output_type": "stream",
          "text": [
            "epoch 3 train loss = 0.330 dev accuracy = 90.87%\n"
          ],
          "name": "stdout"
        },
        {
          "output_type": "stream",
          "text": [
            "\r 25%|| 5/20 [00:05<00:16,  1.12s/it]"
          ],
          "name": "stderr"
        },
        {
          "output_type": "stream",
          "text": [
            "epoch 4 train loss = 0.318 dev accuracy = 91.14%\n"
          ],
          "name": "stdout"
        },
        {
          "output_type": "stream",
          "text": [
            "\r 30%|| 6/20 [00:06<00:15,  1.13s/it]"
          ],
          "name": "stderr"
        },
        {
          "output_type": "stream",
          "text": [
            "epoch 5 train loss = 0.310 dev accuracy = 91.33%\n"
          ],
          "name": "stdout"
        },
        {
          "output_type": "stream",
          "text": [
            "\r 35%|| 7/20 [00:07<00:14,  1.13s/it]"
          ],
          "name": "stderr"
        },
        {
          "output_type": "stream",
          "text": [
            "epoch 6 train loss = 0.304 dev accuracy = 91.48%\n"
          ],
          "name": "stdout"
        },
        {
          "output_type": "stream",
          "text": [
            "\r 40%|| 8/20 [00:08<00:13,  1.12s/it]"
          ],
          "name": "stderr"
        },
        {
          "output_type": "stream",
          "text": [
            "epoch 7 train loss = 0.299 dev accuracy = 91.57%\n"
          ],
          "name": "stdout"
        },
        {
          "output_type": "stream",
          "text": [
            "\r 45%|| 9/20 [00:10<00:12,  1.11s/it]"
          ],
          "name": "stderr"
        },
        {
          "output_type": "stream",
          "text": [
            "epoch 8 train loss = 0.295 dev accuracy = 91.60%\n"
          ],
          "name": "stdout"
        },
        {
          "output_type": "stream",
          "text": [
            "\r 50%|| 10/20 [00:11<00:11,  1.11s/it]"
          ],
          "name": "stderr"
        },
        {
          "output_type": "stream",
          "text": [
            "epoch 9 train loss = 0.292 dev accuracy = 91.68%\n"
          ],
          "name": "stdout"
        },
        {
          "output_type": "stream",
          "text": [
            "\r 55%|| 11/20 [00:12<00:09,  1.11s/it]"
          ],
          "name": "stderr"
        },
        {
          "output_type": "stream",
          "text": [
            "epoch 10 train loss = 0.289 dev accuracy = 91.79%\n"
          ],
          "name": "stdout"
        },
        {
          "output_type": "stream",
          "text": [
            "\r 60%|| 12/20 [00:13<00:08,  1.11s/it]"
          ],
          "name": "stderr"
        },
        {
          "output_type": "stream",
          "text": [
            "epoch 11 train loss = 0.286 dev accuracy = 91.80%\n"
          ],
          "name": "stdout"
        },
        {
          "output_type": "stream",
          "text": [
            "\r 65%|| 13/20 [00:14<00:07,  1.10s/it]"
          ],
          "name": "stderr"
        },
        {
          "output_type": "stream",
          "text": [
            "epoch 12 train loss = 0.284 dev accuracy = 91.78%\n"
          ],
          "name": "stdout"
        },
        {
          "output_type": "stream",
          "text": [
            "\r 70%|| 14/20 [00:15<00:06,  1.10s/it]"
          ],
          "name": "stderr"
        },
        {
          "output_type": "stream",
          "text": [
            "epoch 13 train loss = 0.281 dev accuracy = 91.79%\n"
          ],
          "name": "stdout"
        },
        {
          "output_type": "stream",
          "text": [
            "\r 75%|| 15/20 [00:16<00:05,  1.10s/it]"
          ],
          "name": "stderr"
        },
        {
          "output_type": "stream",
          "text": [
            "epoch 14 train loss = 0.280 dev accuracy = 91.79%\n"
          ],
          "name": "stdout"
        },
        {
          "output_type": "stream",
          "text": [
            "\r 80%|| 16/20 [00:17<00:04,  1.09s/it]"
          ],
          "name": "stderr"
        },
        {
          "output_type": "stream",
          "text": [
            "epoch 15 train loss = 0.278 dev accuracy = 91.82%\n"
          ],
          "name": "stdout"
        },
        {
          "output_type": "stream",
          "text": [
            "\r 85%|| 17/20 [00:18<00:03,  1.11s/it]"
          ],
          "name": "stderr"
        },
        {
          "output_type": "stream",
          "text": [
            "epoch 16 train loss = 0.276 dev accuracy = 91.88%\n"
          ],
          "name": "stdout"
        },
        {
          "output_type": "stream",
          "text": [
            "\r 90%|| 18/20 [00:20<00:02,  1.12s/it]"
          ],
          "name": "stderr"
        },
        {
          "output_type": "stream",
          "text": [
            "epoch 17 train loss = 0.275 dev accuracy = 91.86%\n"
          ],
          "name": "stdout"
        },
        {
          "output_type": "stream",
          "text": [
            "\r 95%|| 19/20 [00:21<00:01,  1.14s/it]"
          ],
          "name": "stderr"
        },
        {
          "output_type": "stream",
          "text": [
            "epoch 18 train loss = 0.273 dev accuracy = 91.86%\n"
          ],
          "name": "stdout"
        },
        {
          "output_type": "stream",
          "text": [
            "\r100%|| 20/20 [00:22<00:00,  1.13s/it]"
          ],
          "name": "stderr"
        },
        {
          "output_type": "stream",
          "text": [
            "epoch 19 train loss = 0.272 dev accuracy = 91.93%\n",
            "best dev accuracy = 91.93%\n"
          ],
          "name": "stdout"
        },
        {
          "output_type": "stream",
          "text": [
            "\n"
          ],
          "name": "stderr"
        },
        {
          "output_type": "execute_result",
          "data": {
            "text/plain": [
              "[87.97,\n",
              " 89.59,\n",
              " 90.25,\n",
              " 90.86999999999999,\n",
              " 91.14,\n",
              " 91.33,\n",
              " 91.47999999999999,\n",
              " 91.57,\n",
              " 91.60000000000001,\n",
              " 91.67999999999999,\n",
              " 91.79,\n",
              " 91.8,\n",
              " 91.78,\n",
              " 91.79,\n",
              " 91.79,\n",
              " 91.82000000000001,\n",
              " 91.88,\n",
              " 91.86,\n",
              " 91.86,\n",
              " 91.93]"
            ]
          },
          "metadata": {
            "tags": []
          },
          "execution_count": 32
        }
      ]
    },
    {
      "cell_type": "markdown",
      "metadata": {
        "colab_type": "text",
        "id": "AkaYMGxZOqT1"
      },
      "source": [
        "## Q2.1 MLP with Single Hidden Layer\n",
        "\n",
        "Let $x \\in R^{1\\times N}$ be a single sample. $N$ is the number of the feature dimension and $C$ is the number of class in the final classification.\n",
        "\n",
        "For the first layer, $W_1 \\in R^{N\\times \\frac{N}{2}}$ and $b_1 \\in R^{\\frac{N}{2}}$\n",
        "\n",
        "$$\\bar{h}_1 = x\\cdot W_1 + b_1$$\n",
        "\n",
        "$$h_1 = ReLU(\\bar{h}_1)$$\n",
        "\n",
        "In the softmax layer, $W_{sm} \\in R^{\\frac{N}{2} \\times C}$. The unnormalized score $s \\in R^{C}$ is\n",
        "\n",
        "$$s = h_1\\cdot W_{sm}$$\n",
        "\n",
        "With softmax function, we get the probability $p(c_i)$ of class $i$ where $i \\in \\{1,\\cdots,C\\}$\n",
        "\n",
        "$$p(c_i) = \\frac {\\exp(s_i)} {\\sum_i \\exp(s_i)}$$\n",
        "\n",
        "where $s_i$ is the $i^{th}$ element of $s$.\n",
        "\n",
        "Assuming $y \\in \\{1,\\cdots,C\\}$, we want to minimize $-\\log p(c_y)$, the cross-entropy loss between one hot true distribution `q(c_i) = 1 if i == y else 0` and $p(c_i)$.\n",
        "\n",
        "We will take the average $-\\log p(c_y)$ of a batch of x as the loss.\n",
        "\n",
        "In `mlp_single_hidden_forward_and_backward`, `batch_x` and `batch_y` are matrixs, where each row are $x$ and $y$, respectively."
      ]
    },
    {
      "cell_type": "code",
      "metadata": {
        "colab_type": "code",
        "id": "LQlWUL_f520s",
        "colab": {}
      },
      "source": [
        "mlp_single_hidden = Parameters()\n",
        "mlp_single_hidden.set_param('w1', init_linear(NB_FEAT, NB_FEAT // 2))\n",
        "mlp_single_hidden.set_param('b1', np.zeros(NB_FEAT // 2))\n",
        "mlp_single_hidden.set_param('w_sm', init_linear(NB_FEAT // 2, 10))"
      ],
      "execution_count": 0,
      "outputs": []
    },
    {
      "cell_type": "markdown",
      "metadata": {
        "colab_type": "text",
        "id": "37K-xIMFxeZo"
      },
      "source": [
        "### TODO\n",
        "\n"
      ]
    },
    {
      "cell_type": "code",
      "metadata": {
        "colab_type": "code",
        "id": "12xq8CDgCZYX",
        "colab": {}
      },
      "source": [
        "\n",
        "def mlp_single_hidden_forward_and_backward(batch_x, batch_y, param: Parameters, grad=True):\n",
        "    '''\n",
        "    compute the loss and the gradient of each parameter\n",
        "    return loss (float) and p(c_i) (matrix with shape batch_size x C)\n",
        "    '''\n",
        "    param.zero_grad()\n",
        "    w1 = param.get_param('w1')\n",
        "    b1 = param.get_param('b1')\n",
        "    w_sm = param.get_param('w_sm')\n",
        "\n",
        "\n",
        "    # compute loss and probs\n",
        "    loss = 0\n",
        "    probs = np.zeros((len(batch_x), 10))\n",
        "    h_hat = batch_x.dot(w1) + b1\n",
        "    h = (np.abs(h_hat) + h_hat) / 2\n",
        "    s = h.dot(w_sm)\n",
        "    b = np.max(s, axis=1).reshape(-1,1)\n",
        "    s = np.exp(s - b)\n",
        "    probs = s / np.sum(s, axis=1).reshape(-1,1)\n",
        "    p = [each[batch_y[i]] for i, each in enumerate(probs)]\n",
        "    loss = - np.mean(np.log(p))\n",
        "    y = np.zeros_like(probs)\n",
        "    for i, each in enumerate(y):\n",
        "        new_row = each.copy()\n",
        "        new_row[batch_y[i]] = 1\n",
        "        y[i] = new_row\n",
        "    relu_matrix = np.greater(h_hat, 0).astype(int)\n",
        "\n",
        "    if not grad:\n",
        "        return loss, probs\n",
        "\n",
        "    # compute gradient\n",
        "    w1_grad = np.zeros_like(w1)\n",
        "    b1_grad = np.zeros_like(b1)\n",
        "    w_sm_grad = np.zeros_like(w_sm)\n",
        "    w_sm_grad = h.T.dot(probs - y) / len(batch_x)\n",
        "    w1_grad = batch_x.T.dot((probs - y).dot(w_sm.T) * relu_matrix) / len(batch_x)\n",
        "    b1_grad = np.sum((probs - y).dot(w_sm.T) * relu_matrix, axis=0) / len(batch_x)\n",
        "\n",
        "    param.accumlate_grad('w1', w1_grad)\n",
        "    param.accumlate_grad('b1', b1_grad)\n",
        "    param.accumlate_grad('w_sm', w_sm_grad)\n",
        "    return loss, probs"
      ],
      "execution_count": 0,
      "outputs": []
    },
    {
      "cell_type": "markdown",
      "metadata": {
        "colab_type": "text",
        "id": "-vpqro3iO0Am"
      },
      "source": [
        "### Loss & Gradient Check\n",
        "\n",
        "If all assertions are passed, it means you are good to go."
      ]
    },
    {
      "cell_type": "code",
      "metadata": {
        "colab_type": "code",
        "id": "BAl0A2_nCx-y",
        "colab": {}
      },
      "source": [
        "# use a prime number for batch size would make debugging easier\n",
        "bs = 7\n",
        "batch_x = train_x[:bs]\n",
        "batch_y = train_y[:bs]\n",
        "loss, _ = mlp_single_hidden_forward_and_backward(batch_x, batch_y, mlp_single_hidden)\n",
        "\n",
        "w1 = mlp_single_hidden.get_param('w1')\n",
        "b1 = mlp_single_hidden.get_param('b1')\n",
        "w_sm = mlp_single_hidden.get_param('w_sm')\n",
        "_w1 = torch.tensor(w1, dtype=torch.double, requires_grad=True)\n",
        "_b1 = torch.tensor(b1, dtype=torch.double, requires_grad=True)\n",
        "_w_sm = torch.tensor(w_sm, dtype=torch.double, requires_grad=True)\n",
        "_batch_x = torch.tensor(batch_x, dtype=torch.double, requires_grad=False)\n",
        "_batch_y = torch.tensor(batch_y, dtype=torch.long, requires_grad=False)\n",
        "\n",
        "_h1 = F.linear(_batch_x, _w1.transpose(0,1)) + _b1\n",
        "_h1 = F.relu(_h1)\n",
        "_logits = F.linear(_h1, _w_sm.transpose(0,1))\n",
        "_logprobs = F.log_softmax(_logits, dim=-1)\n",
        "_loss = -_logprobs[torch.arange(len(_batch_y)), _batch_y].mean()\n",
        "_loss.backward()\n",
        "\n",
        "\n",
        "assert np.isclose(loss, _loss.item())\n",
        "assert np.allclose(_w_sm.grad.numpy(), mlp_single_hidden.grad['w_sm'])\n",
        "assert np.allclose(_w1.grad.numpy(), mlp_single_hidden.grad['w1'])\n",
        "assert np.allclose(_b1.grad.numpy(), mlp_single_hidden.grad['b1'])"
      ],
      "execution_count": 0,
      "outputs": []
    },
    {
      "cell_type": "markdown",
      "metadata": {
        "colab_type": "text",
        "id": "PaEBK2p_azU6"
      },
      "source": [
        "### Train!"
      ]
    },
    {
      "cell_type": "code",
      "metadata": {
        "colab_type": "code",
        "id": "INoZSBXT52_o",
        "outputId": "30a8822f-db8a-461f-f228-787a99120daa",
        "colab": {
          "base_uri": "https://localhost:8080/",
          "height": 731
        }
      },
      "source": [
        "BS = 50\n",
        "LR = 0.005\n",
        "NB_EPOCH = 20\n",
        "\n",
        "mlp_single_hidden = Parameters()\n",
        "mlp_single_hidden.set_param('w1', init_linear(NB_FEAT, NB_FEAT // 2))\n",
        "mlp_single_hidden.set_param('b1', np.zeros(NB_FEAT // 2))\n",
        "mlp_single_hidden.set_param('w_sm', init_linear(NB_FEAT // 2, 10))\n",
        "\n",
        "main_training(mlp_single_hidden, mlp_single_hidden_forward_and_backward, train_x, train_y, dev_x, dev_y, BS, LR, NB_EPOCH)"
      ],
      "execution_count": 0,
      "outputs": [
        {
          "output_type": "stream",
          "text": [
            "  5%|| 1/20 [00:07<02:20,  7.38s/it]"
          ],
          "name": "stderr"
        },
        {
          "output_type": "stream",
          "text": [
            "epoch 0 train loss = 0.533 dev accuracy = 90.39%\n"
          ],
          "name": "stdout"
        },
        {
          "output_type": "stream",
          "text": [
            "\r 10%|| 2/20 [00:14<02:12,  7.38s/it]"
          ],
          "name": "stderr"
        },
        {
          "output_type": "stream",
          "text": [
            "epoch 1 train loss = 0.293 dev accuracy = 92.34%\n"
          ],
          "name": "stdout"
        },
        {
          "output_type": "stream",
          "text": [
            "\r 15%|| 3/20 [00:22<02:06,  7.41s/it]"
          ],
          "name": "stderr"
        },
        {
          "output_type": "stream",
          "text": [
            "epoch 2 train loss = 0.244 dev accuracy = 93.34%\n"
          ],
          "name": "stdout"
        },
        {
          "output_type": "stream",
          "text": [
            "\r 20%|| 4/20 [00:29<01:58,  7.41s/it]"
          ],
          "name": "stderr"
        },
        {
          "output_type": "stream",
          "text": [
            "epoch 3 train loss = 0.214 dev accuracy = 94.07%\n"
          ],
          "name": "stdout"
        },
        {
          "output_type": "stream",
          "text": [
            "\r 25%|| 5/20 [00:37<01:51,  7.45s/it]"
          ],
          "name": "stderr"
        },
        {
          "output_type": "stream",
          "text": [
            "epoch 4 train loss = 0.193 dev accuracy = 94.39%\n"
          ],
          "name": "stdout"
        },
        {
          "output_type": "stream",
          "text": [
            "\r 30%|| 6/20 [00:44<01:44,  7.43s/it]"
          ],
          "name": "stderr"
        },
        {
          "output_type": "stream",
          "text": [
            "epoch 5 train loss = 0.177 dev accuracy = 94.76%\n"
          ],
          "name": "stdout"
        },
        {
          "output_type": "stream",
          "text": [
            "\r 35%|| 7/20 [00:51<01:36,  7.40s/it]"
          ],
          "name": "stderr"
        },
        {
          "output_type": "stream",
          "text": [
            "epoch 6 train loss = 0.163 dev accuracy = 95.08%\n"
          ],
          "name": "stdout"
        },
        {
          "output_type": "stream",
          "text": [
            "\r 40%|| 8/20 [00:59<01:29,  7.46s/it]"
          ],
          "name": "stderr"
        },
        {
          "output_type": "stream",
          "text": [
            "epoch 7 train loss = 0.152 dev accuracy = 95.35%\n"
          ],
          "name": "stdout"
        },
        {
          "output_type": "stream",
          "text": [
            "\r 45%|| 9/20 [01:06<01:21,  7.43s/it]"
          ],
          "name": "stderr"
        },
        {
          "output_type": "stream",
          "text": [
            "epoch 8 train loss = 0.142 dev accuracy = 95.55%\n"
          ],
          "name": "stdout"
        },
        {
          "output_type": "stream",
          "text": [
            "\r 50%|| 10/20 [01:14<01:13,  7.39s/it]"
          ],
          "name": "stderr"
        },
        {
          "output_type": "stream",
          "text": [
            "epoch 9 train loss = 0.134 dev accuracy = 95.79%\n"
          ],
          "name": "stdout"
        },
        {
          "output_type": "stream",
          "text": [
            "\r 55%|| 11/20 [01:21<01:06,  7.43s/it]"
          ],
          "name": "stderr"
        },
        {
          "output_type": "stream",
          "text": [
            "epoch 10 train loss = 0.126 dev accuracy = 95.94%\n"
          ],
          "name": "stdout"
        },
        {
          "output_type": "stream",
          "text": [
            "\r 60%|| 12/20 [01:28<00:59,  7.39s/it]"
          ],
          "name": "stderr"
        },
        {
          "output_type": "stream",
          "text": [
            "epoch 11 train loss = 0.119 dev accuracy = 96.07%\n"
          ],
          "name": "stdout"
        },
        {
          "output_type": "stream",
          "text": [
            "\r 65%|| 13/20 [01:36<00:51,  7.40s/it]"
          ],
          "name": "stderr"
        },
        {
          "output_type": "stream",
          "text": [
            "epoch 12 train loss = 0.113 dev accuracy = 96.15%\n"
          ],
          "name": "stdout"
        },
        {
          "output_type": "stream",
          "text": [
            "\r 70%|| 14/20 [01:43<00:44,  7.34s/it]"
          ],
          "name": "stderr"
        },
        {
          "output_type": "stream",
          "text": [
            "epoch 13 train loss = 0.108 dev accuracy = 96.26%\n"
          ],
          "name": "stdout"
        },
        {
          "output_type": "stream",
          "text": [
            "\r 75%|| 15/20 [01:51<00:36,  7.35s/it]"
          ],
          "name": "stderr"
        },
        {
          "output_type": "stream",
          "text": [
            "epoch 14 train loss = 0.103 dev accuracy = 96.40%\n"
          ],
          "name": "stdout"
        },
        {
          "output_type": "stream",
          "text": [
            "\r 80%|| 16/20 [02:00<00:32,  8.03s/it]"
          ],
          "name": "stderr"
        },
        {
          "output_type": "stream",
          "text": [
            "epoch 15 train loss = 0.098 dev accuracy = 96.52%\n"
          ],
          "name": "stdout"
        },
        {
          "output_type": "stream",
          "text": [
            "\r 85%|| 17/20 [02:07<00:23,  7.83s/it]"
          ],
          "name": "stderr"
        },
        {
          "output_type": "stream",
          "text": [
            "epoch 16 train loss = 0.094 dev accuracy = 96.57%\n"
          ],
          "name": "stdout"
        },
        {
          "output_type": "stream",
          "text": [
            "\r 90%|| 18/20 [02:15<00:15,  7.73s/it]"
          ],
          "name": "stderr"
        },
        {
          "output_type": "stream",
          "text": [
            "epoch 17 train loss = 0.090 dev accuracy = 96.63%\n"
          ],
          "name": "stdout"
        },
        {
          "output_type": "stream",
          "text": [
            "\r 95%|| 19/20 [02:22<00:07,  7.63s/it]"
          ],
          "name": "stderr"
        },
        {
          "output_type": "stream",
          "text": [
            "epoch 18 train loss = 0.087 dev accuracy = 96.66%\n"
          ],
          "name": "stdout"
        },
        {
          "output_type": "stream",
          "text": [
            "\r100%|| 20/20 [02:30<00:00,  7.58s/it]"
          ],
          "name": "stderr"
        },
        {
          "output_type": "stream",
          "text": [
            "epoch 19 train loss = 0.083 dev accuracy = 96.77%\n",
            "best dev accuracy = 96.77%\n"
          ],
          "name": "stdout"
        },
        {
          "output_type": "stream",
          "text": [
            "\n"
          ],
          "name": "stderr"
        },
        {
          "output_type": "execute_result",
          "data": {
            "text/plain": [
              "[90.39,\n",
              " 92.34,\n",
              " 93.34,\n",
              " 94.07,\n",
              " 94.39,\n",
              " 94.76,\n",
              " 95.08,\n",
              " 95.35,\n",
              " 95.55,\n",
              " 95.78999999999999,\n",
              " 95.94,\n",
              " 96.07,\n",
              " 96.15,\n",
              " 96.26,\n",
              " 96.39999999999999,\n",
              " 96.52,\n",
              " 96.57,\n",
              " 96.63000000000001,\n",
              " 96.66,\n",
              " 96.77]"
            ]
          },
          "metadata": {
            "tags": []
          },
          "execution_count": 36
        }
      ]
    },
    {
      "cell_type": "markdown",
      "metadata": {
        "colab_type": "text",
        "id": "tzyRX0-fcCBs"
      },
      "source": [
        "## Q2.3 MLP with Two Hidden Layer\n",
        "\n",
        "Let $x \\in R^{1\\times N}$ be a single sample. $N$ is the number of the feature dimension and $C$ is the number of class in the final classification.\n",
        "\n",
        "For the first layer, $W_1 \\in R^{N\\times \\frac{N}{2}}$ and $b_1 \\in R^{\\frac{N}{2}}$\n",
        "\n",
        "$$\\bar{h}_1 = x\\cdot W_1 + b_1$$\n",
        "\n",
        "$$h_1 = ReLU(\\bar{h}_1)$$\n",
        "\n",
        "For the second layer, $W_2 \\in R^{\\frac{N}{2} \\times \\frac{N}{2}}$ and $b_2 \\in R^{\\frac{N}{2}}$\n",
        "\n",
        "$$\\bar{h}_2 = h_1\\cdot W_2 + b_2$$\n",
        "\n",
        "$$h_2 = h_1 + ReLU(\\bar{h}_2)$$\n",
        "\n",
        "*Sidenote: in deep learning, $g(x, f) = x + f(x)$ is usually referred to as skip connection.*\n",
        "\n",
        "In the softmax layer, $W_{sm} \\in R^{\\frac{N}{2} \\times C}$. The unnormalized score $s \\in R^{C}$ is\n",
        "\n",
        "$$s = h_2\\cdot W_{sm}$$\n",
        "\n",
        "With softmax function, we get the probability $p(c_i)$ of class $i$ where $i \\in \\{1,\\cdots,C\\}$\n",
        "\n",
        "$$p(c_i) = \\frac {\\exp(s_i)} {\\sum_i \\exp(s_i)}$$\n",
        "\n",
        "where $s_i$ is the $i^{th}$ element of $s$.\n",
        "\n",
        "Assuming $y \\in \\{1,\\cdots,C\\}$, we want to minimize $-\\log p(c_y)$, the cross-entropy loss between one hot true distribution `q(c_i) = 1 if i == y else 0` and $p(c_i)$.\n",
        "\n",
        "We will take the average $-\\log p(c_y)$ of a batch of x as the loss.\n",
        "\n",
        "In `mlp_two_hidden_forward_and_backward`, `batch_x` and `batch_y` are matrixs, where each row are $x$ and $y$, respectively."
      ]
    },
    {
      "cell_type": "code",
      "metadata": {
        "colab_type": "code",
        "id": "N1XBElNccHeu",
        "colab": {}
      },
      "source": [
        "mlp_two_hidden = Parameters()\n",
        "mlp_two_hidden.set_param('w1', init_linear(NB_FEAT, NB_FEAT // 2))\n",
        "mlp_two_hidden.set_param('b1', np.zeros(NB_FEAT // 2))\n",
        "mlp_two_hidden.set_param('w2', init_linear(NB_FEAT // 2, NB_FEAT // 2))\n",
        "mlp_two_hidden.set_param('b2', np.zeros(NB_FEAT // 2))\n",
        "mlp_two_hidden.set_param('w_sm', init_linear(NB_FEAT // 2, 10))"
      ],
      "execution_count": 0,
      "outputs": []
    },
    {
      "cell_type": "markdown",
      "metadata": {
        "colab_type": "text",
        "id": "QiVRXqN4xXgm"
      },
      "source": [
        "### TODO\n"
      ]
    },
    {
      "cell_type": "code",
      "metadata": {
        "colab_type": "code",
        "id": "2tsJbpmgcHh6",
        "colab": {}
      },
      "source": [
        "def mlp_two_hidden_forward_and_backward(batch_x, batch_y, param: Parameters, grad=True):\n",
        "    '''\n",
        "    compute the loss and the gradient of each parameter\n",
        "    return loss (float) and p(c_i) (matrix with shape batch_size x C)\n",
        "    '''\n",
        "    param.zero_grad()\n",
        "    w1 = param.get_param('w1')\n",
        "    b1 = param.get_param('b1')\n",
        "    w2 = param.get_param('w2')\n",
        "    b2 = param.get_param('b2')\n",
        "    w_sm = param.get_param('w_sm')\n",
        "\n",
        "    # compute loss and probs\n",
        "    loss = 0\n",
        "    probs = np.zeros((len(batch_x), 10))\n",
        "    h1_hat = batch_x.dot(w1) + b1\n",
        "    h1 = (np.abs(h1_hat) + h1_hat) / 2\n",
        "    h2_hat = h1.dot(w2) + b2\n",
        "    h2 = h1 + (np.abs(h2_hat) + h2_hat) / 2\n",
        "    s = h2.dot(w_sm)\n",
        "    b = np.max(s, axis=1).reshape(-1,1)\n",
        "    s = np.exp(s - b)\n",
        "    probs = s / np.sum(s, axis=1).reshape(-1,1)\n",
        "    p = [each[batch_y[i]] for i, each in enumerate(probs)]\n",
        "    loss = - np.mean(np.log(p))\n",
        "    y = np.zeros_like(probs)\n",
        "    for i, each in enumerate(y):\n",
        "        new_row = each.copy()\n",
        "        new_row[batch_y[i]] = 1\n",
        "        y[i] = new_row\n",
        "    if not grad:\n",
        "        return loss, probs\n",
        "    \n",
        "    relu_matrix_h2 = np.greater(h2_hat, 0).astype(int)\n",
        "    relu_matrix_h1 = np.greater(h1_hat, 0).astype(int)\n",
        "    \n",
        "    # compute gradient\n",
        "    w1_grad = np.zeros_like(w1)\n",
        "    w1_grad = (batch_x.T.dot((((probs - y).dot(w_sm.T) * relu_matrix_h2).dot(w2.T)) * relu_matrix_h1\n",
        "                            + (probs - y).dot(w_sm.T) * relu_matrix_h1)) / len(batch_x)\n",
        "    ## There are two part of the gradient, one is from h1, and another one is from h2_hat\n",
        "    \n",
        "    b1_grad = np.zeros_like(b1)\n",
        "    b1_grad = np.sum((((probs - y).dot(w_sm.T) * relu_matrix_h2).dot(w2.T)) * relu_matrix_h1\n",
        "                            + (probs - y).dot(w_sm.T) * relu_matrix_h1, axis=0) / len(batch_x)\n",
        "    \n",
        "    w2_grad = np.zeros_like(w2)\n",
        "    w2_grad = h1.T.dot((probs - y).dot(w_sm.T) * relu_matrix_h2) / len(batch_x)\n",
        "    \n",
        "    b2_grad = np.zeros_like(b2)\n",
        "    b2_grad = np.sum((probs - y).dot(w_sm.T) * relu_matrix_h2, axis=0) / len(batch_x)\n",
        "    \n",
        "    w_sm_grad = np.zeros_like(w_sm)\n",
        "    w_sm_grad = h2.T.dot(probs - y) / len(h2)\n",
        "\n",
        "    param.accumlate_grad('w1', w1_grad)\n",
        "    param.accumlate_grad('b1', b1_grad)\n",
        "    param.accumlate_grad('w2', w2_grad)\n",
        "    param.accumlate_grad('b2', b2_grad)\n",
        "    param.accumlate_grad('w_sm', w_sm_grad)\n",
        "    return loss, probs\n"
      ],
      "execution_count": 0,
      "outputs": []
    },
    {
      "cell_type": "markdown",
      "metadata": {
        "colab_type": "text",
        "id": "BCF5GRKvdGaw"
      },
      "source": [
        "### Loss & Gradient Check\n",
        "\n",
        "If all assertions are passed, it means you are good to go."
      ]
    },
    {
      "cell_type": "code",
      "metadata": {
        "colab_type": "code",
        "id": "gnkCUnV6cHlC",
        "colab": {}
      },
      "source": [
        "# use a prime number for batch size would make debugging easier\n",
        "bs = 7\n",
        "batch_x = train_x[:bs]\n",
        "batch_y = train_y[:bs]\n",
        "loss, _ = mlp_two_hidden_forward_and_backward(batch_x, batch_y, mlp_two_hidden)\n",
        "\n",
        "w1 = mlp_two_hidden.get_param('w1')\n",
        "b1 = mlp_two_hidden.get_param('b1')\n",
        "w2 = mlp_two_hidden.get_param('w2')\n",
        "b2 = mlp_two_hidden.get_param('b2')\n",
        "w_sm = mlp_two_hidden.get_param('w_sm')\n",
        "_w1 = torch.tensor(w1, dtype=torch.double, requires_grad=True)\n",
        "_b1 = torch.tensor(b1, dtype=torch.double, requires_grad=True)\n",
        "_w2 = torch.tensor(w2, dtype=torch.double, requires_grad=True)\n",
        "_b2 = torch.tensor(b2, dtype=torch.double, requires_grad=True)\n",
        "_w_sm = torch.tensor(w_sm, dtype=torch.double, requires_grad=True)\n",
        "_batch_x = torch.tensor(batch_x, dtype=torch.double, requires_grad=False)\n",
        "_batch_y = torch.tensor(batch_y, dtype=torch.long, requires_grad=False)\n",
        "\n",
        "_h1 = F.linear(_batch_x, _w1.transpose(0,1)) + _b1\n",
        "_h1 = F.relu(_h1)\n",
        "\n",
        "_h2 = F.linear(_h1, _w2.transpose(0,1)) + _b2\n",
        "_h2 = F.relu(_h2)\n",
        "_h2 = _h2 + _h1\n",
        "\n",
        "_logits = F.linear(_h2, _w_sm.transpose(0,1))\n",
        "_logprobs = F.log_softmax(_logits, dim=-1)\n",
        "_loss = -_logprobs[torch.arange(len(_batch_y)), _batch_y].mean()\n",
        "_loss.backward()\n",
        "\n",
        "assert np.isclose(loss, _loss.item())\n",
        "assert np.allclose(_w_sm.grad.numpy(), mlp_two_hidden.grad['w_sm'])\n",
        "assert np.allclose(_w2.grad.numpy(), mlp_two_hidden.grad['w2'])\n",
        "assert np.allclose(_b2.grad.numpy(), mlp_two_hidden.grad['b2'])\n",
        "assert np.allclose(_w1.grad.numpy(), mlp_two_hidden.grad['w1'])\n",
        "assert np.allclose(_b1.grad.numpy(), mlp_two_hidden.grad['b1'])"
      ],
      "execution_count": 0,
      "outputs": []
    },
    {
      "cell_type": "markdown",
      "metadata": {
        "colab_type": "text",
        "id": "fNjUcsPoenly"
      },
      "source": [
        "### Train!"
      ]
    },
    {
      "cell_type": "code",
      "metadata": {
        "colab_type": "code",
        "id": "4bnIsb-heqWE",
        "outputId": "c0944541-b77a-4c83-edc5-ee5cd17b5cbd",
        "colab": {
          "base_uri": "https://localhost:8080/",
          "height": 731
        }
      },
      "source": [
        "BS = 50\n",
        "LR = 0.005\n",
        "NB_EPOCH = 20\n",
        "\n",
        "mlp_two_hidden = Parameters()\n",
        "mlp_two_hidden.set_param('w1', init_linear(NB_FEAT, NB_FEAT // 2))\n",
        "mlp_two_hidden.set_param('b1', np.zeros(NB_FEAT // 2))\n",
        "mlp_two_hidden.set_param('w2', init_linear(NB_FEAT // 2, NB_FEAT // 2))\n",
        "mlp_two_hidden.set_param('b2', np.zeros(NB_FEAT // 2))\n",
        "mlp_two_hidden.set_param('w_sm', init_linear(NB_FEAT // 2, 10))\n",
        "\n",
        "main_training(mlp_two_hidden, mlp_two_hidden_forward_and_backward, train_x, train_y, dev_x, dev_y, BS, LR, NB_EPOCH)"
      ],
      "execution_count": 0,
      "outputs": [
        {
          "output_type": "stream",
          "text": [
            "  5%|| 1/20 [00:13<04:08, 13.07s/it]"
          ],
          "name": "stderr"
        },
        {
          "output_type": "stream",
          "text": [
            "epoch 0 train loss = 0.450 dev accuracy = 91.54%\n"
          ],
          "name": "stdout"
        },
        {
          "output_type": "stream",
          "text": [
            "\r 10%|| 2/20 [00:25<03:53, 12.97s/it]"
          ],
          "name": "stderr"
        },
        {
          "output_type": "stream",
          "text": [
            "epoch 1 train loss = 0.237 dev accuracy = 93.28%\n"
          ],
          "name": "stdout"
        },
        {
          "output_type": "stream",
          "text": [
            "\r 15%|| 3/20 [00:38<03:40, 12.98s/it]"
          ],
          "name": "stderr"
        },
        {
          "output_type": "stream",
          "text": [
            "epoch 2 train loss = 0.190 dev accuracy = 94.27%\n"
          ],
          "name": "stdout"
        },
        {
          "output_type": "stream",
          "text": [
            "\r 20%|| 4/20 [00:51<03:26, 12.90s/it]"
          ],
          "name": "stderr"
        },
        {
          "output_type": "stream",
          "text": [
            "epoch 3 train loss = 0.161 dev accuracy = 94.84%\n"
          ],
          "name": "stdout"
        },
        {
          "output_type": "stream",
          "text": [
            "\r 25%|| 5/20 [01:04<03:12, 12.83s/it]"
          ],
          "name": "stderr"
        },
        {
          "output_type": "stream",
          "text": [
            "epoch 4 train loss = 0.140 dev accuracy = 95.28%\n"
          ],
          "name": "stdout"
        },
        {
          "output_type": "stream",
          "text": [
            "\r 30%|| 6/20 [01:16<02:59, 12.82s/it]"
          ],
          "name": "stderr"
        },
        {
          "output_type": "stream",
          "text": [
            "epoch 5 train loss = 0.124 dev accuracy = 95.59%\n"
          ],
          "name": "stdout"
        },
        {
          "output_type": "stream",
          "text": [
            "\r 35%|| 7/20 [01:30<02:48, 12.93s/it]"
          ],
          "name": "stderr"
        },
        {
          "output_type": "stream",
          "text": [
            "epoch 6 train loss = 0.111 dev accuracy = 95.86%\n"
          ],
          "name": "stdout"
        },
        {
          "output_type": "stream",
          "text": [
            "\r 40%|| 8/20 [01:43<02:36, 13.01s/it]"
          ],
          "name": "stderr"
        },
        {
          "output_type": "stream",
          "text": [
            "epoch 7 train loss = 0.101 dev accuracy = 96.06%\n"
          ],
          "name": "stdout"
        },
        {
          "output_type": "stream",
          "text": [
            "\r 45%|| 9/20 [01:56<02:22, 12.94s/it]"
          ],
          "name": "stderr"
        },
        {
          "output_type": "stream",
          "text": [
            "epoch 8 train loss = 0.092 dev accuracy = 96.24%\n"
          ],
          "name": "stdout"
        },
        {
          "output_type": "stream",
          "text": [
            "\r 50%|| 10/20 [02:08<02:09, 12.90s/it]"
          ],
          "name": "stderr"
        },
        {
          "output_type": "stream",
          "text": [
            "epoch 9 train loss = 0.084 dev accuracy = 96.43%\n"
          ],
          "name": "stdout"
        },
        {
          "output_type": "stream",
          "text": [
            "\r 55%|| 11/20 [02:21<01:55, 12.83s/it]"
          ],
          "name": "stderr"
        },
        {
          "output_type": "stream",
          "text": [
            "epoch 10 train loss = 0.077 dev accuracy = 96.65%\n"
          ],
          "name": "stdout"
        },
        {
          "output_type": "stream",
          "text": [
            "\r 60%|| 12/20 [02:34<01:42, 12.82s/it]"
          ],
          "name": "stderr"
        },
        {
          "output_type": "stream",
          "text": [
            "epoch 11 train loss = 0.072 dev accuracy = 96.73%\n"
          ],
          "name": "stdout"
        },
        {
          "output_type": "stream",
          "text": [
            "\r 65%|| 13/20 [02:47<01:29, 12.79s/it]"
          ],
          "name": "stderr"
        },
        {
          "output_type": "stream",
          "text": [
            "epoch 12 train loss = 0.066 dev accuracy = 96.80%\n"
          ],
          "name": "stdout"
        },
        {
          "output_type": "stream",
          "text": [
            "\r 70%|| 14/20 [02:59<01:16, 12.79s/it]"
          ],
          "name": "stderr"
        },
        {
          "output_type": "stream",
          "text": [
            "epoch 13 train loss = 0.061 dev accuracy = 96.88%\n"
          ],
          "name": "stdout"
        },
        {
          "output_type": "stream",
          "text": [
            "\r 75%|| 15/20 [03:13<01:04, 12.91s/it]"
          ],
          "name": "stderr"
        },
        {
          "output_type": "stream",
          "text": [
            "epoch 14 train loss = 0.057 dev accuracy = 96.96%\n"
          ],
          "name": "stdout"
        },
        {
          "output_type": "stream",
          "text": [
            "\r 80%|| 16/20 [03:26<00:51, 12.93s/it]"
          ],
          "name": "stderr"
        },
        {
          "output_type": "stream",
          "text": [
            "epoch 15 train loss = 0.053 dev accuracy = 97.05%\n"
          ],
          "name": "stdout"
        },
        {
          "output_type": "stream",
          "text": [
            "\r 85%|| 17/20 [03:39<00:38, 13.00s/it]"
          ],
          "name": "stderr"
        },
        {
          "output_type": "stream",
          "text": [
            "epoch 16 train loss = 0.050 dev accuracy = 97.08%\n"
          ],
          "name": "stdout"
        },
        {
          "output_type": "stream",
          "text": [
            "\r 90%|| 18/20 [03:52<00:25, 12.93s/it]"
          ],
          "name": "stderr"
        },
        {
          "output_type": "stream",
          "text": [
            "epoch 17 train loss = 0.047 dev accuracy = 97.23%\n"
          ],
          "name": "stdout"
        },
        {
          "output_type": "stream",
          "text": [
            "\r 95%|| 19/20 [04:05<00:12, 12.97s/it]"
          ],
          "name": "stderr"
        },
        {
          "output_type": "stream",
          "text": [
            "epoch 18 train loss = 0.044 dev accuracy = 97.26%\n"
          ],
          "name": "stdout"
        },
        {
          "output_type": "stream",
          "text": [
            "\r100%|| 20/20 [04:17<00:00, 12.94s/it]"
          ],
          "name": "stderr"
        },
        {
          "output_type": "stream",
          "text": [
            "epoch 19 train loss = 0.041 dev accuracy = 97.29%\n",
            "best dev accuracy = 97.29%\n"
          ],
          "name": "stdout"
        },
        {
          "output_type": "stream",
          "text": [
            "\n"
          ],
          "name": "stderr"
        },
        {
          "output_type": "execute_result",
          "data": {
            "text/plain": [
              "[91.53999999999999,\n",
              " 93.28,\n",
              " 94.27,\n",
              " 94.84,\n",
              " 95.28,\n",
              " 95.59,\n",
              " 95.86,\n",
              " 96.06,\n",
              " 96.24000000000001,\n",
              " 96.43,\n",
              " 96.65,\n",
              " 96.73,\n",
              " 96.8,\n",
              " 96.88,\n",
              " 96.96000000000001,\n",
              " 97.05,\n",
              " 97.08,\n",
              " 97.23,\n",
              " 97.26,\n",
              " 97.28999999999999]"
            ]
          },
          "metadata": {
            "tags": []
          },
          "execution_count": 40
        }
      ]
    },
    {
      "cell_type": "code",
      "metadata": {
        "id": "3TcmyXF_uv6F",
        "colab_type": "code",
        "outputId": "6cc2c61e-c856-4b81-a4ff-08d24266708c",
        "colab": {
          "base_uri": "https://localhost:8080/",
          "height": 1000
        }
      },
      "source": [
        "import matplotlib.pyplot as matplot\n",
        "BS = 50\n",
        "LR = 0.005\n",
        "NB_EPOCH = 20\n",
        "no_hidden = main_training(linear_classifier, linear_classifier_forward_and_backward, train_x, train_y, dev_x, dev_y, BS, LR, NB_EPOCH)\n",
        "one_hidden = main_training(mlp_single_hidden, mlp_single_hidden_forward_and_backward, train_x, train_y, dev_x, dev_y, BS, LR, NB_EPOCH)\n",
        "two_hidden = main_training(mlp_two_hidden, mlp_two_hidden_forward_and_backward, train_x, train_y, dev_x, dev_y, BS, LR, NB_EPOCH)\n",
        "BS = 100\n",
        "LR = 0.01\n",
        "NB_EPOCH = 20\n",
        "two_hidden_best = main_training(mlp_two_hidden, mlp_two_hidden_forward_and_backward, train_x, train_y, dev_x, dev_y, BS, LR, NB_EPOCH)\n",
        "matplot.plot([i+1 for i in range(20)], no_hidden, \"r\")\n",
        "matplot.plot([i+1 for i in range(20)], one_hidden, \"y\")\n",
        "matplot.plot([i+1 for i in range(20)], two_hidden, \"g\")\n",
        "matplot.plot([i+1 for i in range(20)], two_hidden_best, \"b\")\n",
        "## The red line is for no hidden layer\n",
        "## The yellow line is for single hidden layer\n",
        "## The green line is for two hidden layers"
      ],
      "execution_count": 0,
      "outputs": [
        {
          "output_type": "stream",
          "text": [
            "  5%|| 1/20 [00:01<00:21,  1.11s/it]"
          ],
          "name": "stderr"
        },
        {
          "output_type": "stream",
          "text": [
            "epoch 0 train loss = 0.271 dev accuracy = 91.93%\n"
          ],
          "name": "stdout"
        },
        {
          "output_type": "stream",
          "text": [
            "\r 10%|| 2/20 [00:02<00:19,  1.10s/it]"
          ],
          "name": "stderr"
        },
        {
          "output_type": "stream",
          "text": [
            "epoch 1 train loss = 0.270 dev accuracy = 91.96%\n"
          ],
          "name": "stdout"
        },
        {
          "output_type": "stream",
          "text": [
            "\r 15%|| 3/20 [00:03<00:18,  1.10s/it]"
          ],
          "name": "stderr"
        },
        {
          "output_type": "stream",
          "text": [
            "epoch 2 train loss = 0.269 dev accuracy = 91.98%\n"
          ],
          "name": "stdout"
        },
        {
          "output_type": "stream",
          "text": [
            "\r 20%|| 4/20 [00:04<00:17,  1.10s/it]"
          ],
          "name": "stderr"
        },
        {
          "output_type": "stream",
          "text": [
            "epoch 3 train loss = 0.268 dev accuracy = 92.05%\n"
          ],
          "name": "stdout"
        },
        {
          "output_type": "stream",
          "text": [
            "\r 25%|| 5/20 [00:05<00:16,  1.10s/it]"
          ],
          "name": "stderr"
        },
        {
          "output_type": "stream",
          "text": [
            "epoch 4 train loss = 0.267 dev accuracy = 92.07%\n"
          ],
          "name": "stdout"
        },
        {
          "output_type": "stream",
          "text": [
            "\r 30%|| 6/20 [00:06<00:15,  1.10s/it]"
          ],
          "name": "stderr"
        },
        {
          "output_type": "stream",
          "text": [
            "epoch 5 train loss = 0.266 dev accuracy = 92.06%\n"
          ],
          "name": "stdout"
        },
        {
          "output_type": "stream",
          "text": [
            "\r 35%|| 7/20 [00:07<00:14,  1.12s/it]"
          ],
          "name": "stderr"
        },
        {
          "output_type": "stream",
          "text": [
            "epoch 6 train loss = 0.265 dev accuracy = 92.07%\n"
          ],
          "name": "stdout"
        },
        {
          "output_type": "stream",
          "text": [
            "\r 40%|| 8/20 [00:08<00:13,  1.14s/it]"
          ],
          "name": "stderr"
        },
        {
          "output_type": "stream",
          "text": [
            "epoch 7 train loss = 0.264 dev accuracy = 92.04%\n"
          ],
          "name": "stdout"
        },
        {
          "output_type": "stream",
          "text": [
            "\r 45%|| 9/20 [00:10<00:12,  1.14s/it]"
          ],
          "name": "stderr"
        },
        {
          "output_type": "stream",
          "text": [
            "epoch 8 train loss = 0.264 dev accuracy = 92.07%\n"
          ],
          "name": "stdout"
        },
        {
          "output_type": "stream",
          "text": [
            "\r 50%|| 10/20 [00:11<00:11,  1.16s/it]"
          ],
          "name": "stderr"
        },
        {
          "output_type": "stream",
          "text": [
            "epoch 9 train loss = 0.263 dev accuracy = 92.09%\n"
          ],
          "name": "stdout"
        },
        {
          "output_type": "stream",
          "text": [
            "\r 55%|| 11/20 [00:12<00:10,  1.14s/it]"
          ],
          "name": "stderr"
        },
        {
          "output_type": "stream",
          "text": [
            "epoch 10 train loss = 0.262 dev accuracy = 92.07%\n"
          ],
          "name": "stdout"
        },
        {
          "output_type": "stream",
          "text": [
            "\r 60%|| 12/20 [00:13<00:09,  1.14s/it]"
          ],
          "name": "stderr"
        },
        {
          "output_type": "stream",
          "text": [
            "epoch 11 train loss = 0.262 dev accuracy = 92.05%\n"
          ],
          "name": "stdout"
        },
        {
          "output_type": "stream",
          "text": [
            "\r 65%|| 13/20 [00:14<00:07,  1.11s/it]"
          ],
          "name": "stderr"
        },
        {
          "output_type": "stream",
          "text": [
            "epoch 12 train loss = 0.261 dev accuracy = 92.06%\n"
          ],
          "name": "stdout"
        },
        {
          "output_type": "stream",
          "text": [
            "\r 70%|| 14/20 [00:15<00:06,  1.10s/it]"
          ],
          "name": "stderr"
        },
        {
          "output_type": "stream",
          "text": [
            "epoch 13 train loss = 0.260 dev accuracy = 92.07%\n"
          ],
          "name": "stdout"
        },
        {
          "output_type": "stream",
          "text": [
            "\r 75%|| 15/20 [00:16<00:05,  1.09s/it]"
          ],
          "name": "stderr"
        },
        {
          "output_type": "stream",
          "text": [
            "epoch 14 train loss = 0.260 dev accuracy = 92.08%\n"
          ],
          "name": "stdout"
        },
        {
          "output_type": "stream",
          "text": [
            "\r 80%|| 16/20 [00:17<00:04,  1.11s/it]"
          ],
          "name": "stderr"
        },
        {
          "output_type": "stream",
          "text": [
            "epoch 15 train loss = 0.259 dev accuracy = 92.09%\n"
          ],
          "name": "stdout"
        },
        {
          "output_type": "stream",
          "text": [
            "\r 85%|| 17/20 [00:18<00:03,  1.11s/it]"
          ],
          "name": "stderr"
        },
        {
          "output_type": "stream",
          "text": [
            "epoch 16 train loss = 0.259 dev accuracy = 92.13%\n"
          ],
          "name": "stdout"
        },
        {
          "output_type": "stream",
          "text": [
            "\r 90%|| 18/20 [00:20<00:02,  1.11s/it]"
          ],
          "name": "stderr"
        },
        {
          "output_type": "stream",
          "text": [
            "epoch 17 train loss = 0.258 dev accuracy = 92.12%\n"
          ],
          "name": "stdout"
        },
        {
          "output_type": "stream",
          "text": [
            "\r 95%|| 19/20 [00:21<00:01,  1.13s/it]"
          ],
          "name": "stderr"
        },
        {
          "output_type": "stream",
          "text": [
            "epoch 18 train loss = 0.258 dev accuracy = 92.09%\n"
          ],
          "name": "stdout"
        },
        {
          "output_type": "stream",
          "text": [
            "100%|| 20/20 [00:22<00:00,  1.13s/it]\n",
            "  0%|| 0/20 [00:00<?, ?it/s]"
          ],
          "name": "stderr"
        },
        {
          "output_type": "stream",
          "text": [
            "epoch 19 train loss = 0.257 dev accuracy = 92.09%\n",
            "best dev accuracy = 92.13%\n"
          ],
          "name": "stdout"
        },
        {
          "output_type": "stream",
          "text": [
            "\r  5%|| 1/20 [00:07<02:22,  7.50s/it]"
          ],
          "name": "stderr"
        },
        {
          "output_type": "stream",
          "text": [
            "epoch 0 train loss = 0.080 dev accuracy = 96.82%\n"
          ],
          "name": "stdout"
        },
        {
          "output_type": "stream",
          "text": [
            "\r 10%|| 2/20 [00:14<02:13,  7.44s/it]"
          ],
          "name": "stderr"
        },
        {
          "output_type": "stream",
          "text": [
            "epoch 1 train loss = 0.077 dev accuracy = 96.86%\n"
          ],
          "name": "stdout"
        },
        {
          "output_type": "stream",
          "text": [
            "\r 15%|| 3/20 [00:22<02:06,  7.41s/it]"
          ],
          "name": "stderr"
        },
        {
          "output_type": "stream",
          "text": [
            "epoch 2 train loss = 0.074 dev accuracy = 96.87%\n"
          ],
          "name": "stdout"
        },
        {
          "output_type": "stream",
          "text": [
            "\r 20%|| 4/20 [00:29<01:58,  7.39s/it]"
          ],
          "name": "stderr"
        },
        {
          "output_type": "stream",
          "text": [
            "epoch 3 train loss = 0.072 dev accuracy = 96.91%\n"
          ],
          "name": "stdout"
        },
        {
          "output_type": "stream",
          "text": [
            "\r 25%|| 5/20 [00:36<01:49,  7.33s/it]"
          ],
          "name": "stderr"
        },
        {
          "output_type": "stream",
          "text": [
            "epoch 4 train loss = 0.069 dev accuracy = 96.97%\n"
          ],
          "name": "stdout"
        },
        {
          "output_type": "stream",
          "text": [
            "\r 30%|| 6/20 [00:43<01:41,  7.26s/it]"
          ],
          "name": "stderr"
        },
        {
          "output_type": "stream",
          "text": [
            "epoch 5 train loss = 0.067 dev accuracy = 96.99%\n"
          ],
          "name": "stdout"
        },
        {
          "output_type": "stream",
          "text": [
            "\r 35%|| 7/20 [00:51<01:35,  7.35s/it]"
          ],
          "name": "stderr"
        },
        {
          "output_type": "stream",
          "text": [
            "epoch 6 train loss = 0.065 dev accuracy = 97.04%\n"
          ],
          "name": "stdout"
        },
        {
          "output_type": "stream",
          "text": [
            "\r 40%|| 8/20 [00:58<01:28,  7.34s/it]"
          ],
          "name": "stderr"
        },
        {
          "output_type": "stream",
          "text": [
            "epoch 7 train loss = 0.062 dev accuracy = 97.06%\n"
          ],
          "name": "stdout"
        },
        {
          "output_type": "stream",
          "text": [
            "\r 45%|| 9/20 [01:05<01:20,  7.29s/it]"
          ],
          "name": "stderr"
        },
        {
          "output_type": "stream",
          "text": [
            "epoch 8 train loss = 0.060 dev accuracy = 97.11%\n"
          ],
          "name": "stdout"
        },
        {
          "output_type": "stream",
          "text": [
            "\r 50%|| 10/20 [01:13<01:12,  7.26s/it]"
          ],
          "name": "stderr"
        },
        {
          "output_type": "stream",
          "text": [
            "epoch 9 train loss = 0.059 dev accuracy = 97.13%\n"
          ],
          "name": "stdout"
        },
        {
          "output_type": "stream",
          "text": [
            "\r 55%|| 11/20 [01:20<01:05,  7.29s/it]"
          ],
          "name": "stderr"
        },
        {
          "output_type": "stream",
          "text": [
            "epoch 10 train loss = 0.057 dev accuracy = 97.13%\n"
          ],
          "name": "stdout"
        },
        {
          "output_type": "stream",
          "text": [
            "\r 60%|| 12/20 [01:27<00:58,  7.33s/it]"
          ],
          "name": "stderr"
        },
        {
          "output_type": "stream",
          "text": [
            "epoch 11 train loss = 0.055 dev accuracy = 97.15%\n"
          ],
          "name": "stdout"
        },
        {
          "output_type": "stream",
          "text": [
            "\r 65%|| 13/20 [01:34<00:50,  7.27s/it]"
          ],
          "name": "stderr"
        },
        {
          "output_type": "stream",
          "text": [
            "epoch 12 train loss = 0.053 dev accuracy = 97.18%\n"
          ],
          "name": "stdout"
        },
        {
          "output_type": "stream",
          "text": [
            "\r 70%|| 14/20 [01:42<00:43,  7.29s/it]"
          ],
          "name": "stderr"
        },
        {
          "output_type": "stream",
          "text": [
            "epoch 13 train loss = 0.052 dev accuracy = 97.20%\n"
          ],
          "name": "stdout"
        },
        {
          "output_type": "stream",
          "text": [
            "\r 75%|| 15/20 [01:49<00:36,  7.37s/it]"
          ],
          "name": "stderr"
        },
        {
          "output_type": "stream",
          "text": [
            "epoch 14 train loss = 0.050 dev accuracy = 97.23%\n"
          ],
          "name": "stdout"
        },
        {
          "output_type": "stream",
          "text": [
            "\r 80%|| 16/20 [01:57<00:29,  7.33s/it]"
          ],
          "name": "stderr"
        },
        {
          "output_type": "stream",
          "text": [
            "epoch 15 train loss = 0.049 dev accuracy = 97.24%\n"
          ],
          "name": "stdout"
        },
        {
          "output_type": "stream",
          "text": [
            "\r 85%|| 17/20 [02:04<00:22,  7.34s/it]"
          ],
          "name": "stderr"
        },
        {
          "output_type": "stream",
          "text": [
            "epoch 16 train loss = 0.048 dev accuracy = 97.27%\n"
          ],
          "name": "stdout"
        },
        {
          "output_type": "stream",
          "text": [
            "\r 90%|| 18/20 [02:11<00:14,  7.27s/it]"
          ],
          "name": "stderr"
        },
        {
          "output_type": "stream",
          "text": [
            "epoch 17 train loss = 0.046 dev accuracy = 97.29%\n"
          ],
          "name": "stdout"
        },
        {
          "output_type": "stream",
          "text": [
            "\r 95%|| 19/20 [02:18<00:07,  7.22s/it]"
          ],
          "name": "stderr"
        },
        {
          "output_type": "stream",
          "text": [
            "epoch 18 train loss = 0.045 dev accuracy = 97.31%\n"
          ],
          "name": "stdout"
        },
        {
          "output_type": "stream",
          "text": [
            "100%|| 20/20 [02:25<00:00,  7.26s/it]\n",
            "  0%|| 0/20 [00:00<?, ?it/s]"
          ],
          "name": "stderr"
        },
        {
          "output_type": "stream",
          "text": [
            "epoch 19 train loss = 0.044 dev accuracy = 97.35%\n",
            "best dev accuracy = 97.35%\n"
          ],
          "name": "stdout"
        },
        {
          "output_type": "stream",
          "text": [
            "\r  5%|| 1/20 [00:12<03:58, 12.58s/it]"
          ],
          "name": "stderr"
        },
        {
          "output_type": "stream",
          "text": [
            "epoch 0 train loss = 0.038 dev accuracy = 97.32%\n"
          ],
          "name": "stdout"
        },
        {
          "output_type": "stream",
          "text": [
            "\r 10%|| 2/20 [00:25<03:47, 12.62s/it]"
          ],
          "name": "stderr"
        },
        {
          "output_type": "stream",
          "text": [
            "epoch 1 train loss = 0.036 dev accuracy = 97.34%\n"
          ],
          "name": "stdout"
        },
        {
          "output_type": "stream",
          "text": [
            "\r 15%|| 3/20 [00:37<03:32, 12.50s/it]"
          ],
          "name": "stderr"
        },
        {
          "output_type": "stream",
          "text": [
            "epoch 2 train loss = 0.034 dev accuracy = 97.36%\n"
          ],
          "name": "stdout"
        },
        {
          "output_type": "stream",
          "text": [
            "\r 20%|| 4/20 [00:49<03:19, 12.44s/it]"
          ],
          "name": "stderr"
        },
        {
          "output_type": "stream",
          "text": [
            "epoch 3 train loss = 0.032 dev accuracy = 97.39%\n"
          ],
          "name": "stdout"
        },
        {
          "output_type": "stream",
          "text": [
            "\r 25%|| 5/20 [01:02<03:07, 12.53s/it]"
          ],
          "name": "stderr"
        },
        {
          "output_type": "stream",
          "text": [
            "epoch 4 train loss = 0.030 dev accuracy = 97.39%\n"
          ],
          "name": "stdout"
        },
        {
          "output_type": "stream",
          "text": [
            "\r 30%|| 6/20 [01:15<02:55, 12.52s/it]"
          ],
          "name": "stderr"
        },
        {
          "output_type": "stream",
          "text": [
            "epoch 5 train loss = 0.028 dev accuracy = 97.42%\n"
          ],
          "name": "stdout"
        },
        {
          "output_type": "stream",
          "text": [
            "\r 35%|| 7/20 [01:27<02:42, 12.52s/it]"
          ],
          "name": "stderr"
        },
        {
          "output_type": "stream",
          "text": [
            "epoch 6 train loss = 0.027 dev accuracy = 97.44%\n"
          ],
          "name": "stdout"
        },
        {
          "output_type": "stream",
          "text": [
            "\r 40%|| 8/20 [01:39<02:29, 12.46s/it]"
          ],
          "name": "stderr"
        },
        {
          "output_type": "stream",
          "text": [
            "epoch 7 train loss = 0.025 dev accuracy = 97.45%\n"
          ],
          "name": "stdout"
        },
        {
          "output_type": "stream",
          "text": [
            "\r 45%|| 9/20 [01:52<02:16, 12.38s/it]"
          ],
          "name": "stderr"
        },
        {
          "output_type": "stream",
          "text": [
            "epoch 8 train loss = 0.024 dev accuracy = 97.46%\n"
          ],
          "name": "stdout"
        },
        {
          "output_type": "stream",
          "text": [
            "\r 50%|| 10/20 [02:04<02:03, 12.36s/it]"
          ],
          "name": "stderr"
        },
        {
          "output_type": "stream",
          "text": [
            "epoch 9 train loss = 0.023 dev accuracy = 97.47%\n"
          ],
          "name": "stdout"
        },
        {
          "output_type": "stream",
          "text": [
            "\r 55%|| 11/20 [02:16<01:50, 12.33s/it]"
          ],
          "name": "stderr"
        },
        {
          "output_type": "stream",
          "text": [
            "epoch 10 train loss = 0.021 dev accuracy = 97.47%\n"
          ],
          "name": "stdout"
        },
        {
          "output_type": "stream",
          "text": [
            "\r 60%|| 12/20 [02:29<01:38, 12.36s/it]"
          ],
          "name": "stderr"
        },
        {
          "output_type": "stream",
          "text": [
            "epoch 11 train loss = 0.020 dev accuracy = 97.49%\n"
          ],
          "name": "stdout"
        },
        {
          "output_type": "stream",
          "text": [
            "\r 65%|| 13/20 [02:41<01:26, 12.34s/it]"
          ],
          "name": "stderr"
        },
        {
          "output_type": "stream",
          "text": [
            "epoch 12 train loss = 0.019 dev accuracy = 97.49%\n"
          ],
          "name": "stdout"
        },
        {
          "output_type": "stream",
          "text": [
            "\r 70%|| 14/20 [02:53<01:13, 12.26s/it]"
          ],
          "name": "stderr"
        },
        {
          "output_type": "stream",
          "text": [
            "epoch 13 train loss = 0.018 dev accuracy = 97.48%\n"
          ],
          "name": "stdout"
        },
        {
          "output_type": "stream",
          "text": [
            "\r 75%|| 15/20 [03:05<01:01, 12.31s/it]"
          ],
          "name": "stderr"
        },
        {
          "output_type": "stream",
          "text": [
            "epoch 14 train loss = 0.017 dev accuracy = 97.49%\n"
          ],
          "name": "stdout"
        },
        {
          "output_type": "stream",
          "text": [
            "\r 80%|| 16/20 [03:18<00:49, 12.26s/it]"
          ],
          "name": "stderr"
        },
        {
          "output_type": "stream",
          "text": [
            "epoch 15 train loss = 0.017 dev accuracy = 97.51%\n"
          ],
          "name": "stdout"
        },
        {
          "output_type": "stream",
          "text": [
            "\r 85%|| 17/20 [03:30<00:36, 12.28s/it]"
          ],
          "name": "stderr"
        },
        {
          "output_type": "stream",
          "text": [
            "epoch 16 train loss = 0.016 dev accuracy = 97.53%\n"
          ],
          "name": "stdout"
        },
        {
          "output_type": "stream",
          "text": [
            "\r 90%|| 18/20 [03:42<00:24, 12.26s/it]"
          ],
          "name": "stderr"
        },
        {
          "output_type": "stream",
          "text": [
            "epoch 17 train loss = 0.015 dev accuracy = 97.56%\n"
          ],
          "name": "stdout"
        },
        {
          "output_type": "stream",
          "text": [
            "\r 95%|| 19/20 [03:54<00:12, 12.18s/it]"
          ],
          "name": "stderr"
        },
        {
          "output_type": "stream",
          "text": [
            "epoch 18 train loss = 0.014 dev accuracy = 97.58%\n"
          ],
          "name": "stdout"
        },
        {
          "output_type": "stream",
          "text": [
            "100%|| 20/20 [04:06<00:00, 12.21s/it]\n",
            "  0%|| 0/20 [00:00<?, ?it/s]"
          ],
          "name": "stderr"
        },
        {
          "output_type": "stream",
          "text": [
            "epoch 19 train loss = 0.014 dev accuracy = 97.58%\n",
            "best dev accuracy = 97.58%\n"
          ],
          "name": "stdout"
        },
        {
          "output_type": "stream",
          "text": [
            "\r  5%|| 1/20 [00:08<02:49,  8.94s/it]"
          ],
          "name": "stderr"
        },
        {
          "output_type": "stream",
          "text": [
            "epoch 0 train loss = 0.013 dev accuracy = 97.58%\n"
          ],
          "name": "stdout"
        },
        {
          "output_type": "stream",
          "text": [
            "\r 10%|| 2/20 [00:18<02:42,  9.02s/it]"
          ],
          "name": "stderr"
        },
        {
          "output_type": "stream",
          "text": [
            "epoch 1 train loss = 0.013 dev accuracy = 97.62%\n"
          ],
          "name": "stdout"
        },
        {
          "output_type": "stream",
          "text": [
            "\r 15%|| 3/20 [00:27<02:33,  9.05s/it]"
          ],
          "name": "stderr"
        },
        {
          "output_type": "stream",
          "text": [
            "epoch 2 train loss = 0.012 dev accuracy = 97.65%\n"
          ],
          "name": "stdout"
        },
        {
          "output_type": "stream",
          "text": [
            "\r 20%|| 4/20 [00:36<02:24,  9.01s/it]"
          ],
          "name": "stderr"
        },
        {
          "output_type": "stream",
          "text": [
            "epoch 3 train loss = 0.012 dev accuracy = 97.66%\n"
          ],
          "name": "stdout"
        },
        {
          "output_type": "stream",
          "text": [
            "\r 25%|| 5/20 [00:45<02:15,  9.00s/it]"
          ],
          "name": "stderr"
        },
        {
          "output_type": "stream",
          "text": [
            "epoch 4 train loss = 0.011 dev accuracy = 97.68%\n"
          ],
          "name": "stdout"
        },
        {
          "output_type": "stream",
          "text": [
            "\r 30%|| 6/20 [00:54<02:06,  9.03s/it]"
          ],
          "name": "stderr"
        },
        {
          "output_type": "stream",
          "text": [
            "epoch 5 train loss = 0.011 dev accuracy = 97.70%\n"
          ],
          "name": "stdout"
        },
        {
          "output_type": "stream",
          "text": [
            "\r 35%|| 7/20 [01:03<01:57,  9.02s/it]"
          ],
          "name": "stderr"
        },
        {
          "output_type": "stream",
          "text": [
            "epoch 6 train loss = 0.010 dev accuracy = 97.71%\n"
          ],
          "name": "stdout"
        },
        {
          "output_type": "stream",
          "text": [
            "\r 40%|| 8/20 [01:12<01:48,  9.02s/it]"
          ],
          "name": "stderr"
        },
        {
          "output_type": "stream",
          "text": [
            "epoch 7 train loss = 0.010 dev accuracy = 97.73%\n"
          ],
          "name": "stdout"
        },
        {
          "output_type": "stream",
          "text": [
            "\r 45%|| 9/20 [01:21<01:39,  9.06s/it]"
          ],
          "name": "stderr"
        },
        {
          "output_type": "stream",
          "text": [
            "epoch 8 train loss = 0.010 dev accuracy = 97.73%\n"
          ],
          "name": "stdout"
        },
        {
          "output_type": "stream",
          "text": [
            "\r 50%|| 10/20 [01:30<01:30,  9.02s/it]"
          ],
          "name": "stderr"
        },
        {
          "output_type": "stream",
          "text": [
            "epoch 9 train loss = 0.009 dev accuracy = 97.74%\n"
          ],
          "name": "stdout"
        },
        {
          "output_type": "stream",
          "text": [
            "\r 55%|| 11/20 [01:39<01:20,  9.00s/it]"
          ],
          "name": "stderr"
        },
        {
          "output_type": "stream",
          "text": [
            "epoch 10 train loss = 0.009 dev accuracy = 97.76%\n"
          ],
          "name": "stdout"
        },
        {
          "output_type": "stream",
          "text": [
            "\r 60%|| 12/20 [01:48<01:11,  8.99s/it]"
          ],
          "name": "stderr"
        },
        {
          "output_type": "stream",
          "text": [
            "epoch 11 train loss = 0.009 dev accuracy = 97.75%\n"
          ],
          "name": "stdout"
        },
        {
          "output_type": "stream",
          "text": [
            "\r 65%|| 13/20 [01:57<01:03,  9.12s/it]"
          ],
          "name": "stderr"
        },
        {
          "output_type": "stream",
          "text": [
            "epoch 12 train loss = 0.008 dev accuracy = 97.77%\n"
          ],
          "name": "stdout"
        },
        {
          "output_type": "stream",
          "text": [
            "\r 70%|| 14/20 [02:07<00:55,  9.23s/it]"
          ],
          "name": "stderr"
        },
        {
          "output_type": "stream",
          "text": [
            "epoch 13 train loss = 0.008 dev accuracy = 97.77%\n"
          ],
          "name": "stdout"
        },
        {
          "output_type": "stream",
          "text": [
            "\r 75%|| 15/20 [02:16<00:46,  9.26s/it]"
          ],
          "name": "stderr"
        },
        {
          "output_type": "stream",
          "text": [
            "epoch 14 train loss = 0.008 dev accuracy = 97.78%\n"
          ],
          "name": "stdout"
        },
        {
          "output_type": "stream",
          "text": [
            "\r 80%|| 16/20 [02:25<00:36,  9.20s/it]"
          ],
          "name": "stderr"
        },
        {
          "output_type": "stream",
          "text": [
            "epoch 15 train loss = 0.007 dev accuracy = 97.78%\n"
          ],
          "name": "stdout"
        },
        {
          "output_type": "stream",
          "text": [
            "\r 85%|| 17/20 [02:34<00:27,  9.12s/it]"
          ],
          "name": "stderr"
        },
        {
          "output_type": "stream",
          "text": [
            "epoch 16 train loss = 0.007 dev accuracy = 97.77%\n"
          ],
          "name": "stdout"
        },
        {
          "output_type": "stream",
          "text": [
            "\r 90%|| 18/20 [02:43<00:18,  9.04s/it]"
          ],
          "name": "stderr"
        },
        {
          "output_type": "stream",
          "text": [
            "epoch 17 train loss = 0.007 dev accuracy = 97.77%\n"
          ],
          "name": "stdout"
        },
        {
          "output_type": "stream",
          "text": [
            "\r 95%|| 19/20 [02:52<00:09,  9.06s/it]"
          ],
          "name": "stderr"
        },
        {
          "output_type": "stream",
          "text": [
            "epoch 18 train loss = 0.007 dev accuracy = 97.78%\n"
          ],
          "name": "stdout"
        },
        {
          "output_type": "stream",
          "text": [
            "\r100%|| 20/20 [03:01<00:00,  9.07s/it]"
          ],
          "name": "stderr"
        },
        {
          "output_type": "stream",
          "text": [
            "epoch 19 train loss = 0.007 dev accuracy = 97.78%\n",
            "best dev accuracy = 97.78%\n"
          ],
          "name": "stdout"
        },
        {
          "output_type": "stream",
          "text": [
            "\n"
          ],
          "name": "stderr"
        },
        {
          "output_type": "execute_result",
          "data": {
            "text/plain": [
              "[<matplotlib.lines.Line2D at 0x7f34916e60b8>]"
            ]
          },
          "metadata": {
            "tags": []
          },
          "execution_count": 41
        },
        {
          "output_type": "display_data",
          "data": {
            "image/png": "[encoded data removed]",
            "text/plain": [
              "<Figure size 432x288 with 1 Axes>"
            ]
          },
          "metadata": {
            "tags": []
          }
        }
      ]
    },
    {
      "cell_type": "code",
      "metadata": {
        "scrolled": true,
        "id": "6mjdsPXeuv6J",
        "colab_type": "code",
        "outputId": "7289c450-b6fe-4aac-e3e7-82b6a39e5ffd",
        "colab": {
          "base_uri": "https://localhost:8080/",
          "height": 656
        }
      },
      "source": [
        "# possible_BS = [50, 100, 200, 300]\n",
        "# possible_LR = [0.001, 0.005, 0.01, 0.2]\n",
        "# possible_NB_EPOCH = [5, 10, 15, 20, 25, 30]\n",
        "# best_accuracy = []\n",
        "# best_setting = []\n",
        "# for BS in possible_BS:\n",
        "#     for LR in possible_LR:\n",
        "#         for NB_EPOCH in possible_NB_EPOCH:\n",
        "#             two_hidden = main_training(mlp_two_hidden, mlp_two_hidden_forward_and_backward, train_x, train_y, dev_x, dev_y, BS, LR, NB_EPOCH)\n",
        "#             if best_accuracy == [] or best_accuracy[-1] < two_hidden[-1]:\n",
        "#                 best_accuracy = two_hidden\n",
        "#                 best_setting = [BS, LR, NB_EPOCH]\n",
        "# matplot.plot([i+1 for i in range(len(best_accuracy))], best_accuracy, \"b\")\n",
        "# print(best_setting)\n",
        "BS = 100\n",
        "LR = 0.01\n",
        "NB_EPOCH = 20\n",
        "two_hidden_best = main_training(mlp_two_hidden, mlp_two_hidden_forward_and_backward, train_x, train_y, test_x, test_y, BS, LR, NB_EPOCH)\n",
        "matplot.plot([i+1 for i in range(len(two_hidden_best))], two_hidden_best, \"b\")"
      ],
      "execution_count": 0,
      "outputs": [
        {
          "output_type": "stream",
          "text": [
            "  5%|| 1/20 [00:09<02:52,  9.09s/it]"
          ],
          "name": "stderr"
        },
        {
          "output_type": "stream",
          "text": [
            "epoch 0 train loss = 0.006 dev accuracy = 97.58%\n"
          ],
          "name": "stdout"
        },
        {
          "output_type": "stream",
          "text": [
            "\r 10%|| 2/20 [00:18<02:47,  9.30s/it]"
          ],
          "name": "stderr"
        },
        {
          "output_type": "stream",
          "text": [
            "epoch 1 train loss = 0.006 dev accuracy = 97.58%\n"
          ],
          "name": "stdout"
        },
        {
          "output_type": "stream",
          "text": [
            "\r 15%|| 3/20 [00:28<02:38,  9.30s/it]"
          ],
          "name": "stderr"
        },
        {
          "output_type": "stream",
          "text": [
            "epoch 2 train loss = 0.006 dev accuracy = 97.60%\n"
          ],
          "name": "stdout"
        },
        {
          "output_type": "stream",
          "text": [
            "\r 20%|| 4/20 [00:37<02:28,  9.28s/it]"
          ],
          "name": "stderr"
        },
        {
          "output_type": "stream",
          "text": [
            "epoch 3 train loss = 0.006 dev accuracy = 97.61%\n"
          ],
          "name": "stdout"
        },
        {
          "output_type": "stream",
          "text": [
            "\r 25%|| 5/20 [00:46<02:17,  9.17s/it]"
          ],
          "name": "stderr"
        },
        {
          "output_type": "stream",
          "text": [
            "epoch 4 train loss = 0.006 dev accuracy = 97.61%\n"
          ],
          "name": "stdout"
        },
        {
          "output_type": "stream",
          "text": [
            "\r 30%|| 6/20 [00:55<02:08,  9.19s/it]"
          ],
          "name": "stderr"
        },
        {
          "output_type": "stream",
          "text": [
            "epoch 5 train loss = 0.006 dev accuracy = 97.61%\n"
          ],
          "name": "stdout"
        },
        {
          "output_type": "stream",
          "text": [
            "\r 35%|| 7/20 [01:04<01:58,  9.15s/it]"
          ],
          "name": "stderr"
        },
        {
          "output_type": "stream",
          "text": [
            "epoch 6 train loss = 0.005 dev accuracy = 97.61%\n"
          ],
          "name": "stdout"
        },
        {
          "output_type": "stream",
          "text": [
            "\r 40%|| 8/20 [01:14<01:50,  9.22s/it]"
          ],
          "name": "stderr"
        },
        {
          "output_type": "stream",
          "text": [
            "epoch 7 train loss = 0.005 dev accuracy = 97.61%\n"
          ],
          "name": "stdout"
        },
        {
          "output_type": "stream",
          "text": [
            "\r 45%|| 9/20 [01:23<01:41,  9.25s/it]"
          ],
          "name": "stderr"
        },
        {
          "output_type": "stream",
          "text": [
            "epoch 8 train loss = 0.005 dev accuracy = 97.62%\n"
          ],
          "name": "stdout"
        },
        {
          "output_type": "stream",
          "text": [
            "\r 50%|| 10/20 [01:32<01:32,  9.30s/it]"
          ],
          "name": "stderr"
        },
        {
          "output_type": "stream",
          "text": [
            "epoch 9 train loss = 0.005 dev accuracy = 97.61%\n"
          ],
          "name": "stdout"
        },
        {
          "output_type": "stream",
          "text": [
            "\r 55%|| 11/20 [01:42<01:23,  9.30s/it]"
          ],
          "name": "stderr"
        },
        {
          "output_type": "stream",
          "text": [
            "epoch 10 train loss = 0.005 dev accuracy = 97.62%\n"
          ],
          "name": "stdout"
        },
        {
          "output_type": "stream",
          "text": [
            "\r 60%|| 12/20 [01:51<01:14,  9.35s/it]"
          ],
          "name": "stderr"
        },
        {
          "output_type": "stream",
          "text": [
            "epoch 11 train loss = 0.005 dev accuracy = 97.63%\n"
          ],
          "name": "stdout"
        },
        {
          "output_type": "stream",
          "text": [
            "\r 65%|| 13/20 [02:00<01:04,  9.28s/it]"
          ],
          "name": "stderr"
        },
        {
          "output_type": "stream",
          "text": [
            "epoch 12 train loss = 0.005 dev accuracy = 97.61%\n"
          ],
          "name": "stdout"
        },
        {
          "output_type": "stream",
          "text": [
            "\r 70%|| 14/20 [02:09<00:55,  9.29s/it]"
          ],
          "name": "stderr"
        },
        {
          "output_type": "stream",
          "text": [
            "epoch 13 train loss = 0.005 dev accuracy = 97.62%\n"
          ],
          "name": "stdout"
        },
        {
          "output_type": "stream",
          "text": [
            "\r 75%|| 15/20 [02:19<00:46,  9.37s/it]"
          ],
          "name": "stderr"
        },
        {
          "output_type": "stream",
          "text": [
            "epoch 14 train loss = 0.004 dev accuracy = 97.62%\n"
          ],
          "name": "stdout"
        },
        {
          "output_type": "stream",
          "text": [
            "\r 80%|| 16/20 [02:28<00:37,  9.32s/it]"
          ],
          "name": "stderr"
        },
        {
          "output_type": "stream",
          "text": [
            "epoch 15 train loss = 0.004 dev accuracy = 97.62%\n"
          ],
          "name": "stdout"
        },
        {
          "output_type": "stream",
          "text": [
            "\r 85%|| 17/20 [02:37<00:27,  9.24s/it]"
          ],
          "name": "stderr"
        },
        {
          "output_type": "stream",
          "text": [
            "epoch 16 train loss = 0.004 dev accuracy = 97.63%\n"
          ],
          "name": "stdout"
        },
        {
          "output_type": "stream",
          "text": [
            "\r 90%|| 18/20 [02:46<00:18,  9.17s/it]"
          ],
          "name": "stderr"
        },
        {
          "output_type": "stream",
          "text": [
            "epoch 17 train loss = 0.004 dev accuracy = 97.63%\n"
          ],
          "name": "stdout"
        },
        {
          "output_type": "stream",
          "text": [
            "\r 95%|| 19/20 [02:55<00:09,  9.15s/it]"
          ],
          "name": "stderr"
        },
        {
          "output_type": "stream",
          "text": [
            "epoch 18 train loss = 0.004 dev accuracy = 97.62%\n"
          ],
          "name": "stdout"
        },
        {
          "output_type": "stream",
          "text": [
            "\r100%|| 20/20 [03:04<00:00,  9.12s/it]"
          ],
          "name": "stderr"
        },
        {
          "output_type": "stream",
          "text": [
            "epoch 19 train loss = 0.004 dev accuracy = 97.62%\n",
            "best dev accuracy = 97.63%\n"
          ],
          "name": "stdout"
        },
        {
          "output_type": "stream",
          "text": [
            "\n"
          ],
          "name": "stderr"
        },
        {
          "output_type": "execute_result",
          "data": {
            "text/plain": [
              "[<matplotlib.lines.Line2D at 0x7f348629c518>]"
            ]
          },
          "metadata": {
            "tags": []
          },
          "execution_count": 42
        },
        {
          "output_type": "display_data",
          "data": {
            "image/png": "[encoded data removed]",
            "text/plain": [
              "<Figure size 432x288 with 1 Axes>"
            ]
          },
          "metadata": {
            "tags": []
          }
        }
      ]
    },
    {
      "cell_type": "code",
      "metadata": {
        "id": "-D0_d51juv6N",
        "colab_type": "code",
        "colab": {}
      },
      "source": [
        ""
      ],
      "execution_count": 0,
      "outputs": []
    }
  ]
}